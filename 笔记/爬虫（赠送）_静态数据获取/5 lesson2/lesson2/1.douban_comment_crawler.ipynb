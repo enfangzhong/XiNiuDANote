{
 "cells": [
  {
   "cell_type": "markdown",
   "metadata": {},
   "source": [
    "## 爬取豆瓣电影评论"
   ]
  },
  {
   "cell_type": "markdown",
   "metadata": {},
   "source": [
    "### 导入需要的库"
   ]
  },
  {
   "cell_type": "code",
   "execution_count": 1,
   "metadata": {
    "collapsed": true
   },
   "outputs": [],
   "source": [
    "import sys\n",
    "import requests\n",
    "import time"
   ]
  },
  {
   "cell_type": "markdown",
   "metadata": {},
   "source": [
    "### 设置url和http头"
   ]
  },
  {
   "cell_type": "code",
   "execution_count": 2,
   "metadata": {
    "collapsed": true
   },
   "outputs": [],
   "source": [
    "headers = {\n",
    "    'User-Agent':'Mozilla/5.0 (Windows NT 6.1; WOW64) AppleWebKit/537.36 (KHTML, like Gecko) Chrome/47.0.2526.80 Safari/537.36 Core/1.47.933.400 QQBrowser/9.4.8699.400',\n",
    "}\n",
    "url = 'https://movie.douban.com/subject/20495023/comments'"
   ]
  },
  {
   "cell_type": "markdown",
   "metadata": {},
   "source": [
    "### 获取数据"
   ]
  },
  {
   "cell_type": "code",
   "execution_count": 3,
   "metadata": {
    "collapsed": true
   },
   "outputs": [],
   "source": [
    "data = requests.get(url, headers=headers)"
   ]
  },
  {
   "cell_type": "markdown",
   "metadata": {},
   "source": [
    "### 查看编码"
   ]
  },
  {
   "cell_type": "code",
   "execution_count": 4,
   "metadata": {},
   "outputs": [
    {
     "data": {
      "text/plain": [
       "'utf-8'"
      ]
     },
     "execution_count": 4,
     "metadata": {},
     "output_type": "execute_result"
    }
   ],
   "source": [
    "data.encoding"
   ]
  },
  {
   "cell_type": "code",
   "execution_count": 5,
   "metadata": {},
   "outputs": [
    {
     "data": {
      "text/plain": [
       "200"
      ]
     },
     "execution_count": 5,
     "metadata": {},
     "output_type": "execute_result"
    }
   ],
   "source": [
    "data.status_code"
   ]
  },
  {
   "cell_type": "markdown",
   "metadata": {},
   "source": [
    "### lxml与解析\n",
    "大家可以利用BeautifulSoup做解析，我们换一种更高效的解析器，叫做lxml，会通过Xpath路径表达式来定位节点位置。"
   ]
  },
  {
   "cell_type": "code",
   "execution_count": 6,
   "metadata": {},
   "outputs": [],
   "source": [
    "from lxml import etree\n",
    "selector = etree.HTML(data.text)"
   ]
  },
  {
   "cell_type": "markdown",
   "metadata": {},
   "source": [
    "### 抽取所有评论区域"
   ]
  },
  {
   "cell_type": "code",
   "execution_count": 7,
   "metadata": {},
   "outputs": [],
   "source": [
    "comments = selector.xpath('//div[@class=\"comment\"]')"
   ]
  },
  {
   "cell_type": "markdown",
   "metadata": {},
   "source": [
    "### 对评论区进行解析"
   ]
  },
  {
   "cell_type": "code",
   "execution_count": 25,
   "metadata": {
    "collapsed": true
   },
   "outputs": [],
   "source": [
    "# 初始化4个list用于存储信息\n",
    "users = []\n",
    "users_url = []\n",
    "stars = []\n",
    "comment_texts = []"
   ]
  },
  {
   "cell_type": "code",
   "execution_count": 26,
   "metadata": {},
   "outputs": [],
   "source": [
    "for comment in comments:\n",
    "    user = comment.xpath('.//h3/span[2]/a/text()')[0]\n",
    "    user_url = comment.xpath('.//h3/span[2]/a/@href')[0]\n",
    "    star = comment.xpath('.//h3/span[2]/span[2]/@class')[0][7:8]\n",
    "    comment_text = comment.xpath('.//p/text()')[0].strip()\n",
    "    \n",
    "    users.append(user)\n",
    "    users_url.append(user_url)\n",
    "    stars.append(star)\n",
    "    comment_texts.append(comment_text)"
   ]
  },
  {
   "cell_type": "markdown",
   "metadata": {},
   "source": [
    "### 组合成数据帧"
   ]
  },
  {
   "cell_type": "code",
   "execution_count": 17,
   "metadata": {
    "collapsed": true
   },
   "outputs": [],
   "source": [
    "comment_dic = {'user':users, 'user_url':users_url, 'star':stars, 'comments':comment_texts}"
   ]
  },
  {
   "cell_type": "code",
   "execution_count": 18,
   "metadata": {},
   "outputs": [],
   "source": [
    "import pandas as pd\n",
    "comment_df = pd.DataFrame(comment_dic)"
   ]
  },
  {
   "cell_type": "code",
   "execution_count": 19,
   "metadata": {},
   "outputs": [
    {
     "data": {
      "text/html": [
       "<div>\n",
       "<table border=\"1\" class=\"dataframe\">\n",
       "  <thead>\n",
       "    <tr style=\"text-align: right;\">\n",
       "      <th></th>\n",
       "      <th>comments</th>\n",
       "      <th>star</th>\n",
       "      <th>user</th>\n",
       "      <th>user_url</th>\n",
       "    </tr>\n",
       "  </thead>\n",
       "  <tbody>\n",
       "    <tr>\n",
       "      <th>0</th>\n",
       "      <td>供奉的遗像是牵引家人回家的通道，驻留的记忆是保持亡灵存续的神力，热闹的音乐是唤醒思念启封的药...</td>\n",
       "      <td>5</td>\n",
       "      <td>西楼尘</td>\n",
       "      <td>https://www.douban.com/people/xilouchen/</td>\n",
       "    </tr>\n",
       "    <tr>\n",
       "      <th>1</th>\n",
       "      <td>邻座的女孩哭倒在我怀里啊电影多么美妙！</td>\n",
       "      <td>5</td>\n",
       "      <td>nek</td>\n",
       "      <td>https://www.douban.com/people/qrzf/</td>\n",
       "    </tr>\n",
       "    <tr>\n",
       "      <th>2</th>\n",
       "      <td>我们是人类的一分子，而人类是充满激情的。医学、法律、商业、科技，这些都是崇高的追求，足以支撑...</td>\n",
       "      <td>5</td>\n",
       "      <td>Juillet.🌳</td>\n",
       "      <td>https://www.douban.com/people/vip_fiona/</td>\n",
       "    </tr>\n",
       "    <tr>\n",
       "      <th>3</th>\n",
       "      <td>广州试片会。主持人在现场透露：Coco原本涉及到亡灵题材，是不能引进的。但是在过审时，当场看...</td>\n",
       "      <td>5</td>\n",
       "      <td>帝月</td>\n",
       "      <td>https://www.douban.com/people/steve647/</td>\n",
       "    </tr>\n",
       "    <tr>\n",
       "      <th>4</th>\n",
       "      <td>11月1日亡灵节当天，墨西哥城的影院里，隔壁座儿的小男孩画着鬼脸儿穿着骷髅服，老奶奶抱着万寿...</td>\n",
       "      <td>5</td>\n",
       "      <td>小九儿</td>\n",
       "      <td>https://www.douban.com/people/cloudy20011128/</td>\n",
       "    </tr>\n",
       "    <tr>\n",
       "      <th>5</th>\n",
       "      <td>第一次觉得死后世界通往人间的万寿菊之桥和七夕鹊桥是一样的原理，爱不分种类是共通的，相见是因为...</td>\n",
       "      <td>5</td>\n",
       "      <td>朽木立夏</td>\n",
       "      <td>https://www.douban.com/people/lassiedusky/</td>\n",
       "    </tr>\n",
       "    <tr>\n",
       "      <th>6</th>\n",
       "      <td>无后同性恋们的一场极大的噩梦。</td>\n",
       "      <td>3</td>\n",
       "      <td>小歪</td>\n",
       "      <td>https://www.douban.com/people/35552430/</td>\n",
       "    </tr>\n",
       "    <tr>\n",
       "      <th>7</th>\n",
       "      <td>皮克斯保持原创的又一巅峰，回忆与遗忘的情感核心，在家庭、音乐、梦想、冒险的故事线下饱满溢出银...</td>\n",
       "      <td>5</td>\n",
       "      <td>影志</td>\n",
       "      <td>https://www.douban.com/people/tjz230/</td>\n",
       "    </tr>\n",
       "    <tr>\n",
       "      <th>8</th>\n",
       "      <td>满分。毕竟我已经很久没有看个电影哭得像个小孩子了 似乎大家又要说起那句老话：电影是绝佳的造梦...</td>\n",
       "      <td>5</td>\n",
       "      <td>虎哥</td>\n",
       "      <td>https://www.douban.com/people/57460299/</td>\n",
       "    </tr>\n",
       "    <tr>\n",
       "      <th>9</th>\n",
       "      <td>不得不服皮克斯，一边和你探讨梦想、成功、家庭的意义；一边用各种充满想象力的情节、画面、音乐，...</td>\n",
       "      <td>5</td>\n",
       "      <td>阿德</td>\n",
       "      <td>https://www.douban.com/people/joearde/</td>\n",
       "    </tr>\n",
       "    <tr>\n",
       "      <th>10</th>\n",
       "      <td>亲情催泪弹。所以，动画会不会好看，除了技术，更重要的还是如何讲好故事，把感情放进去，借作品把...</td>\n",
       "      <td>4</td>\n",
       "      <td>桃桃淘电影</td>\n",
       "      <td>https://www.douban.com/people/qijiuzhiyue/</td>\n",
       "    </tr>\n",
       "    <tr>\n",
       "      <th>11</th>\n",
       "      <td>一个基于文化传统的完整世界观，挖掘了死亡与回忆的意义。绚烂热闹的亡灵界令人神往，皮克斯技术上...</td>\n",
       "      <td>4</td>\n",
       "      <td>Luc</td>\n",
       "      <td>https://www.douban.com/people/LucFrance/</td>\n",
       "    </tr>\n",
       "    <tr>\n",
       "      <th>12</th>\n",
       "      <td>人有三次死亡。第一次是生物学的死亡；第二次是社会宣布你死亡；第三次是最后一个记得你的人离开这...</td>\n",
       "      <td>5</td>\n",
       "      <td>Kirara酱</td>\n",
       "      <td>https://www.douban.com/people/crab802/</td>\n",
       "    </tr>\n",
       "    <tr>\n",
       "      <th>13</th>\n",
       "      <td>麻烦说比头脑特工队好的适可而止，coco这烂大街的设定真的被头脑完爆。只是一些观众更吃coc...</td>\n",
       "      <td>4</td>\n",
       "      <td>羚羊的灵魂</td>\n",
       "      <td>https://www.douban.com/people/clzleo/</td>\n",
       "    </tr>\n",
       "    <tr>\n",
       "      <th>14</th>\n",
       "      <td>死后世界还是这么三六九等，穷逼死了还是穷逼，那还不如被快点遗忘消失掉啊！</td>\n",
       "      <td>5</td>\n",
       "      <td>王大根</td>\n",
       "      <td>https://www.douban.com/people/diewithme/</td>\n",
       "    </tr>\n",
       "    <tr>\n",
       "      <th>15</th>\n",
       "      <td>看着看着就哭了，哭了有至少三次。片头叙事的载体与手法很巧妙，时空流畅地穿梭于缤纷色彩中。配乐...</td>\n",
       "      <td>5</td>\n",
       "      <td>季霖</td>\n",
       "      <td>https://www.douban.com/people/joincaroline/</td>\n",
       "    </tr>\n",
       "    <tr>\n",
       "      <th>16</th>\n",
       "      <td>很励志，倾听自己的心声，追求梦想，又强调了家庭的重要性，既有欢声笑语，又催人泪下。即使离世了...</td>\n",
       "      <td>5</td>\n",
       "      <td>iriselite</td>\n",
       "      <td>https://www.douban.com/people/iriselite/</td>\n",
       "    </tr>\n",
       "    <tr>\n",
       "      <th>17</th>\n",
       "      <td>温馨感人的皮克斯小品故事，以宏大的鬼魂世界观讲述家庭和梦想的矛盾。本质上还是一部穿越类型电影...</td>\n",
       "      <td>4</td>\n",
       "      <td>西帕克</td>\n",
       "      <td>https://www.douban.com/people/colinpark/</td>\n",
       "    </tr>\n",
       "    <tr>\n",
       "      <th>18</th>\n",
       "      <td>造另类世界一直是皮克斯的最强项，而至少从视觉上说，这里的死域是我最喜欢的皮克斯世界了，亡灵节...</td>\n",
       "      <td>5</td>\n",
       "      <td>汽车大师</td>\n",
       "      <td>https://www.douban.com/people/cantona_x/</td>\n",
       "    </tr>\n",
       "    <tr>\n",
       "      <th>19</th>\n",
       "      <td>9分电影，比头脑特工队好，比肩瓦力，故事欢乐流畅，没有刻意煽情。亡灵的故事，画面却是暖色调，...</td>\n",
       "      <td>5</td>\n",
       "      <td>Mallory</td>\n",
       "      <td>https://www.douban.com/people/mallory/</td>\n",
       "    </tr>\n",
       "  </tbody>\n",
       "</table>\n",
       "</div>"
      ],
      "text/plain": [
       "                                             comments star       user  \\\n",
       "0   供奉的遗像是牵引家人回家的通道，驻留的记忆是保持亡灵存续的神力，热闹的音乐是唤醒思念启封的药...    5        西楼尘   \n",
       "1                                 邻座的女孩哭倒在我怀里啊电影多么美妙！    5        nek   \n",
       "2   我们是人类的一分子，而人类是充满激情的。医学、法律、商业、科技，这些都是崇高的追求，足以支撑...    5  Juillet.🌳   \n",
       "3   广州试片会。主持人在现场透露：Coco原本涉及到亡灵题材，是不能引进的。但是在过审时，当场看...    5         帝月   \n",
       "4   11月1日亡灵节当天，墨西哥城的影院里，隔壁座儿的小男孩画着鬼脸儿穿着骷髅服，老奶奶抱着万寿...    5        小九儿   \n",
       "5   第一次觉得死后世界通往人间的万寿菊之桥和七夕鹊桥是一样的原理，爱不分种类是共通的，相见是因为...    5       朽木立夏   \n",
       "6                                     无后同性恋们的一场极大的噩梦。    3         小歪   \n",
       "7   皮克斯保持原创的又一巅峰，回忆与遗忘的情感核心，在家庭、音乐、梦想、冒险的故事线下饱满溢出银...    5         影志   \n",
       "8   满分。毕竟我已经很久没有看个电影哭得像个小孩子了 似乎大家又要说起那句老话：电影是绝佳的造梦...    5         虎哥   \n",
       "9   不得不服皮克斯，一边和你探讨梦想、成功、家庭的意义；一边用各种充满想象力的情节、画面、音乐，...    5         阿德   \n",
       "10  亲情催泪弹。所以，动画会不会好看，除了技术，更重要的还是如何讲好故事，把感情放进去，借作品把...    4      桃桃淘电影   \n",
       "11  一个基于文化传统的完整世界观，挖掘了死亡与回忆的意义。绚烂热闹的亡灵界令人神往，皮克斯技术上...    4        Luc   \n",
       "12  人有三次死亡。第一次是生物学的死亡；第二次是社会宣布你死亡；第三次是最后一个记得你的人离开这...    5    Kirara酱   \n",
       "13  麻烦说比头脑特工队好的适可而止，coco这烂大街的设定真的被头脑完爆。只是一些观众更吃coc...    4      羚羊的灵魂   \n",
       "14               死后世界还是这么三六九等，穷逼死了还是穷逼，那还不如被快点遗忘消失掉啊！    5        王大根   \n",
       "15  看着看着就哭了，哭了有至少三次。片头叙事的载体与手法很巧妙，时空流畅地穿梭于缤纷色彩中。配乐...    5         季霖   \n",
       "16  很励志，倾听自己的心声，追求梦想，又强调了家庭的重要性，既有欢声笑语，又催人泪下。即使离世了...    5  iriselite   \n",
       "17  温馨感人的皮克斯小品故事，以宏大的鬼魂世界观讲述家庭和梦想的矛盾。本质上还是一部穿越类型电影...    4        西帕克   \n",
       "18  造另类世界一直是皮克斯的最强项，而至少从视觉上说，这里的死域是我最喜欢的皮克斯世界了，亡灵节...    5       汽车大师   \n",
       "19  9分电影，比头脑特工队好，比肩瓦力，故事欢乐流畅，没有刻意煽情。亡灵的故事，画面却是暖色调，...    5    Mallory   \n",
       "\n",
       "                                         user_url  \n",
       "0        https://www.douban.com/people/xilouchen/  \n",
       "1             https://www.douban.com/people/qrzf/  \n",
       "2        https://www.douban.com/people/vip_fiona/  \n",
       "3         https://www.douban.com/people/steve647/  \n",
       "4   https://www.douban.com/people/cloudy20011128/  \n",
       "5      https://www.douban.com/people/lassiedusky/  \n",
       "6         https://www.douban.com/people/35552430/  \n",
       "7           https://www.douban.com/people/tjz230/  \n",
       "8         https://www.douban.com/people/57460299/  \n",
       "9          https://www.douban.com/people/joearde/  \n",
       "10     https://www.douban.com/people/qijiuzhiyue/  \n",
       "11       https://www.douban.com/people/LucFrance/  \n",
       "12         https://www.douban.com/people/crab802/  \n",
       "13          https://www.douban.com/people/clzleo/  \n",
       "14       https://www.douban.com/people/diewithme/  \n",
       "15    https://www.douban.com/people/joincaroline/  \n",
       "16       https://www.douban.com/people/iriselite/  \n",
       "17       https://www.douban.com/people/colinpark/  \n",
       "18       https://www.douban.com/people/cantona_x/  \n",
       "19         https://www.douban.com/people/mallory/  "
      ]
     },
     "execution_count": 19,
     "metadata": {},
     "output_type": "execute_result"
    }
   ],
   "source": [
    "comment_df"
   ]
  },
  {
   "cell_type": "code",
   "execution_count": null,
   "metadata": {
    "collapsed": true
   },
   "outputs": [],
   "source": []
  }
 ],
 "metadata": {
  "kernelspec": {
   "display_name": "Python 2",
   "language": "python",
   "name": "python2"
  },
  "language_info": {
   "codemirror_mode": {
    "name": "ipython",
    "version": 2
   },
   "file_extension": ".py",
   "mimetype": "text/x-python",
   "name": "python",
   "nbconvert_exporter": "python",
   "pygments_lexer": "ipython2",
   "version": "2.7.13"
  }
 },
 "nbformat": 4,
 "nbformat_minor": 1
}
