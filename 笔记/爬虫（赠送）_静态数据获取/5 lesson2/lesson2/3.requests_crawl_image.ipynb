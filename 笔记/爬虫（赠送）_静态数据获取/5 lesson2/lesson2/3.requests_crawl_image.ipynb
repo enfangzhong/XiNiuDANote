{
 "cells": [
  {
   "cell_type": "markdown",
   "metadata": {},
   "source": [
    "## requests爬取图片"
   ]
  },
  {
   "cell_type": "markdown",
   "metadata": {},
   "source": [
    "### 导入库函数"
   ]
  },
  {
   "cell_type": "code",
   "execution_count": 1,
   "metadata": {
    "collapsed": true
   },
   "outputs": [],
   "source": [
    "import requests"
   ]
  },
  {
   "cell_type": "markdown",
   "metadata": {},
   "source": [
    "### 打开网页，指定编码"
   ]
  },
  {
   "cell_type": "code",
   "execution_count": 2,
   "metadata": {
    "collapsed": true
   },
   "outputs": [],
   "source": [
    "url = 'http://tieba.baidu.com/p/5346036052'\n",
    "html = requests.get(url)\n",
    "html.encoding = 'utf-8'"
   ]
  },
  {
   "cell_type": "markdown",
   "metadata": {},
   "source": [
    "### 正则获取图像url"
   ]
  },
  {
   "cell_type": "code",
   "execution_count": 3,
   "metadata": {},
   "outputs": [],
   "source": [
    "from lxml import etree\n",
    "selector = etree.HTML(html.text)"
   ]
  },
  {
   "cell_type": "code",
   "execution_count": 4,
   "metadata": {
    "collapsed": true
   },
   "outputs": [],
   "source": [
    "image_url = selector.xpath('//img[@class=\"BDE_Image\"]/@src')"
   ]
  },
  {
   "cell_type": "code",
   "execution_count": 6,
   "metadata": {},
   "outputs": [
    {
     "data": {
      "text/plain": [
       "['http://imgsrc.baidu.com/forum/w%3D580/sign=b6b0df625d4e9258a63486e6ac83d1d1/60cde403738da9778681b12dbb51f8198718e3e3.jpg',\n",
       " 'http://imgsrc.baidu.com/forum/w%3D580/sign=e3ee0ee19a2397ddd679980c6983b216/e9a0ee039245d68852e985a2afc27d1ed31b24ad.jpg',\n",
       " 'http://imgsrc.baidu.com/forum/w%3D580/sign=67fafe294a34970a47731027a5cad1c0/ad8b357f9e2f0708e7111c06e224b899a901f279.jpg',\n",
       " 'http://imgsrc.baidu.com/forum/w%3D580/sign=c11a7e5a3efae6cd0cb4ab693fb20f9e/201be01fbe096b63a015c13d07338744ebf8ac28.jpg']"
      ]
     },
     "execution_count": 6,
     "metadata": {},
     "output_type": "execute_result"
    }
   ],
   "source": [
    "image_url"
   ]
  },
  {
   "cell_type": "markdown",
   "metadata": {},
   "source": [
    "### 图像写入文件"
   ]
  },
  {
   "cell_type": "code",
   "execution_count": 7,
   "metadata": {},
   "outputs": [],
   "source": [
    "img = requests.get(image_url[0])\n",
    "with open('baidu_tieba.jpg', 'ab') as f:\n",
    "    f.write(img.content)\n",
    "    f.close()"
   ]
  }
 ],
 "metadata": {
  "kernelspec": {
   "display_name": "Python 2",
   "language": "python",
   "name": "python2"
  },
  "language_info": {
   "codemirror_mode": {
    "name": "ipython",
    "version": 2
   },
   "file_extension": ".py",
   "mimetype": "text/x-python",
   "name": "python",
   "nbconvert_exporter": "python",
   "pygments_lexer": "ipython2",
   "version": "2.7.13"
  }
 },
 "nbformat": 4,
 "nbformat_minor": 1
}
