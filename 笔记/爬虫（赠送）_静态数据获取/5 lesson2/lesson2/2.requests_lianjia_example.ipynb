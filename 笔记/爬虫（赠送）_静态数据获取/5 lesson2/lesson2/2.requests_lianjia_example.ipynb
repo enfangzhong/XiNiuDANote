{
 "cells": [
  {
   "cell_type": "markdown",
   "metadata": {},
   "source": [
    "## 用requests抓取链家网信息"
   ]
  },
  {
   "cell_type": "markdown",
   "metadata": {},
   "source": [
    "![](./images/lianjia.png)"
   ]
  },
  {
   "cell_type": "markdown",
   "metadata": {},
   "source": [
    "来动手做一个练习，做到学以致用。<br>\n",
    "这次，我们来爬取链家网的一些内容，用的工具依旧是大家熟悉的requests和BeautifulSoup"
   ]
  },
  {
   "cell_type": "markdown",
   "metadata": {},
   "source": [
    "### 1.准备工作"
   ]
  },
  {
   "cell_type": "markdown",
   "metadata": {},
   "source": [
    "编写爬虫前的准备工作，我们需要导入用到的库，这里主要使用的是requests和lxml两个。还有一个Time库，负责设置每次抓取的休息时间。"
   ]
  },
  {
   "cell_type": "code",
   "execution_count": 1,
   "metadata": {
    "collapsed": true
   },
   "outputs": [],
   "source": [
    "import requests\n",
    "import time"
   ]
  },
  {
   "cell_type": "markdown",
   "metadata": {},
   "source": [
    "### 2.抓取列表页"
   ]
  },
  {
   "cell_type": "markdown",
   "metadata": {},
   "source": [
    "开始抓取前当然应该了解一下目标网站URL结构咯。<br>\n",
    "链家网的二手房列表页面共有100个，URL结构为http://bj.lianjia.com/ershoufang/pg9/ \n",
    "其中\n",
    "\n",
    "- bj表示城市\n",
    "- /ershoufang/是频道名称\n",
    "- pg9是页面码。\n",
    "\n",
    "我们要抓取的是北京的二手房频道，所以前面的部分不会变，属于固定部分，后面的页面码需要在1-100间变化，属于可变部分。将URL分为两部分，前面的固定部分赋值给url，后面的可变部分使用for循环遍历页面。"
   ]
  },
  {
   "cell_type": "code",
   "execution_count": 4,
   "metadata": {
    "collapsed": true
   },
   "outputs": [],
   "source": [
    "url = 'https://bj.lianjia.com/ershoufang/'\n",
    "page = 'pg'"
   ]
  },
  {
   "cell_type": "markdown",
   "metadata": {},
   "source": [
    "这里提一个小小的醒，我们最好在http请求中设置一个头部信息，否则很容易被封ip。头部信息网上有很多现成的，也可以使用httpwatch等工具来查看。"
   ]
  },
  {
   "cell_type": "code",
   "execution_count": 3,
   "metadata": {
    "collapsed": true
   },
   "outputs": [],
   "source": [
    "#设置请求头部信息\n",
    "headers = {'User-Agent':'Mozilla/5.0 (Windows NT 6.1) AppleWebKit/537.11 (KHTML, like Gecko) Chrome/23.0.1271.64 Safari/537.11',\n",
    "'Accept':'text/html;q=0.9,*/*;q=0.8',\n",
    "'Accept-Charset':'ISO-8859-1,utf-8;q=0.7,*;q=0.3',\n",
    "'Accept-Encoding':'gzip',\n",
    "'Connection':'close',\n",
    "'Referer':'http://www.baidu.com/link?url=_andhfsjjjKRgEWkj7i9cFmYYGsisrnm2A-TN3XZDQXxvGsM9k9ZZSnikW2Yds4s&amp;amp;wd=&amp;amp;eqid=c3435a7d00146bd600000003582bfd1f'\n",
    "}"
   ]
  },
  {
   "cell_type": "markdown",
   "metadata": {},
   "source": [
    "我们使用for循环生成1-100的数字，转化格式后与前面的URL固定部分拼成要抓取的URL。这里我们设置每两个页面间隔0.5秒。抓取到的页面保存在html中。"
   ]
  },
  {
   "cell_type": "code",
   "execution_count": 5,
   "metadata": {},
   "outputs": [],
   "source": [
    "for i in range(1,2):\n",
    "    if i == 1:\n",
    "        i = str(i)\n",
    "        tmp_url = url+'/'\n",
    "        r = requests.get(url=tmp_url, headers=headers)\n",
    "        html = r.text\n",
    "    else:\n",
    "        i = str(i)\n",
    "        tmp_url = url+page+i+'/'\n",
    "        r = requests.get(url=tmp_url, headers=headers)\n",
    "        html2 = r.text\n",
    "        html += html2\n",
    "    time.sleep(2)"
   ]
  },
  {
   "cell_type": "markdown",
   "metadata": {},
   "source": [
    "### 页面解析\n",
    "页面抓取的工作算是完成了，内容在html中，下一步就要进行页面解析了。我们依旧使用xml对页面进行解析。"
   ]
  },
  {
   "cell_type": "code",
   "execution_count": 6,
   "metadata": {
    "collapsed": true
   },
   "outputs": [],
   "source": [
    "from lxml import etree\n",
    "selector = etree.HTML(html)"
   ]
  },
  {
   "cell_type": "markdown",
   "metadata": {},
   "source": [
    "完成页面解析后就可以对页面中的关键信息进行提取了。下面我们分别对房源的总价，房源信息和关注度三部分进行提取。\n",
    "把页面div标签中class=priceInfo的部分提取出来，并使用for循环将其中每个房源的总价数据存在tp中。"
   ]
  },
  {
   "cell_type": "code",
   "execution_count": 7,
   "metadata": {},
   "outputs": [],
   "source": [
    "houses = selector.xpath('//li[@class=\"clear\"]')"
   ]
  },
  {
   "cell_type": "code",
   "execution_count": 8,
   "metadata": {},
   "outputs": [
    {
     "data": {
      "text/plain": [
       "30"
      ]
     },
     "execution_count": 8,
     "metadata": {},
     "output_type": "execute_result"
    }
   ],
   "source": [
    "len(houses)"
   ]
  },
  {
   "cell_type": "code",
   "execution_count": 9,
   "metadata": {
    "collapsed": true
   },
   "outputs": [],
   "source": [
    "houses_title = []\n",
    "houses_price = []\n",
    "houses_info = []\n",
    "followers_info = []"
   ]
  },
  {
   "cell_type": "markdown",
   "metadata": {},
   "source": [
    "### 做一个统一的解析"
   ]
  },
  {
   "cell_type": "code",
   "execution_count": 14,
   "metadata": {
    "collapsed": true
   },
   "outputs": [],
   "source": [
    "for house in houses:\n",
    "    house_title = house.xpath('.//div[@class=\"title\"]/a/text()')[0]\n",
    "    house_price = house.xpath('.//div[@class=\"totalPrice\"]/span/text()')[0]\n",
    "    house_info = house.xpath('.//div[@class=\"houseInfo\"]/a/text()')[0]+house.xpath('.//div[@class=\"houseInfo\"]/text()')[0]\n",
    "    follower_info = house.xpath('.//div[@class=\"followInfo\"]/text()')[0]\n",
    "    \n",
    "    houses_title.append(house_title)\n",
    "    houses_price.append(house_price)\n",
    "    houses_info.append(house_info)\n",
    "    followers_info.append(follower_info)"
   ]
  },
  {
   "cell_type": "code",
   "execution_count": 15,
   "metadata": {
    "collapsed": true
   },
   "outputs": [],
   "source": [
    "house_dic = {'house_title':houses_title, 'house_price':houses_price, 'house_info':houses_info, 'follower_info':followers_info}"
   ]
  },
  {
   "cell_type": "code",
   "execution_count": 16,
   "metadata": {
    "collapsed": true
   },
   "outputs": [],
   "source": [
    "import pandas as pd\n",
    "house_df = pd.DataFrame(house_dic)"
   ]
  },
  {
   "cell_type": "code",
   "execution_count": 17,
   "metadata": {},
   "outputs": [
    {
     "data": {
      "text/html": [
       "<div>\n",
       "<table border=\"1\" class=\"dataframe\">\n",
       "  <thead>\n",
       "    <tr style=\"text-align: right;\">\n",
       "      <th></th>\n",
       "      <th>follower_info</th>\n",
       "      <th>house_info</th>\n",
       "      <th>house_price</th>\n",
       "      <th>house_title</th>\n",
       "    </tr>\n",
       "  </thead>\n",
       "  <tbody>\n",
       "    <tr>\n",
       "      <th>0</th>\n",
       "      <td>82人关注 / 共40次带看 / 10天以前发布</td>\n",
       "      <td>翠微中里  | 2室1厅 | 64.04平米 | 南 北 | 简装 | 无电梯</td>\n",
       "      <td>605</td>\n",
       "      <td>翠微 财政部南北两居 中间层 一年不出一套 随时可看</td>\n",
       "    </tr>\n",
       "    <tr>\n",
       "      <th>1</th>\n",
       "      <td>104人关注 / 共31次带看 / 8天以前发布</td>\n",
       "      <td>西坝河北里  | 2室1厅 | 61.6平米 | 东南 西南 | 精装 | 有电梯</td>\n",
       "      <td>450</td>\n",
       "      <td>东南向两居室 高楼层采光好 看房方便</td>\n",
       "    </tr>\n",
       "    <tr>\n",
       "      <th>2</th>\n",
       "      <td>106人关注 / 共53次带看 / 15天以前发布</td>\n",
       "      <td>三里河路5号院  | 3室1厅 | 76.38平米 | 南 北 | 简装 | 有电梯</td>\n",
       "      <td>763</td>\n",
       "      <td>正规三居室 南北通透 带电梯 朝南无遮挡 看房方便</td>\n",
       "    </tr>\n",
       "    <tr>\n",
       "      <th>3</th>\n",
       "      <td>727人关注 / 共112次带看 / 14天以前发布</td>\n",
       "      <td>西直门北大街43号院  | 2室1厅 | 58.8平米 | 南 北 | 精装 | 无电梯</td>\n",
       "      <td>520</td>\n",
       "      <td>西直门通透户型 婚房装修 交通便捷 可改三居</td>\n",
       "    </tr>\n",
       "    <tr>\n",
       "      <th>4</th>\n",
       "      <td>170人关注 / 共41次带看 / 16天以前发布</td>\n",
       "      <td>西绒线  | 3室1厅 | 130.7平米 | 南 北 | 简装</td>\n",
       "      <td>1211</td>\n",
       "      <td>西单西绒线复式三居  单价低  户型方正 看房随时</td>\n",
       "    </tr>\n",
       "    <tr>\n",
       "      <th>5</th>\n",
       "      <td>108人关注 / 共40次带看 / 23天以前发布</td>\n",
       "      <td>西罗园四区  | 2室1厅 | 64.7平米 | 南 北 | 其他 | 无电梯</td>\n",
       "      <td>348</td>\n",
       "      <td>西罗园四区 南北通透两居 全明格局</td>\n",
       "    </tr>\n",
       "    <tr>\n",
       "      <th>6</th>\n",
       "      <td>192人关注 / 共62次带看 / 16天以前发布</td>\n",
       "      <td>天通西苑二区  | 2室1厅 | 85.57平米 | 南 | 精装 | 有电梯</td>\n",
       "      <td>380</td>\n",
       "      <td>西二区，商品房满5年唯一，厅南、双卧南、精装修</td>\n",
       "    </tr>\n",
       "    <tr>\n",
       "      <th>7</th>\n",
       "      <td>65人关注 / 共35次带看 / 16天以前发布</td>\n",
       "      <td>清缘东里  | 2室1厅 | 80.75平米 | 南 北 | 精装</td>\n",
       "      <td>580</td>\n",
       "      <td>清河，清缘东里，高层两居，视野好，诚售。</td>\n",
       "    </tr>\n",
       "    <tr>\n",
       "      <th>8</th>\n",
       "      <td>259人关注 / 共54次带看 / 19天以前发布</td>\n",
       "      <td>龙旗广场  | 2室1厅 | 72.13平米 | 西南 | 简装 | 有电梯</td>\n",
       "      <td>330</td>\n",
       "      <td>龙旗广场西南向两居室，看房方便，诚心出售</td>\n",
       "    </tr>\n",
       "    <tr>\n",
       "      <th>9</th>\n",
       "      <td>96人关注 / 共49次带看 / 18天以前发布</td>\n",
       "      <td>依翠园  | 4室2厅 | 124.13平米 | 东北 | 精装</td>\n",
       "      <td>580</td>\n",
       "      <td>依翠园新岚大厦四居室，诚心出售</td>\n",
       "    </tr>\n",
       "    <tr>\n",
       "      <th>10</th>\n",
       "      <td>44人关注 / 共30次带看 / 14天以前发布</td>\n",
       "      <td>龙锦苑东四区  | 2室1厅 | 100.46平米 | 南 北 | 精装 | 无电梯</td>\n",
       "      <td>395</td>\n",
       "      <td>龙锦苑东四区 业主自住装修 诚心出售 看房方便</td>\n",
       "    </tr>\n",
       "    <tr>\n",
       "      <th>11</th>\n",
       "      <td>111人关注 / 共41次带看 / 12天以前发布</td>\n",
       "      <td>烧酒胡同3号院  | 3室1厅 | 105.33平米 | 南 北 | 简装 | 无电梯</td>\n",
       "      <td>1380</td>\n",
       "      <td>东城二环内，南北通透带西窗经典三居</td>\n",
       "    </tr>\n",
       "    <tr>\n",
       "      <th>12</th>\n",
       "      <td>77人关注 / 共48次带看 / 14天以前发布</td>\n",
       "      <td>格兰晴天  | 2室2厅 | 90.39平米 | 南 北 | 精装 | 无电梯</td>\n",
       "      <td>438</td>\n",
       "      <td>格兰晴天板楼中间层全明格局满五年业主在京无其他房产</td>\n",
       "    </tr>\n",
       "    <tr>\n",
       "      <th>13</th>\n",
       "      <td>142人关注 / 共24次带看 / 4天以前发布</td>\n",
       "      <td>德胜门西大街64号  | 2室1厅 | 59.8平米 | 东 南 | 简装</td>\n",
       "      <td>590</td>\n",
       "      <td>西城二环内带电梯的双南的两居室</td>\n",
       "    </tr>\n",
       "    <tr>\n",
       "      <th>14</th>\n",
       "      <td>60人关注 / 共37次带看 / 15天以前发布</td>\n",
       "      <td>永乐东区  | 2室1厅 | 71.03平米 | 南 | 精装 | 无电梯</td>\n",
       "      <td>359</td>\n",
       "      <td>鲁谷永乐东区 满五唯一 中间层板楼</td>\n",
       "    </tr>\n",
       "    <tr>\n",
       "      <th>15</th>\n",
       "      <td>103人关注 / 共48次带看 / 1个月以前发布</td>\n",
       "      <td>万科青青家园  | 3室1厅 | 126.04平米 | 南 北 | 精装</td>\n",
       "      <td>680</td>\n",
       "      <td>万科青青家园 3室1厅 680万</td>\n",
       "    </tr>\n",
       "    <tr>\n",
       "      <th>16</th>\n",
       "      <td>23人关注 / 共23次带看 / 14天以前发布</td>\n",
       "      <td>霁月园  | 2室1厅 | 91.02平米 | 东 西 | 精装</td>\n",
       "      <td>375</td>\n",
       "      <td>滨河西区霁月园 东西通透两居室</td>\n",
       "    </tr>\n",
       "    <tr>\n",
       "      <th>17</th>\n",
       "      <td>45人关注 / 共25次带看 / 12天以前发布</td>\n",
       "      <td>佰嘉城  | 3室1厅 | 118.09平米 | 南 北 东北 | 精装 | 无电梯</td>\n",
       "      <td>450</td>\n",
       "      <td>佰嘉城  南北通透  精装三居</td>\n",
       "    </tr>\n",
       "    <tr>\n",
       "      <th>18</th>\n",
       "      <td>115人关注 / 共35次带看 / 13天以前发布</td>\n",
       "      <td>新华联家园北区  | 1室1厅 | 46.58平米 | 北 | 精装 | 有电梯</td>\n",
       "      <td>239</td>\n",
       "      <td>满五年小户型 业主诚心出售看房提前约</td>\n",
       "    </tr>\n",
       "    <tr>\n",
       "      <th>19</th>\n",
       "      <td>39人关注 / 共26次带看 / 10天以前发布</td>\n",
       "      <td>天通苑中苑  | 2室1厅 | 103.7平米 | 东南 | 毛坯 | 有电梯</td>\n",
       "      <td>385</td>\n",
       "      <td>天通苑中苑，2008年社区，东南朝向两居室</td>\n",
       "    </tr>\n",
       "    <tr>\n",
       "      <th>20</th>\n",
       "      <td>23人关注 / 共24次带看 / 14天以前发布</td>\n",
       "      <td>一品亦庄  | 2室1厅 | 119.86平米 | 南 北 | 简装</td>\n",
       "      <td>620</td>\n",
       "      <td>一品正规两居室 高楼层 视野好 南北通透</td>\n",
       "    </tr>\n",
       "    <tr>\n",
       "      <th>21</th>\n",
       "      <td>135人关注 / 共60次带看 / 5个月以前发布</td>\n",
       "      <td>天通苑中苑  | 5室2厅 | 153.93平米 | 南 北 | 简装 | 无电梯</td>\n",
       "      <td>608</td>\n",
       "      <td>商满五唯一，天通中苑复式 双卧朝南户型，带露台</td>\n",
       "    </tr>\n",
       "    <tr>\n",
       "      <th>22</th>\n",
       "      <td>74人关注 / 共38次带看 / 2个月以前发布</td>\n",
       "      <td>珠江罗马嘉园西区  | 3室1厅 | 159.7平米 | 南 | 精装 | 有电梯</td>\n",
       "      <td>1100</td>\n",
       "      <td>地铁口，双主卧大耳朵3+1，大客厅，全明格局五年唯一</td>\n",
       "    </tr>\n",
       "    <tr>\n",
       "      <th>23</th>\n",
       "      <td>106人关注 / 共62次带看 / 2个月以前发布</td>\n",
       "      <td>东湖湾一期  | 4室2厅 | 259.25平米 | 东 南 北 | 毛坯 | 有电梯</td>\n",
       "      <td>2500</td>\n",
       "      <td>东湖湾平层大四居，东南北双通透</td>\n",
       "    </tr>\n",
       "    <tr>\n",
       "      <th>24</th>\n",
       "      <td>48人关注 / 共47次带看 / 7天以前发布</td>\n",
       "      <td>前毛家湾3号  | 3室2厅 | 78.6平米 | 南 北 | 简装 | 无电梯</td>\n",
       "      <td>1178</td>\n",
       "      <td>文献央产 南北三居室大客厅餐厅 赠送一卧室</td>\n",
       "    </tr>\n",
       "    <tr>\n",
       "      <th>25</th>\n",
       "      <td>283人关注 / 共53次带看 / 20天以前发布</td>\n",
       "      <td>北京新天地  | 2室2厅 | 96.41平米 | 南 | 精装</td>\n",
       "      <td>535</td>\n",
       "      <td>不临街 双阳台  南向两居室 业主诚心出售</td>\n",
       "    </tr>\n",
       "    <tr>\n",
       "      <th>26</th>\n",
       "      <td>82人关注 / 共36次带看 / 25天以前发布</td>\n",
       "      <td>星河城西区  | 3室1厅 | 134平米 | 南 北 | 精装 | 有电梯</td>\n",
       "      <td>870</td>\n",
       "      <td>南北三居室 无遮挡 业主诚心出售 看房方便</td>\n",
       "    </tr>\n",
       "    <tr>\n",
       "      <th>27</th>\n",
       "      <td>95人关注 / 共31次带看 / 23天以前发布</td>\n",
       "      <td>石园东区  | 2室1厅 | 77.51平米 | 南 北 | 精装 | 无电梯</td>\n",
       "      <td>270</td>\n",
       "      <td>石园东区 2室1厅 270万</td>\n",
       "    </tr>\n",
       "    <tr>\n",
       "      <th>28</th>\n",
       "      <td>115人关注 / 共37次带看 / 30天以前发布</td>\n",
       "      <td>车站中里  | 2室1厅 | 66.77平米 | 南 北 | 简装 | 无电梯</td>\n",
       "      <td>265</td>\n",
       "      <td>车站中里 南北通透 满五年 明厅</td>\n",
       "    </tr>\n",
       "    <tr>\n",
       "      <th>29</th>\n",
       "      <td>145人关注 / 共31次带看 / 16天以前发布</td>\n",
       "      <td>北京北  | 2室1厅 | 81.89平米 | 东南 | 精装 | 有电梯</td>\n",
       "      <td>465</td>\n",
       "      <td>中高楼层，东南两居，可以贷款243万</td>\n",
       "    </tr>\n",
       "  </tbody>\n",
       "</table>\n",
       "</div>"
      ],
      "text/plain": [
       "                 follower_info                                    house_info  \\\n",
       "0     82人关注 / 共40次带看 / 10天以前发布       翠微中里  | 2室1厅 | 64.04平米 | 南 北 | 简装 | 无电梯   \n",
       "1     104人关注 / 共31次带看 / 8天以前发布     西坝河北里  | 2室1厅 | 61.6平米 | 东南 西南 | 精装 | 有电梯   \n",
       "2    106人关注 / 共53次带看 / 15天以前发布    三里河路5号院  | 3室1厅 | 76.38平米 | 南 北 | 简装 | 有电梯   \n",
       "3   727人关注 / 共112次带看 / 14天以前发布  西直门北大街43号院  | 2室1厅 | 58.8平米 | 南 北 | 精装 | 无电梯   \n",
       "4    170人关注 / 共41次带看 / 16天以前发布              西绒线  | 3室1厅 | 130.7平米 | 南 北 | 简装   \n",
       "5    108人关注 / 共40次带看 / 23天以前发布       西罗园四区  | 2室1厅 | 64.7平米 | 南 北 | 其他 | 无电梯   \n",
       "6    192人关注 / 共62次带看 / 16天以前发布       天通西苑二区  | 2室1厅 | 85.57平米 | 南 | 精装 | 有电梯   \n",
       "7     65人关注 / 共35次带看 / 16天以前发布             清缘东里  | 2室1厅 | 80.75平米 | 南 北 | 精装   \n",
       "8    259人关注 / 共54次带看 / 19天以前发布        龙旗广场  | 2室1厅 | 72.13平米 | 西南 | 简装 | 有电梯   \n",
       "9     96人关注 / 共49次带看 / 18天以前发布              依翠园  | 4室2厅 | 124.13平米 | 东北 | 精装   \n",
       "10    44人关注 / 共30次带看 / 14天以前发布    龙锦苑东四区  | 2室1厅 | 100.46平米 | 南 北 | 精装 | 无电梯   \n",
       "11   111人关注 / 共41次带看 / 12天以前发布   烧酒胡同3号院  | 3室1厅 | 105.33平米 | 南 北 | 简装 | 无电梯   \n",
       "12    77人关注 / 共48次带看 / 14天以前发布       格兰晴天  | 2室2厅 | 90.39平米 | 南 北 | 精装 | 无电梯   \n",
       "13    142人关注 / 共24次带看 / 4天以前发布         德胜门西大街64号  | 2室1厅 | 59.8平米 | 东 南 | 简装   \n",
       "14    60人关注 / 共37次带看 / 15天以前发布         永乐东区  | 2室1厅 | 71.03平米 | 南 | 精装 | 无电梯   \n",
       "15   103人关注 / 共48次带看 / 1个月以前发布          万科青青家园  | 3室1厅 | 126.04平米 | 南 北 | 精装   \n",
       "16    23人关注 / 共23次带看 / 14天以前发布              霁月园  | 2室1厅 | 91.02平米 | 东 西 | 精装   \n",
       "17    45人关注 / 共25次带看 / 12天以前发布    佰嘉城  | 3室1厅 | 118.09平米 | 南 北 东北 | 精装 | 无电梯   \n",
       "18   115人关注 / 共35次带看 / 13天以前发布      新华联家园北区  | 1室1厅 | 46.58平米 | 北 | 精装 | 有电梯   \n",
       "19    39人关注 / 共26次带看 / 10天以前发布       天通苑中苑  | 2室1厅 | 103.7平米 | 东南 | 毛坯 | 有电梯   \n",
       "20    23人关注 / 共24次带看 / 14天以前发布            一品亦庄  | 2室1厅 | 119.86平米 | 南 北 | 简装   \n",
       "21   135人关注 / 共60次带看 / 5个月以前发布     天通苑中苑  | 5室2厅 | 153.93平米 | 南 北 | 简装 | 无电梯   \n",
       "22    74人关注 / 共38次带看 / 2个月以前发布     珠江罗马嘉园西区  | 3室1厅 | 159.7平米 | 南 | 精装 | 有电梯   \n",
       "23   106人关注 / 共62次带看 / 2个月以前发布   东湖湾一期  | 4室2厅 | 259.25平米 | 东 南 北 | 毛坯 | 有电梯   \n",
       "24     48人关注 / 共47次带看 / 7天以前发布      前毛家湾3号  | 3室2厅 | 78.6平米 | 南 北 | 简装 | 无电梯   \n",
       "25   283人关注 / 共53次带看 / 20天以前发布              北京新天地  | 2室2厅 | 96.41平米 | 南 | 精装   \n",
       "26    82人关注 / 共36次带看 / 25天以前发布        星河城西区  | 3室1厅 | 134平米 | 南 北 | 精装 | 有电梯   \n",
       "27    95人关注 / 共31次带看 / 23天以前发布       石园东区  | 2室1厅 | 77.51平米 | 南 北 | 精装 | 无电梯   \n",
       "28   115人关注 / 共37次带看 / 30天以前发布       车站中里  | 2室1厅 | 66.77平米 | 南 北 | 简装 | 无电梯   \n",
       "29   145人关注 / 共31次带看 / 16天以前发布         北京北  | 2室1厅 | 81.89平米 | 东南 | 精装 | 有电梯   \n",
       "\n",
       "   house_price                 house_title  \n",
       "0          605  翠微 财政部南北两居 中间层 一年不出一套 随时可看  \n",
       "1          450          东南向两居室 高楼层采光好 看房方便  \n",
       "2          763   正规三居室 南北通透 带电梯 朝南无遮挡 看房方便  \n",
       "3          520      西直门通透户型 婚房装修 交通便捷 可改三居  \n",
       "4         1211   西单西绒线复式三居  单价低  户型方正 看房随时  \n",
       "5          348           西罗园四区 南北通透两居 全明格局  \n",
       "6          380     西二区，商品房满5年唯一，厅南、双卧南、精装修  \n",
       "7          580        清河，清缘东里，高层两居，视野好，诚售。  \n",
       "8          330        龙旗广场西南向两居室，看房方便，诚心出售  \n",
       "9          580             依翠园新岚大厦四居室，诚心出售  \n",
       "10         395     龙锦苑东四区 业主自住装修 诚心出售 看房方便  \n",
       "11        1380           东城二环内，南北通透带西窗经典三居  \n",
       "12         438   格兰晴天板楼中间层全明格局满五年业主在京无其他房产  \n",
       "13         590             西城二环内带电梯的双南的两居室  \n",
       "14         359           鲁谷永乐东区 满五唯一 中间层板楼  \n",
       "15         680            万科青青家园 3室1厅 680万  \n",
       "16         375             滨河西区霁月园 东西通透两居室  \n",
       "17         450             佰嘉城  南北通透  精装三居  \n",
       "18         239          满五年小户型 业主诚心出售看房提前约  \n",
       "19         385       天通苑中苑，2008年社区，东南朝向两居室  \n",
       "20         620        一品正规两居室 高楼层 视野好 南北通透  \n",
       "21         608     商满五唯一，天通中苑复式 双卧朝南户型，带露台  \n",
       "22        1100  地铁口，双主卧大耳朵3+1，大客厅，全明格局五年唯一  \n",
       "23        2500             东湖湾平层大四居，东南北双通透  \n",
       "24        1178       文献央产 南北三居室大客厅餐厅 赠送一卧室  \n",
       "25         535       不临街 双阳台  南向两居室 业主诚心出售  \n",
       "26         870       南北三居室 无遮挡 业主诚心出售 看房方便  \n",
       "27         270              石园东区 2室1厅 270万  \n",
       "28         265            车站中里 南北通透 满五年 明厅  \n",
       "29         465          中高楼层，东南两居，可以贷款243万  "
      ]
     },
     "execution_count": 17,
     "metadata": {},
     "output_type": "execute_result"
    }
   ],
   "source": [
    "house_df"
   ]
  },
  {
   "cell_type": "markdown",
   "metadata": {},
   "source": [
    "来看看爬下来的**房价数据**\n",
    "![](./images/house-price.jpg)"
   ]
  },
  {
   "cell_type": "markdown",
   "metadata": {},
   "source": [
    "提取房源信息和关注度的方法与提取房源价格的方法类似，下面是具体的代码，房源信息存储在hi中，关注度存储在fi中。"
   ]
  },
  {
   "cell_type": "code",
   "execution_count": null,
   "metadata": {},
   "outputs": [],
   "source": []
  },
  {
   "cell_type": "markdown",
   "metadata": {},
   "source": [
    "来看看**房源信息**\n",
    "![](./images/house-info.jpg)"
   ]
  },
  {
   "cell_type": "code",
   "execution_count": null,
   "metadata": {
    "collapsed": true
   },
   "outputs": [],
   "source": []
  },
  {
   "cell_type": "markdown",
   "metadata": {
    "collapsed": true
   },
   "source": [
    "再来看看关注度状况\n",
    "![](./images/house-followed.jpg)"
   ]
  },
  {
   "cell_type": "code",
   "execution_count": null,
   "metadata": {},
   "outputs": [],
   "source": []
  },
  {
   "cell_type": "markdown",
   "metadata": {},
   "source": [
    "### 清洗数据并整理到数据表中"
   ]
  },
  {
   "cell_type": "markdown",
   "metadata": {},
   "source": [
    "我们将之前爬取到的信息进行汇总，并导入pandas之中生成数据表。便于后面的分析。"
   ]
  },
  {
   "cell_type": "code",
   "execution_count": null,
   "metadata": {},
   "outputs": [],
   "source": []
  },
  {
   "cell_type": "markdown",
   "metadata": {},
   "source": [
    "很尴尬的是，大家看得到，很多信息是糊在一块的，不能直接使用，所以咱们再做一些数据提取和清洗的工作。如房源信息，在表中每个房源的小区名称，户型，面积，朝向等信息都在一个字段中，无法直接使用。需要先进行分列操作。这里的规则比较明显，每个信息间都是以竖线分割的，因此我们只需要以竖线进行分列即可。"
   ]
  },
  {
   "cell_type": "code",
   "execution_count": null,
   "metadata": {
    "collapsed": true
   },
   "outputs": [],
   "source": []
  },
  {
   "cell_type": "markdown",
   "metadata": {},
   "source": [
    "现在再来看看我们整理好的数据"
   ]
  },
  {
   "cell_type": "code",
   "execution_count": null,
   "metadata": {},
   "outputs": [],
   "source": []
  },
  {
   "cell_type": "markdown",
   "metadata": {},
   "source": [
    "把拆分后的数据拼接回原始数据中"
   ]
  },
  {
   "cell_type": "code",
   "execution_count": null,
   "metadata": {
    "collapsed": true
   },
   "outputs": [],
   "source": []
  },
  {
   "cell_type": "code",
   "execution_count": null,
   "metadata": {},
   "outputs": [],
   "source": []
  },
  {
   "cell_type": "markdown",
   "metadata": {},
   "source": [
    "使用相同的方法对房源关注度字段进行分列和拼接操作。这里的分列规则是斜杠。"
   ]
  },
  {
   "cell_type": "code",
   "execution_count": null,
   "metadata": {
    "collapsed": true
   },
   "outputs": [],
   "source": []
  },
  {
   "cell_type": "code",
   "execution_count": null,
   "metadata": {},
   "outputs": [],
   "source": []
  },
  {
   "cell_type": "markdown",
   "metadata": {},
   "source": [
    "好了，这就是咱们对链家网的部分数据爬取过程了。<br>\n",
    "跃跃欲试的宝宝们何不自己动手，再解析一些内容试试。<br>\n",
    "另外对**数据分析和可视化**感兴趣的同学，千万不要错过咱们后面的案例哦，会有后续的跟进数据分析和展示~"
   ]
  }
 ],
 "metadata": {
  "kernelspec": {
   "display_name": "Python 2",
   "language": "python",
   "name": "python2"
  },
  "language_info": {
   "codemirror_mode": {
    "name": "ipython",
    "version": 2
   },
   "file_extension": ".py",
   "mimetype": "text/x-python",
   "name": "python",
   "nbconvert_exporter": "python",
   "pygments_lexer": "ipython2",
   "version": "2.7.13"
  }
 },
 "nbformat": 4,
 "nbformat_minor": 1
}
