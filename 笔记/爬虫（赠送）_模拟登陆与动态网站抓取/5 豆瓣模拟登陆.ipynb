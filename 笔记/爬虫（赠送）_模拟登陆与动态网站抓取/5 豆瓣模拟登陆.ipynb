{
 "cells": [
  {
   "cell_type": "code",
   "execution_count": 11,
   "metadata": {
    "collapsed": false
   },
   "outputs": [],
   "source": [
    "import requests\n",
    "from lxml import etree\n",
    "from PIL import Image\n",
    "import cStringIO\n",
    "from PIL import Image\n",
    "import cStringIO\n",
    "import os\n",
    "\n",
    "session = requests.session()\n",
    "login_request = session.get('https://www.douban.com/login')\n",
    "selector = etree.HTML(login_request.content)\n",
    "#print(login_soup)\n",
    "post_data = {'source':'None', \n",
    "             'redir':'https://www.douban.com', \n",
    "             'form_email':'he__v5@163.com', \n",
    "             'form_password':'Glory05&', \n",
    "             'login':'登录'}\n",
    "captcha_img_url=selector.xpath('//img[@id=\"captcha_image\"]/@src')"
   ]
  },
  {
   "cell_type": "code",
   "execution_count": null,
   "metadata": {
    "collapsed": false
   },
   "outputs": [],
   "source": [
    "if captcha_img_url != None:\n",
    "\tpic_request = requests.get(captcha_img_url[0])\n",
    "\tpic_request = requests.get(captcha_img_url[0])\n",
    "\timg = Image.open(cStringIO.StringIO(pic_request.content))  \n",
    "\tprint('请输入你看到的字母:')\n",
    "\timg.show()\n",
    "\tstring = input('请输入验证码：')\n",
    "\tpost_data['captcha-solution'] = string\n",
    "\tcaptcha_id = selector.xpath('//input[@name=\"captcha-id\"]/@value')\n",
    "\tpost_data['captcha-id'] = captcha_id['value']\n",
    "\n",
    "print(post_data)\n",
    "\n",
    "r = session.post('https://accounts.douban.com/login', data = post_data)\n",
    "\n",
    "with open('logfile.log', 'w') as logfile:\n",
    "\tlogfile.write(r.text)"
   ]
  }
 ],
 "metadata": {
  "kernelspec": {
   "display_name": "Python 2",
   "language": "python",
   "name": "python2"
  }
 },
 "nbformat": 4,
 "nbformat_minor": 0
}
