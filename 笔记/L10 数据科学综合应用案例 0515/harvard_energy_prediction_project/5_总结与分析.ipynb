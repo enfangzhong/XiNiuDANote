{
 "cells": [
  {
   "cell_type": "markdown",
   "metadata": {},
   "source": [
    "# 5 Summary\n",
    "\n",
    "## 5.1 About the project\n",
    "\n",
    "Our goal is to <b>use time and weather to predict energy demand of buildings based on historical data</b>. The model will produce accurate energy demand forecasts that will be useful in smart grid technology.  If Harvard University can predict the energy demand of all campus buildings, they will be able to optimize the operations of chillers, boilers and energy storage systems. \n",
    "\n",
    "There are three types of energy consumption, electricity, chilled water and steam. Chilled water is for cooling and steam is for heating. Chilled water and steam are generated in center plants and are delivered to buildings, just like electricity.\n",
    "\n",
    "<img src = \"Pics/chilled water and steam.jpg\">\n",
    "Image source: http://www.compression.org/distributed-energy/district-energy-distributed-energy-deschematic-640w/\n",
    "\n",
    "\n",
    "We tried five Machine Learning methods. <b>(1) Linear Regression (LR) (2) Support Vector Regression (SVR) (3) Gaussian Process Regression (GP) (4) Random Forests (RF) and (5) K-Nearest Neighbours (KNN).</b>\n",
    "\n",
    "\n",
    "## 5.2 Findings from Exploratory Analysis\n",
    "\n",
    "### Electricity consumption pattern\n",
    "\n",
    "* Electricity shows a strong periodical pattern. You can clearly see the difference between day and night, weekdays and weekends. \n",
    "\n",
    "<img src = \"Pics/hourly electricity.png\">\n",
    "\n",
    "* It looks like during each semester, electricity use ramps up toward a peak at finals, perhaps representative of studying patterns. The students are working harder and harder toward finals. Then there is a dip after semesters end, inlcuding Christmas vacation. The electricity consumption is relatively low during January and summer terms, and spring break, when campus can be relatively empty. (Text partially contributed by Steven) \n",
    "\n",
    "<img src = \"Pics/Weekly-electricity.jpg\" style = \"width:900px; height:400px\">\n",
    "\n",
    "### Relationship between Energy Consumption and Features\n",
    "\n",
    "* Electricity is not co-related with weather data (temperature). The idea of using weather information to predict electricity will NOT work. I think it mostly depends on time/occupancy. But we can still do some pattern exploration to figure out day/night, weekday/weekend, school day/holiday electricity consumption pattern. Actually, we should have noticed that from monthly data.\n",
    "\n",
    "\n",
    "* Chilled water and steam are strongly co-related with temperature and humidity. Daily chilled water and steam consumption have a good linear relationship with cooling and heating degrees. Even simple linear regression might be already quite accurate. However, using with weather information to predict hourly chilled water and steam is not suffient.\n",
    "\n",
    "<img src=\"Pics/exploratory analysis.jpg\">"
   ]
  },
  {
   "cell_type": "markdown",
   "metadata": {},
   "source": [
    "## 5.3 Prediction Accuracy of Different Machine Learning Methods\n",
    "\n",
    "### Linear Regression\n",
    "<img src = \"Pics/summary_lr.png\">\n",
    "Advantage of the method: Simple and fast.\n",
    "\n",
    "Disadvantage of the method: Poor results for large data sets. For example, hourly prediction.\n",
    "\n",
    "### Support Vector Regression\n",
    "<img src = \"Pics/summary_svr.png\">\n",
    "\n",
    "### Gaussian Process Regression\n",
    "\n",
    "<img src = \"Pics/summary_gp.png\">\n",
    "\n",
    "### Random Forests\n",
    "<img src = \"Pics/summary_rf.png\">\n",
    "\n",
    "### K-Nearest Neighbours\n",
    "<img src = \"Pics/summary_knn.png\">"
   ]
  },
  {
   "cell_type": "markdown",
   "metadata": {},
   "source": [
    "* Please note that in Random Forests and K-Nearest Neighbours methods, the training set is larger and the test set is smaller compared with those in other methods. \n",
    "\n",
    "\n",
    "* For KNN and RF predictions, the accuracy might increase if the features are carefully selected for different type of energy. For example, steam has nothing to do with dehumidification and cooling degrees, which are features designed for chilled water. Moreover, pressure, solar radiation, wind direction and wind speed do not have an impact on energy use according to our exploratory analysis. It is meaningless to include them in the prediction.\n",
    "\n",
    "\n",
    "* Due to the time limitation, we didn't perform hourly prediction for all the methods."
   ]
  },
  {
   "cell_type": "markdown",
   "metadata": {},
   "source": [
    "#6 Conclusion\n",
    "\n",
    "<img src = \"Pics/summary_hourly2.png\">\n",
    "\n",
    "<img src = \"Pics/summary_daily2.png\">"
   ]
  },
  {
   "cell_type": "markdown",
   "metadata": {},
   "source": [
    "### Daily Consumption\n",
    "\n",
    "#### Chilled Water and Steam Prediction\n",
    "* According to exploratory analysis, Daily chilled water and steam consumption have a good linear relationship with cooling and heating degrees. Even simple linear regression could predict daily chilled water and steam consumption quite well. \n",
    "\n",
    "\n",
    "* Gaussian Process Regression and Random Forests perform slightly better than other methods in daily chilled water prediction. However, Random Forests prediction used a larger training set and smaller test set. The training test ratio is 2.4 : 1 for Random Forests and 1.1 : 1 for other methods. Therefore, it is not a fair comparison. The accuracy of RF could be lower if using the same training and test set.\n",
    "\n",
    "#### Daily Electricity\n",
    "* Daily electricity is not correlated with weather. Occupancy/schedule/study pattern have a large impact on daily electricity.\n",
    "\n",
    "\n",
    "* Gaussian Process Regression outperforms other methods.\n",
    "\n",
    "### Hourly Consumption\n",
    "\n",
    "* Hourly precition is much more difficult than daily prediction. First, the data sample is large. Therefore, it is very time-consuming to train a model, expecially for those computationally expensive methods. Second, the noise and variance in hourly consumption are much larger than daily.\n",
    "\n",
    "\n",
    "* Gaussian Process Regression did a good job predicting the hourly energy demand.\n",
    "\n",
    "\n",
    "* Linear Regression prediction used a larger training set and smaller test set. The training test ratio is 2.8 : 1 ~ 8.7 : 1 for Linear Regression and 1.1 : 1 for Gaussian Process Regression. Therefore, it is not a fair comparison. The accuracy of Linear Regression Prediction for hourly prediction could be lower if using the same training and test set.\n",
    "\n",
    "\n",
    "* Due to the time limitation, we didn't try all the methods for hourly prediction.\n",
    "\n",
    "\n",
    "### The winner is Gaussian Process Regression.\n",
    "\n",
    "* It is no doubt that Gaussian Process Regression outperforms other methods even in an <b><i>unfair</b></i> comparison. However, this does not mean Gaussian Process Regression is superior to other methods in genral. The features in Gaussian Process Regression are different from other methods. Maybe it is because we choose the right features for Gaussian Process regression.\n",
    "\n",
    "<img src=\"Pics/gp_daily steam.png\">\n",
    "A sample image of Gaussian Process Regression prediction."
   ]
  },
  {
   "cell_type": "markdown",
   "metadata": {},
   "source": [
    "#7 Discussion\n",
    "\n",
    "* We spent a lot of time cleaning the raw data. Therefore, we can only manage prediction for one building.\n",
    "\n",
    "\n",
    "* If we had more time, we would like to optimize the set of features that should be included in the prediction. For example, we could include more features such as weather data of previous hour, or even previous two hours. This is because the cooling and heating process is dynamic and there might be some delay in systems' reponse to weather. We probably could also exclude some irralevant features to reduce the time cost of training a model.\n",
    "\n",
    "\n",
    "* We shoudl have used the same training and test time scale. Please note that in daily prediction, for Random Forests and K-Nearest Neighbours methods, the training set is larger and the test set is smaller compared with those for other methods. In hourly prediction, the trainng to test ratio (number of training points divided by number of test points) of Linear Regression is much lower than Gaussian Process Regression. These are not <b><i>fair</b></i> comparison.\n",
    "\n",
    "\n",
    "* We tried our best to explain everything in the notebooks. However, there is very limited time for this project and the some part of work is trivial and difficult to explain. If there is anything unclear to you, do not heasitate to send us an email. We are happy to explain further. Please forgive any typos."
   ]
  },
  {
   "cell_type": "code",
   "execution_count": null,
   "metadata": {
    "collapsed": false
   },
   "outputs": [],
   "source": []
  }
 ],
 "metadata": {
  "kernelspec": {
   "display_name": "Python 2",
   "language": "python",
   "name": "python2"
  },
  "language_info": {
   "codemirror_mode": {
    "name": "ipython",
    "version": 2
   },
   "file_extension": ".py",
   "mimetype": "text/x-python",
   "name": "python",
   "nbconvert_exporter": "python",
   "pygments_lexer": "ipython2",
   "version": "2.7.10"
  }
 },
 "nbformat": 4,
 "nbformat_minor": 0
}
