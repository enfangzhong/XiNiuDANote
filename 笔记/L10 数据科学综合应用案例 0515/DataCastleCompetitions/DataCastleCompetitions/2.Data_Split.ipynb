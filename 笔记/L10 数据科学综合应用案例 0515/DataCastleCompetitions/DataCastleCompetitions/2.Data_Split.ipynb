{
 "cells": [
  {
   "cell_type": "code",
   "execution_count": 1,
   "metadata": {
    "collapsed": true
   },
   "outputs": [],
   "source": [
    "import pandas as pd \n",
    "import warnings \n",
    "warnings.filterwarnings(\"ignore\")\n",
    "card =  pd.read_csv(\"./input/cleaned_card.csv\",index_col='学生id')\n",
    "score =  pd.read_csv(\"./input/cleaned_score.csv\",index_col='学生id')\n",
    "data = pd.concat([score,card],axis =1).drop('学院编号', 1)"
   ]
  },
  {
   "cell_type": "code",
   "execution_count": 2,
   "metadata": {},
   "outputs": [
    {
     "data": {
      "text/html": [
       "<div>\n",
       "<style>\n",
       "    .dataframe thead tr:only-child th {\n",
       "        text-align: right;\n",
       "    }\n",
       "\n",
       "    .dataframe thead th {\n",
       "        text-align: left;\n",
       "    }\n",
       "\n",
       "    .dataframe tbody tr th {\n",
       "        vertical-align: top;\n",
       "    }\n",
       "</style>\n",
       "<table border=\"1\" class=\"dataframe\">\n",
       "  <thead>\n",
       "    <tr style=\"text-align: right;\">\n",
       "      <th></th>\n",
       "      <th>Unnamed: 0</th>\n",
       "      <th>成绩排名</th>\n",
       "      <th>消费金额</th>\n",
       "      <th>其他</th>\n",
       "      <th>图书馆</th>\n",
       "      <th>开水</th>\n",
       "      <th>教务处</th>\n",
       "      <th>文印中心</th>\n",
       "      <th>校医院</th>\n",
       "      <th>校车</th>\n",
       "      <th>洗衣房</th>\n",
       "      <th>淋浴</th>\n",
       "      <th>超市</th>\n",
       "      <th>食堂</th>\n",
       "    </tr>\n",
       "    <tr>\n",
       "      <th>学生id</th>\n",
       "      <th></th>\n",
       "      <th></th>\n",
       "      <th></th>\n",
       "      <th></th>\n",
       "      <th></th>\n",
       "      <th></th>\n",
       "      <th></th>\n",
       "      <th></th>\n",
       "      <th></th>\n",
       "      <th></th>\n",
       "      <th></th>\n",
       "      <th></th>\n",
       "      <th></th>\n",
       "      <th></th>\n",
       "    </tr>\n",
       "  </thead>\n",
       "  <tbody>\n",
       "    <tr>\n",
       "      <th>0</th>\n",
       "      <td>0.0</td>\n",
       "      <td>-1.681326</td>\n",
       "      <td>4997.56</td>\n",
       "      <td>0.00</td>\n",
       "      <td>84.40</td>\n",
       "      <td>429.58</td>\n",
       "      <td>0.0</td>\n",
       "      <td>0.3</td>\n",
       "      <td>0.0</td>\n",
       "      <td>417.49</td>\n",
       "      <td>0.00</td>\n",
       "      <td>12.30</td>\n",
       "      <td>839.68</td>\n",
       "      <td>3213.81</td>\n",
       "    </tr>\n",
       "    <tr>\n",
       "      <th>1</th>\n",
       "      <td>1.0</td>\n",
       "      <td>-1.680156</td>\n",
       "      <td>6182.69</td>\n",
       "      <td>0.00</td>\n",
       "      <td>324.20</td>\n",
       "      <td>265.97</td>\n",
       "      <td>29.3</td>\n",
       "      <td>96.4</td>\n",
       "      <td>0.0</td>\n",
       "      <td>119.40</td>\n",
       "      <td>25.02</td>\n",
       "      <td>22.50</td>\n",
       "      <td>514.30</td>\n",
       "      <td>4785.60</td>\n",
       "    </tr>\n",
       "    <tr>\n",
       "      <th>2</th>\n",
       "      <td>0.0</td>\n",
       "      <td>0.143542</td>\n",
       "      <td>4966.65</td>\n",
       "      <td>0.01</td>\n",
       "      <td>22.40</td>\n",
       "      <td>670.36</td>\n",
       "      <td>0.0</td>\n",
       "      <td>0.0</td>\n",
       "      <td>0.0</td>\n",
       "      <td>34.88</td>\n",
       "      <td>22.20</td>\n",
       "      <td>53.10</td>\n",
       "      <td>829.95</td>\n",
       "      <td>3333.75</td>\n",
       "    </tr>\n",
       "    <tr>\n",
       "      <th>3</th>\n",
       "      <td>1.0</td>\n",
       "      <td>1.629171</td>\n",
       "      <td>42.40</td>\n",
       "      <td>0.00</td>\n",
       "      <td>0.00</td>\n",
       "      <td>0.18</td>\n",
       "      <td>0.0</td>\n",
       "      <td>0.0</td>\n",
       "      <td>0.0</td>\n",
       "      <td>0.00</td>\n",
       "      <td>7.62</td>\n",
       "      <td>34.60</td>\n",
       "      <td>0.00</td>\n",
       "      <td>0.00</td>\n",
       "    </tr>\n",
       "    <tr>\n",
       "      <th>8</th>\n",
       "      <td>2.0</td>\n",
       "      <td>1.749205</td>\n",
       "      <td>11472.37</td>\n",
       "      <td>0.00</td>\n",
       "      <td>425.90</td>\n",
       "      <td>2440.94</td>\n",
       "      <td>0.0</td>\n",
       "      <td>2.6</td>\n",
       "      <td>0.0</td>\n",
       "      <td>2211.45</td>\n",
       "      <td>4.50</td>\n",
       "      <td>39.83</td>\n",
       "      <td>10.00</td>\n",
       "      <td>6337.15</td>\n",
       "    </tr>\n",
       "    <tr>\n",
       "      <th>9</th>\n",
       "      <td>3.0</td>\n",
       "      <td>1.760045</td>\n",
       "      <td>14502.91</td>\n",
       "      <td>122.26</td>\n",
       "      <td>113.73</td>\n",
       "      <td>4754.68</td>\n",
       "      <td>0.0</td>\n",
       "      <td>294.4</td>\n",
       "      <td>0.0</td>\n",
       "      <td>158.10</td>\n",
       "      <td>23.82</td>\n",
       "      <td>36.32</td>\n",
       "      <td>0.00</td>\n",
       "      <td>8999.60</td>\n",
       "    </tr>\n",
       "    <tr>\n",
       "      <th>10</th>\n",
       "      <td>4.0</td>\n",
       "      <td>-1.709162</td>\n",
       "      <td>6028.74</td>\n",
       "      <td>0.00</td>\n",
       "      <td>272.60</td>\n",
       "      <td>750.34</td>\n",
       "      <td>1.3</td>\n",
       "      <td>0.0</td>\n",
       "      <td>0.0</td>\n",
       "      <td>486.30</td>\n",
       "      <td>65.36</td>\n",
       "      <td>143.90</td>\n",
       "      <td>242.80</td>\n",
       "      <td>4066.14</td>\n",
       "    </tr>\n",
       "    <tr>\n",
       "      <th>11</th>\n",
       "      <td>5.0</td>\n",
       "      <td>-1.707670</td>\n",
       "      <td>5976.20</td>\n",
       "      <td>0.00</td>\n",
       "      <td>134.80</td>\n",
       "      <td>928.21</td>\n",
       "      <td>0.0</td>\n",
       "      <td>4.0</td>\n",
       "      <td>0.0</td>\n",
       "      <td>989.25</td>\n",
       "      <td>9.24</td>\n",
       "      <td>164.20</td>\n",
       "      <td>107.70</td>\n",
       "      <td>3638.80</td>\n",
       "    </tr>\n",
       "    <tr>\n",
       "      <th>16</th>\n",
       "      <td>2.0</td>\n",
       "      <td>-1.747632</td>\n",
       "      <td>2974.56</td>\n",
       "      <td>0.00</td>\n",
       "      <td>38.82</td>\n",
       "      <td>914.81</td>\n",
       "      <td>0.0</td>\n",
       "      <td>5.0</td>\n",
       "      <td>3.0</td>\n",
       "      <td>291.60</td>\n",
       "      <td>0.00</td>\n",
       "      <td>48.00</td>\n",
       "      <td>14.00</td>\n",
       "      <td>1659.33</td>\n",
       "    </tr>\n",
       "    <tr>\n",
       "      <th>17</th>\n",
       "      <td>3.0</td>\n",
       "      <td>-1.742198</td>\n",
       "      <td>495.85</td>\n",
       "      <td>0.00</td>\n",
       "      <td>9.50</td>\n",
       "      <td>67.05</td>\n",
       "      <td>0.0</td>\n",
       "      <td>0.0</td>\n",
       "      <td>0.0</td>\n",
       "      <td>59.00</td>\n",
       "      <td>21.60</td>\n",
       "      <td>23.90</td>\n",
       "      <td>14.80</td>\n",
       "      <td>300.00</td>\n",
       "    </tr>\n",
       "  </tbody>\n",
       "</table>\n",
       "</div>"
      ],
      "text/plain": [
       "      Unnamed: 0      成绩排名      消费金额      其他     图书馆       开水   教务处   文印中心  \\\n",
       "学生id                                                                         \n",
       "0            0.0 -1.681326   4997.56    0.00   84.40   429.58   0.0    0.3   \n",
       "1            1.0 -1.680156   6182.69    0.00  324.20   265.97  29.3   96.4   \n",
       "2            0.0  0.143542   4966.65    0.01   22.40   670.36   0.0    0.0   \n",
       "3            1.0  1.629171     42.40    0.00    0.00     0.18   0.0    0.0   \n",
       "8            2.0  1.749205  11472.37    0.00  425.90  2440.94   0.0    2.6   \n",
       "9            3.0  1.760045  14502.91  122.26  113.73  4754.68   0.0  294.4   \n",
       "10           4.0 -1.709162   6028.74    0.00  272.60   750.34   1.3    0.0   \n",
       "11           5.0 -1.707670   5976.20    0.00  134.80   928.21   0.0    4.0   \n",
       "16           2.0 -1.747632   2974.56    0.00   38.82   914.81   0.0    5.0   \n",
       "17           3.0 -1.742198    495.85    0.00    9.50    67.05   0.0    0.0   \n",
       "\n",
       "      校医院       校车    洗衣房      淋浴      超市       食堂  \n",
       "学生id                                                \n",
       "0     0.0   417.49   0.00   12.30  839.68  3213.81  \n",
       "1     0.0   119.40  25.02   22.50  514.30  4785.60  \n",
       "2     0.0    34.88  22.20   53.10  829.95  3333.75  \n",
       "3     0.0     0.00   7.62   34.60    0.00     0.00  \n",
       "8     0.0  2211.45   4.50   39.83   10.00  6337.15  \n",
       "9     0.0   158.10  23.82   36.32    0.00  8999.60  \n",
       "10    0.0   486.30  65.36  143.90  242.80  4066.14  \n",
       "11    0.0   989.25   9.24  164.20  107.70  3638.80  \n",
       "16    3.0   291.60   0.00   48.00   14.00  1659.33  \n",
       "17    0.0    59.00  21.60   23.90   14.80   300.00  "
      ]
     },
     "execution_count": 2,
     "metadata": {},
     "output_type": "execute_result"
    }
   ],
   "source": [
    "data.head(10)"
   ]
  },
  {
   "cell_type": "code",
   "execution_count": 3,
   "metadata": {},
   "outputs": [
    {
     "data": {
      "text/plain": [
       "Unnamed: 0    3538\n",
       "成绩排名          3538\n",
       "消费金额            37\n",
       "其他              37\n",
       "图书馆             37\n",
       "开水              37\n",
       "教务处             37\n",
       "文印中心            37\n",
       "校医院             37\n",
       "校车              37\n",
       "洗衣房             37\n",
       "淋浴              37\n",
       "超市              37\n",
       "食堂              37\n",
       "dtype: int64"
      ]
     },
     "execution_count": 3,
     "metadata": {},
     "output_type": "execute_result"
    }
   ],
   "source": [
    "data.isnull().sum()"
   ]
  },
  {
   "cell_type": "code",
   "execution_count": 4,
   "metadata": {},
   "outputs": [
    {
     "data": {
      "text/plain": [
       "Unnamed: 0    0\n",
       "成绩排名          0\n",
       "消费金额          0\n",
       "其他            0\n",
       "图书馆           0\n",
       "开水            0\n",
       "教务处           0\n",
       "文印中心          0\n",
       "校医院           0\n",
       "校车            0\n",
       "洗衣房           0\n",
       "淋浴            0\n",
       "超市            0\n",
       "食堂            0\n",
       "dtype: int64"
      ]
     },
     "execution_count": 4,
     "metadata": {},
     "output_type": "execute_result"
    }
   ],
   "source": [
    "# 使用均值替换nan\n",
    "data.fillna(data.mean(),inplace=True)\n",
    "data.isnull().sum()"
   ]
  },
  {
   "cell_type": "code",
   "execution_count": 5,
   "metadata": {
    "collapsed": true
   },
   "outputs": [],
   "source": [
    "import pandas as pd\n",
    "ID_test =  pd.read_csv(\"./input/studentID_test.txt\", names=['学生id','助学金金额'], encoding='utf-8')\n",
    "ID_sub_train = pd.read_csv(\"./input/subsidy_train.txt\", names=['学生id','助学金金额'], encoding='utf-8')"
   ]
  },
  {
   "cell_type": "code",
   "execution_count": 6,
   "metadata": {},
   "outputs": [
    {
     "data": {
      "text/html": [
       "<div>\n",
       "<style>\n",
       "    .dataframe thead tr:only-child th {\n",
       "        text-align: right;\n",
       "    }\n",
       "\n",
       "    .dataframe thead th {\n",
       "        text-align: left;\n",
       "    }\n",
       "\n",
       "    .dataframe tbody tr th {\n",
       "        vertical-align: top;\n",
       "    }\n",
       "</style>\n",
       "<table border=\"1\" class=\"dataframe\">\n",
       "  <thead>\n",
       "    <tr style=\"text-align: right;\">\n",
       "      <th></th>\n",
       "      <th>学生id</th>\n",
       "      <th>助学金金额</th>\n",
       "    </tr>\n",
       "  </thead>\n",
       "  <tbody>\n",
       "    <tr>\n",
       "      <th>0</th>\n",
       "      <td>0</td>\n",
       "      <td>0</td>\n",
       "    </tr>\n",
       "    <tr>\n",
       "      <th>1</th>\n",
       "      <td>1</td>\n",
       "      <td>0</td>\n",
       "    </tr>\n",
       "    <tr>\n",
       "      <th>2</th>\n",
       "      <td>8</td>\n",
       "      <td>0</td>\n",
       "    </tr>\n",
       "    <tr>\n",
       "      <th>3</th>\n",
       "      <td>9</td>\n",
       "      <td>0</td>\n",
       "    </tr>\n",
       "    <tr>\n",
       "      <th>4</th>\n",
       "      <td>10</td>\n",
       "      <td>0</td>\n",
       "    </tr>\n",
       "  </tbody>\n",
       "</table>\n",
       "</div>"
      ],
      "text/plain": [
       "   学生id  助学金金额\n",
       "0     0      0\n",
       "1     1      0\n",
       "2     8      0\n",
       "3     9      0\n",
       "4    10      0"
      ]
     },
     "execution_count": 6,
     "metadata": {},
     "output_type": "execute_result"
    }
   ],
   "source": [
    "ID_sub_train.head()"
   ]
  },
  {
   "cell_type": "code",
   "execution_count": 4,
   "metadata": {},
   "outputs": [
    {
     "data": {
      "text/plain": [
       "0       9325\n",
       "1000     741\n",
       "1500     465\n",
       "2000     354\n",
       "Name: 助学金金额, dtype: int64"
      ]
     },
     "execution_count": 4,
     "metadata": {},
     "output_type": "execute_result"
    }
   ],
   "source": [
    "ID_sub_train['助学金金额'].value_counts()"
   ]
  },
  {
   "cell_type": "code",
   "execution_count": 7,
   "metadata": {
    "collapsed": true
   },
   "outputs": [],
   "source": [
    "X_test = data.loc[ID_test['学生id'],:]\n",
    "X_train = data.loc[ID_sub_train['学生id'],:]\n",
    "y_train = ID_sub_train['助学金金额']"
   ]
  },
  {
   "cell_type": "code",
   "execution_count": 8,
   "metadata": {},
   "outputs": [
    {
     "name": "stdout",
     "output_type": "stream",
     "text": [
      "((10783, 14), (10885, 14), (10885,))\n"
     ]
    }
   ],
   "source": [
    "print(X_test.shape,X_train.shape,y_train.shape)"
   ]
  },
  {
   "cell_type": "code",
   "execution_count": 9,
   "metadata": {
    "collapsed": true
   },
   "outputs": [],
   "source": [
    "X_test.to_pickle('./input/X_test.pkl')\n",
    "X_train.to_pickle('./input/X_train.pkl')\n",
    "y_train.to_pickle('./input/y_train.pkl')"
   ]
  },
  {
   "cell_type": "code",
   "execution_count": 8,
   "metadata": {},
   "outputs": [],
   "source": [
    "ID_test['助学金金额']= 0"
   ]
  },
  {
   "cell_type": "code",
   "execution_count": 9,
   "metadata": {
    "collapsed": true
   },
   "outputs": [],
   "source": [
    "result = pd.read_csv('Result/baseline.csv')"
   ]
  }
 ],
 "metadata": {
  "anaconda-cloud": {},
  "kernelspec": {
   "display_name": "Python 2",
   "language": "python",
   "name": "python2"
  },
  "language_info": {
   "codemirror_mode": {
    "name": "ipython",
    "version": 2
   },
   "file_extension": ".py",
   "mimetype": "text/x-python",
   "name": "python",
   "nbconvert_exporter": "python",
   "pygments_lexer": "ipython2",
   "version": "2.7.12"
  }
 },
 "nbformat": 4,
 "nbformat_minor": 1
}
