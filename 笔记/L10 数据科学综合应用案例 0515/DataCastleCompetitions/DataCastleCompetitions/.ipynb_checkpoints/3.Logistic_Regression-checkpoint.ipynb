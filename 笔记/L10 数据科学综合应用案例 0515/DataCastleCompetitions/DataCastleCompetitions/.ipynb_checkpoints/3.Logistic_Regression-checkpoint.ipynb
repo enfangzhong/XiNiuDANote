{
 "cells": [
  {
   "cell_type": "code",
   "execution_count": 1,
   "metadata": {
    "collapsed": true
   },
   "outputs": [],
   "source": [
    "# 载入所需要的库\n",
    "import numpy as np\n",
    "import pandas as pd\n",
    "# 载入数据\n",
    "X_test = pd.read_pickle('./input/X_test.pkl')\n",
    "X_train = pd.read_pickle('./input/X_train.pkl')\n",
    "y_train = pd.read_pickle('./input/y_train.pkl')"
   ]
  },
  {
   "cell_type": "code",
   "execution_count": 2,
   "metadata": {
    "collapsed": true
   },
   "outputs": [],
   "source": [
    "from sklearn.preprocessing import minmax_scale as mm\n",
    "X_test = mm(X_test)\n",
    "X_train= mm(X_train)"
   ]
  },
  {
   "cell_type": "markdown",
   "metadata": {},
   "source": [
    "## 逻辑回归"
   ]
  },
  {
   "cell_type": "code",
   "execution_count": 3,
   "metadata": {},
   "outputs": [
    {
     "name": "stdout",
     "output_type": "stream",
     "text": [
      "Best parameters\n",
      "{'C': 400000.0}\n",
      "best F1: \n",
      "0.519738544816\n"
     ]
    }
   ],
   "source": [
    "import warnings \n",
    "warnings.filterwarnings(\"ignore\")\n",
    "from sklearn.linear_model import LogisticRegression\n",
    "from sklearn.model_selection import GridSearchCV\n",
    "\n",
    "# 一个训练优化模型的函数\n",
    "def train_optimal_classifier(clf,param):\n",
    "    grid_search = GridSearchCV(\n",
    "        clf,\n",
    "        param_grid=param,\n",
    "        cv=5,\n",
    "        verbose=0,\n",
    "        scoring='f1_weighted',\n",
    "        error_score=0,\n",
    "        refit=True ,\n",
    "        n_jobs=-1\n",
    "        )\n",
    "    grid_search.fit(X_train, y_train)\n",
    "    print(\"Best parameters\")\n",
    "    print(grid_search.best_params_)\n",
    "    print('best F1: ')\n",
    "    print(grid_search.best_score_)\n",
    "    return (grid_search.best_estimator_)\n",
    "\n",
    "\n",
    "LR = LogisticRegression(class_weight='balanced',random_state=33,n_jobs=-1,solver='lbfgs')\n",
    "\n",
    "param_LR = {  \"C\":[2e4,5e4,1e5,2e5,4e5,8e5],\n",
    "             }\n",
    "LR_best = train_optimal_classifier(LR,param_LR)"
   ]
  },
  {
   "cell_type": "code",
   "execution_count": 4,
   "metadata": {
    "collapsed": true
   },
   "outputs": [],
   "source": [
    "LR_best.fit(X_train, y_train)\n",
    "y_pred = LR_best.predict(X_test)"
   ]
  },
  {
   "cell_type": "code",
   "execution_count": 5,
   "metadata": {},
   "outputs": [
    {
     "data": {
      "text/plain": [
       "array([2000, 2000, 2000, ...,    0,    0,    0])"
      ]
     },
     "execution_count": 5,
     "metadata": {},
     "output_type": "execute_result"
    }
   ],
   "source": [
    "y_pred"
   ]
  },
  {
   "cell_type": "code",
   "execution_count": 6,
   "metadata": {
    "collapsed": true
   },
   "outputs": [],
   "source": [
    "data =  pd.read_csv(\"./input/studentID_test.txt\", names=['学生id','助学金金额'], encoding='utf-8')"
   ]
  },
  {
   "cell_type": "code",
   "execution_count": 7,
   "metadata": {
    "collapsed": true
   },
   "outputs": [],
   "source": [
    "data['助学金金额'] = pd.DataFrame(y_pred)\n",
    "data.to_csv('./Result/LR_Result.csv')"
   ]
  },
  {
   "cell_type": "markdown",
   "metadata": {
    "collapsed": true
   },
   "source": [
    "## Bagging 逻辑回归"
   ]
  },
  {
   "cell_type": "code",
   "execution_count": 8,
   "metadata": {},
   "outputs": [
    {
     "name": "stdout",
     "output_type": "stream",
     "text": [
      "Best parameters\n",
      "{}\n",
      "best F1: \n",
      "0.521060759378\n"
     ]
    }
   ],
   "source": [
    "from sklearn.ensemble import BaggingClassifier\n",
    "BC = BaggingClassifier(LR_best)\n",
    "param = {}\n",
    "Model_best = train_optimal_classifier(BC,param)"
   ]
  },
  {
   "cell_type": "code",
   "execution_count": 9,
   "metadata": {
    "collapsed": true
   },
   "outputs": [],
   "source": [
    "Model_best.fit(X_train, y_train)\n",
    "y_pred = Model_best.predict(X_test)"
   ]
  },
  {
   "cell_type": "code",
   "execution_count": 10,
   "metadata": {},
   "outputs": [
    {
     "data": {
      "text/plain": [
       "array([2000, 1000, 2000, ...,    0,    0,    0])"
      ]
     },
     "execution_count": 10,
     "metadata": {},
     "output_type": "execute_result"
    }
   ],
   "source": [
    "y_pred"
   ]
  },
  {
   "cell_type": "code",
   "execution_count": 11,
   "metadata": {
    "collapsed": true
   },
   "outputs": [],
   "source": [
    "data['助学金金额'] = pd.DataFrame(y_pred)\n",
    "data.to_csv('./Result/Bagging_Result.csv')"
   ]
  }
 ],
 "metadata": {
  "anaconda-cloud": {},
  "kernelspec": {
   "display_name": "Python 2",
   "language": "python",
   "name": "python2"
  },
  "language_info": {
   "codemirror_mode": {
    "name": "ipython",
    "version": 2
   },
   "file_extension": ".py",
   "mimetype": "text/x-python",
   "name": "python",
   "nbconvert_exporter": "python",
   "pygments_lexer": "ipython2",
   "version": "2.7.12"
  }
 },
 "nbformat": 4,
 "nbformat_minor": 1
}
