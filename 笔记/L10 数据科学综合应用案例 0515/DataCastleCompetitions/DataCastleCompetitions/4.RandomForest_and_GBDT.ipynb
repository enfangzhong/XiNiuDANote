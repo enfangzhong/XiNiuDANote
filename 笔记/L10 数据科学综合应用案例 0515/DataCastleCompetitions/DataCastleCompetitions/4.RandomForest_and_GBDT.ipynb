{
 "cells": [
  {
   "cell_type": "code",
   "execution_count": 1,
   "metadata": {
    "collapsed": true
   },
   "outputs": [],
   "source": [
    "import pandas as pd\n",
    "import numpy as np\n",
    "from sklearn.ensemble import RandomForestClassifier\n",
    "import xgboost as xgb\n",
    "# 载入数据\n",
    "X_test = pd.read_pickle('./input/X_test.pkl')\n",
    "X_train = pd.read_pickle('./input/X_train.pkl')\n",
    "y_train = pd.read_pickle('./input/y_train.pkl')"
   ]
  },
  {
   "cell_type": "code",
   "execution_count": 2,
   "metadata": {
    "collapsed": true
   },
   "outputs": [],
   "source": [
    "from sklearn.preprocessing import minmax_scale as mm\n",
    "X_test = mm(X_test)\n",
    "X_train= mm(X_train)"
   ]
  },
  {
   "cell_type": "code",
   "execution_count": 3,
   "metadata": {
    "collapsed": true
   },
   "outputs": [],
   "source": [
    "import warnings \n",
    "warnings.filterwarnings(\"ignore\")\n",
    "from sklearn.model_selection import GridSearchCV\n",
    "\n",
    "# 一个训练优化模型的函数\n",
    "def train_optimal_classifier(clf,param):\n",
    "    grid_search = GridSearchCV(\n",
    "        clf,\n",
    "        param_grid=param,\n",
    "        cv=5,\n",
    "        verbose=0,\n",
    "        scoring='f1_weighted',\n",
    "        error_score=0,\n",
    "        refit=True ,\n",
    "        n_jobs=-1\n",
    "        )\n",
    "    grid_search.fit(X_train, y_train)\n",
    "    print(\"Best parameters\")\n",
    "    print(grid_search.best_params_)\n",
    "    print('best F1: ')\n",
    "    print(grid_search.best_score_)\n",
    "    return (grid_search.best_estimator_)"
   ]
  },
  {
   "cell_type": "code",
   "execution_count": 4,
   "metadata": {},
   "outputs": [
    {
     "name": "stdout",
     "output_type": "stream",
     "text": [
      "Best parameters\n",
      "{'max_features': 0.7, 'n_estimators': 50, 'max_depth': 3}\n",
      "best F1: \n",
      "0.592272414475\n"
     ]
    },
    {
     "data": {
      "text/plain": [
       "RandomForestClassifier(bootstrap=True, class_weight=None, criterion='gini',\n",
       "            max_depth=3, max_features=0.7, max_leaf_nodes=None,\n",
       "            min_impurity_split=1e-07, min_samples_leaf=1,\n",
       "            min_samples_split=2, min_weight_fraction_leaf=0.0,\n",
       "            n_estimators=50, n_jobs=-1, oob_score=False, random_state=None,\n",
       "            verbose=0, warm_start=False)"
      ]
     },
     "execution_count": 4,
     "metadata": {},
     "output_type": "execute_result"
    }
   ],
   "source": [
    "rf = RandomForestClassifier(n_jobs=-1)\n",
    "param_dic = {  \"n_estimators\":[50,200,500,1000],\n",
    "               \"max_depth\":[3,7],\n",
    "               \"max_features\":[0.7,0.9]\n",
    "             }\n",
    "train_optimal_classifier(rf,param_dic)"
   ]
  },
  {
   "cell_type": "code",
   "execution_count": 5,
   "metadata": {
    "collapsed": true
   },
   "outputs": [],
   "source": [
    "rf = RandomForestClassifier(n_estimators=20, max_depth=3, max_features=0.7)\n",
    "rf.fit(X_train, y_train)\n",
    "pred = rf.predict(X_test)"
   ]
  },
  {
   "cell_type": "code",
   "execution_count": 6,
   "metadata": {
    "collapsed": true
   },
   "outputs": [],
   "source": [
    "data =  pd.read_csv(\"./input/studentID_test.txt\", names=['学生id','助学金金额'], encoding='utf-8')"
   ]
  },
  {
   "cell_type": "code",
   "execution_count": 7,
   "metadata": {
    "collapsed": true
   },
   "outputs": [],
   "source": [
    "data['助学金金额'] = pd.DataFrame(pred)"
   ]
  },
  {
   "cell_type": "code",
   "execution_count": 8,
   "metadata": {
    "collapsed": true
   },
   "outputs": [],
   "source": [
    "data.to_csv('./Result/RandomForest_Result.csv')"
   ]
  },
  {
   "cell_type": "code",
   "execution_count": 12,
   "metadata": {},
   "outputs": [
    {
     "name": "stdout",
     "output_type": "stream",
     "text": [
      "Best parameters\n",
      "{'n_estimators': 200, 'learning_rate': 0.05, 'colsample_bytree': 0.7, 'max_depth': 3}\n",
      "best F1: \n",
      "0.353738438358\n"
     ]
    },
    {
     "data": {
      "text/plain": [
       "XGBClassifier(base_score=0.5, booster='gbtree', colsample_bylevel=1,\n",
       "       colsample_bytree=0.7, gamma=0, learning_rate=0.05, max_delta_step=0,\n",
       "       max_depth=3, min_child_weight=1, missing=None, n_estimators=200,\n",
       "       n_jobs=-1, nthread=-1, objective='multi:softprob', random_state=0,\n",
       "       reg_alpha=0, reg_lambda=1, scale_pos_weight=1, seed=0, silent=True,\n",
       "       subsample=1)"
      ]
     },
     "execution_count": 12,
     "metadata": {},
     "output_type": "execute_result"
    }
   ],
   "source": [
    "gbdt_cf = xgb.XGBClassifier(n_jobs=-1)\n",
    "param_dic = {\n",
    "               \"n_estimators\":[50,200,500,1000],\n",
    "               \"max_depth\":[3,7,9],\n",
    "               \"learning_rate\":[0.05, 0.1, 0.2, 0.3],\n",
    "               \"colsample_bytree\":[0.7,0.9]\n",
    "             }\n",
    "train_optimal_classifier(gbdt_cf,param_dic)"
   ]
  },
  {
   "cell_type": "code",
   "execution_count": 13,
   "metadata": {
    "collapsed": true
   },
   "outputs": [],
   "source": [
    "gbdt_cf = xgb.XGBClassifier(n_estimators=200, max_depth=3, learning_rate=0.05, colsample_bytree=0.7)\n",
    "gbdt_cf.fit(X_train, y_train)\n",
    "pred_gbdt = gbdt_cf.predict(X_test)"
   ]
  },
  {
   "cell_type": "code",
   "execution_count": 14,
   "metadata": {
    "collapsed": true
   },
   "outputs": [],
   "source": [
    "data['助学金金额'] = pd.DataFrame(pred_gbdt)\n",
    "data.to_csv('./Result/GBDT_Result.csv')"
   ]
  }
 ],
 "metadata": {
  "anaconda-cloud": {},
  "kernelspec": {
   "display_name": "Python 2",
   "language": "python",
   "name": "python2"
  },
  "language_info": {
   "codemirror_mode": {
    "name": "ipython",
    "version": 2
   },
   "file_extension": ".py",
   "mimetype": "text/x-python",
   "name": "python",
   "nbconvert_exporter": "python",
   "pygments_lexer": "ipython2",
   "version": "2.7.12"
  }
 },
 "nbformat": 4,
 "nbformat_minor": 1
}
