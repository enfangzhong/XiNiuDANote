{
 "cells": [
  {
   "cell_type": "markdown",
   "metadata": {},
   "source": [
    "## Pandas教程\n",
    "pandas是一个专门用于数据分析的python工具库"
   ]
  },
  {
   "cell_type": "markdown",
   "metadata": {},
   "source": [
    "### Pandas简介\n",
    "* python数据分析处理的一个package\n",
    "* 基于numpy(对“矩阵”做科学计算)\n",
    "* 有一种用python去操作Excel/SQL的感觉"
   ]
  },
  {
   "cell_type": "markdown",
   "metadata": {},
   "source": [
    "### 目录\n",
    "* series\n",
    "* DataFrame\n",
    "* Index\n",
    "* csv文件读写"
   ]
  },
  {
   "cell_type": "markdown",
   "metadata": {},
   "source": [
    "### 数据结构Series"
   ]
  },
  {
   "cell_type": "code",
   "execution_count": 1,
   "metadata": {
    "collapsed": true
   },
   "outputs": [],
   "source": [
    "import numpy as np\n",
    "import pandas as pd"
   ]
  },
  {
   "cell_type": "markdown",
   "metadata": {},
   "source": [
    "#### 构造和初始化series"
   ]
  },
  {
   "cell_type": "code",
   "execution_count": 2,
   "metadata": {
    "collapsed": true
   },
   "outputs": [],
   "source": [
    "s = pd.Series([7, 'Beijing', 3.14, -12345, 'HanXiaoyang'])"
   ]
  },
  {
   "cell_type": "code",
   "execution_count": 3,
   "metadata": {},
   "outputs": [
    {
     "data": {
      "text/plain": [
       "'Beijing'"
      ]
     },
     "execution_count": 3,
     "metadata": {},
     "output_type": "execute_result"
    }
   ],
   "source": [
    "s[1]"
   ]
  },
  {
   "cell_type": "code",
   "execution_count": 4,
   "metadata": {},
   "outputs": [
    {
     "data": {
      "text/plain": [
       "0              7\n",
       "1        Beijing\n",
       "2           3.14\n",
       "3         -12345\n",
       "4    HanXiaoyang\n",
       "dtype: object"
      ]
     },
     "execution_count": 4,
     "metadata": {},
     "output_type": "execute_result"
    }
   ],
   "source": [
    "s"
   ]
  },
  {
   "cell_type": "markdown",
   "metadata": {},
   "source": [
    "pandas会默认用0到n作为Series的index，但是我们也可以自己指定index。index可以类比理解为dic当中的key。"
   ]
  },
  {
   "cell_type": "code",
   "execution_count": 5,
   "metadata": {
    "collapsed": true
   },
   "outputs": [],
   "source": [
    "s = pd.Series([7, 'Beijing', 3.14, -12345, 'HanXiaoyang'], index=['A', 'B', 'C', 'D', 'E'])"
   ]
  },
  {
   "cell_type": "code",
   "execution_count": 6,
   "metadata": {},
   "outputs": [
    {
     "data": {
      "text/plain": [
       "A              7\n",
       "B        Beijing\n",
       "C           3.14\n",
       "D         -12345\n",
       "E    HanXiaoyang\n",
       "dtype: object"
      ]
     },
     "execution_count": 6,
     "metadata": {},
     "output_type": "execute_result"
    }
   ],
   "source": [
    "s"
   ]
  },
  {
   "cell_type": "code",
   "execution_count": 7,
   "metadata": {},
   "outputs": [
    {
     "data": {
      "text/plain": [
       "7"
      ]
     },
     "execution_count": 7,
     "metadata": {},
     "output_type": "execute_result"
    }
   ],
   "source": [
    "s['A']"
   ]
  },
  {
   "cell_type": "code",
   "execution_count": 8,
   "metadata": {},
   "outputs": [
    {
     "data": {
      "text/plain": [
       "A          7\n",
       "D     -12345\n",
       "B    Beijing\n",
       "dtype: object"
      ]
     },
     "execution_count": 8,
     "metadata": {},
     "output_type": "execute_result"
    }
   ],
   "source": [
    "s[ ['A','D','B'] ]"
   ]
  },
  {
   "cell_type": "markdown",
   "metadata": {},
   "source": [
    "我们可以用list来构建Series，同时可以指定index。实际上我们还可以用dic来初始化Series，因为Series本来就是key-value的结构。"
   ]
  },
  {
   "cell_type": "code",
   "execution_count": 51,
   "metadata": {
    "collapsed": true
   },
   "outputs": [],
   "source": [
    "cities = {'Beijing':55000, 'ShangHai':60000, 'Shenzhen':50000, 'Hangzhou':30000, 'Guangzhou':40000, 'Suzhou':None}"
   ]
  },
  {
   "cell_type": "code",
   "execution_count": 52,
   "metadata": {},
   "outputs": [
    {
     "data": {
      "text/plain": [
       "{'Beijing': 55000,\n",
       " 'Guangzhou': 40000,\n",
       " 'Hangzhou': 30000,\n",
       " 'ShangHai': 60000,\n",
       " 'Shenzhen': 50000,\n",
       " 'Suzhou': None}"
      ]
     },
     "execution_count": 52,
     "metadata": {},
     "output_type": "execute_result"
    }
   ],
   "source": [
    "cities"
   ]
  },
  {
   "cell_type": "code",
   "execution_count": 53,
   "metadata": {
    "collapsed": true
   },
   "outputs": [],
   "source": [
    "apt = pd.Series(cities, name='income')"
   ]
  },
  {
   "cell_type": "code",
   "execution_count": 14,
   "metadata": {},
   "outputs": [
    {
     "data": {
      "text/plain": [
       "Beijing      55000.0\n",
       "Guangzhou    40000.0\n",
       "Hangzhou     30000.0\n",
       "ShangHai     60000.0\n",
       "Shenzhen     50000.0\n",
       "Suzhou           NaN\n",
       "Name: income, dtype: float64"
      ]
     },
     "execution_count": 14,
     "metadata": {},
     "output_type": "execute_result"
    }
   ],
   "source": [
    "apt"
   ]
  },
  {
   "cell_type": "code",
   "execution_count": 15,
   "metadata": {},
   "outputs": [
    {
     "data": {
      "text/plain": [
       "40000.0"
      ]
     },
     "execution_count": 15,
     "metadata": {},
     "output_type": "execute_result"
    }
   ],
   "source": [
    "# 索引\n",
    "apt['Guangzhou']"
   ]
  },
  {
   "cell_type": "code",
   "execution_count": 16,
   "metadata": {},
   "outputs": [
    {
     "data": {
      "text/plain": [
       "40000.0"
      ]
     },
     "execution_count": 16,
     "metadata": {},
     "output_type": "execute_result"
    }
   ],
   "source": [
    "apt[1]"
   ]
  },
  {
   "cell_type": "code",
   "execution_count": 17,
   "metadata": {},
   "outputs": [
    {
     "data": {
      "text/plain": [
       "Guangzhou    40000.0\n",
       "Hangzhou     30000.0\n",
       "ShangHai     60000.0\n",
       "Shenzhen     50000.0\n",
       "Suzhou           NaN\n",
       "Name: income, dtype: float64"
      ]
     },
     "execution_count": 17,
     "metadata": {},
     "output_type": "execute_result"
    }
   ],
   "source": [
    "apt[1:]"
   ]
  },
  {
   "cell_type": "code",
   "execution_count": 18,
   "metadata": {},
   "outputs": [
    {
     "data": {
      "text/plain": [
       "Beijing      55000.0\n",
       "Guangzhou    40000.0\n",
       "Hangzhou     30000.0\n",
       "ShangHai     60000.0\n",
       "Shenzhen     50000.0\n",
       "Name: income, dtype: float64"
      ]
     },
     "execution_count": 18,
     "metadata": {},
     "output_type": "execute_result"
    }
   ],
   "source": [
    "apt[:-1]"
   ]
  },
  {
   "cell_type": "code",
   "execution_count": 19,
   "metadata": {},
   "outputs": [
    {
     "data": {
      "text/plain": [
       "ShangHai     60000.0\n",
       "Shenzhen     50000.0\n",
       "Guangzhou    40000.0\n",
       "Name: income, dtype: float64"
      ]
     },
     "execution_count": 19,
     "metadata": {},
     "output_type": "execute_result"
    }
   ],
   "source": [
    "apt[[3,4,1]]"
   ]
  },
  {
   "cell_type": "code",
   "execution_count": 20,
   "metadata": {},
   "outputs": [
    {
     "data": {
      "text/plain": [
       "ShangHai     60000.0\n",
       "Shenzhen     50000.0\n",
       "Guangzhou    40000.0\n",
       "Name: income, dtype: float64"
      ]
     },
     "execution_count": 20,
     "metadata": {},
     "output_type": "execute_result"
    }
   ],
   "source": [
    "apt[ ['ShangHai', 'Shenzhen', 'Guangzhou'] ]"
   ]
  },
  {
   "cell_type": "code",
   "execution_count": 21,
   "metadata": {},
   "outputs": [
    {
     "data": {
      "text/plain": [
       "Beijing      165000.0\n",
       "Guangzhou    120000.0\n",
       "Hangzhou      90000.0\n",
       "ShangHai     180000.0\n",
       "Shenzhen     150000.0\n",
       "Suzhou            NaN\n",
       "Name: income, dtype: float64"
      ]
     },
     "execution_count": 21,
     "metadata": {},
     "output_type": "execute_result"
    }
   ],
   "source": [
    "# 简单的计算\n",
    "# 广播特性\n",
    "3*apt"
   ]
  },
  {
   "cell_type": "code",
   "execution_count": 22,
   "metadata": {},
   "outputs": [
    {
     "data": {
      "text/plain": [
       "Beijing      22000.0\n",
       "Guangzhou    16000.0\n",
       "Hangzhou     12000.0\n",
       "ShangHai     24000.0\n",
       "Shenzhen     20000.0\n",
       "Suzhou           NaN\n",
       "Name: income, dtype: float64"
      ]
     },
     "execution_count": 22,
     "metadata": {},
     "output_type": "execute_result"
    }
   ],
   "source": [
    "apt/2.5"
   ]
  },
  {
   "cell_type": "code",
   "execution_count": 23,
   "metadata": {
    "collapsed": true
   },
   "outputs": [],
   "source": [
    "# list不可以直接做数学运算\n",
    "my_list = [2,4,6,8,10]"
   ]
  },
  {
   "cell_type": "code",
   "execution_count": 24,
   "metadata": {},
   "outputs": [
    {
     "ename": "TypeError",
     "evalue": "unsupported operand type(s) for /: 'list' and 'int'",
     "output_type": "error",
     "traceback": [
      "\u001b[0;31m---------------------------------------------------------------------------\u001b[0m",
      "\u001b[0;31mTypeError\u001b[0m                                 Traceback (most recent call last)",
      "\u001b[0;32m<ipython-input-24-05191d4696a7>\u001b[0m in \u001b[0;36m<module>\u001b[0;34m()\u001b[0m\n\u001b[0;32m----> 1\u001b[0;31m \u001b[0mmy_list\u001b[0m\u001b[0;34m/\u001b[0m\u001b[0;36m2\u001b[0m\u001b[0;34m\u001b[0m\u001b[0m\n\u001b[0m",
      "\u001b[0;31mTypeError\u001b[0m: unsupported operand type(s) for /: 'list' and 'int'"
     ]
    }
   ],
   "source": [
    "my_list/2"
   ]
  },
  {
   "cell_type": "code",
   "execution_count": 25,
   "metadata": {},
   "outputs": [
    {
     "data": {
      "text/plain": [
       "Guangzhou    40000.0\n",
       "Hangzhou     30000.0\n",
       "ShangHai     60000.0\n",
       "Shenzhen     50000.0\n",
       "Suzhou           NaN\n",
       "Name: income, dtype: float64"
      ]
     },
     "execution_count": 25,
     "metadata": {},
     "output_type": "execute_result"
    }
   ],
   "source": [
    "apt[1:]"
   ]
  },
  {
   "cell_type": "code",
   "execution_count": 26,
   "metadata": {},
   "outputs": [
    {
     "data": {
      "text/plain": [
       "Beijing      55000.0\n",
       "Guangzhou    40000.0\n",
       "Hangzhou     30000.0\n",
       "ShangHai     60000.0\n",
       "Shenzhen     50000.0\n",
       "Name: income, dtype: float64"
      ]
     },
     "execution_count": 26,
     "metadata": {},
     "output_type": "execute_result"
    }
   ],
   "source": [
    "apt[:-1]"
   ]
  },
  {
   "cell_type": "code",
   "execution_count": 27,
   "metadata": {},
   "outputs": [
    {
     "data": {
      "text/plain": [
       "Beijing           NaN\n",
       "Guangzhou     80000.0\n",
       "Hangzhou      60000.0\n",
       "ShangHai     120000.0\n",
       "Shenzhen     100000.0\n",
       "Suzhou            NaN\n",
       "Name: income, dtype: float64"
      ]
     },
     "execution_count": 27,
     "metadata": {},
     "output_type": "execute_result"
    }
   ],
   "source": [
    "# 基于索引去做计算的\n",
    "apt[1:] + apt[:-1]"
   ]
  },
  {
   "cell_type": "code",
   "execution_count": 28,
   "metadata": {},
   "outputs": [
    {
     "data": {
      "text/plain": [
       "True"
      ]
     },
     "execution_count": 28,
     "metadata": {},
     "output_type": "execute_result"
    }
   ],
   "source": [
    "# in判断index是否存在\n",
    "'Hangzhou' in apt"
   ]
  },
  {
   "cell_type": "code",
   "execution_count": 29,
   "metadata": {},
   "outputs": [
    {
     "data": {
      "text/plain": [
       "False"
      ]
     },
     "execution_count": 29,
     "metadata": {},
     "output_type": "execute_result"
    }
   ],
   "source": [
    "'Chongqing' in apt"
   ]
  },
  {
   "cell_type": "code",
   "execution_count": 32,
   "metadata": {},
   "outputs": [
    {
     "name": "stdout",
     "output_type": "stream",
     "text": [
      "None\n"
     ]
    }
   ],
   "source": [
    "# apt['Chongqing'] 不OK的\n",
    "print(apt.get('Chongqing'))"
   ]
  },
  {
   "cell_type": "code",
   "execution_count": 33,
   "metadata": {},
   "outputs": [
    {
     "name": "stdout",
     "output_type": "stream",
     "text": [
      "40000.0\n"
     ]
    }
   ],
   "source": [
    "print(apt.get('Guangzhou'))"
   ]
  },
  {
   "cell_type": "markdown",
   "metadata": {},
   "source": [
    "##### booling indexing/条件判断索引"
   ]
  },
  {
   "cell_type": "code",
   "execution_count": 34,
   "metadata": {},
   "outputs": [
    {
     "data": {
      "text/plain": [
       "Beijing       True\n",
       "Guangzhou     True\n",
       "Hangzhou     False\n",
       "ShangHai      True\n",
       "Shenzhen      True\n",
       "Suzhou       False\n",
       "Name: income, dtype: bool"
      ]
     },
     "execution_count": 34,
     "metadata": {},
     "output_type": "execute_result"
    }
   ],
   "source": [
    "apt>=40000"
   ]
  },
  {
   "cell_type": "code",
   "execution_count": 35,
   "metadata": {},
   "outputs": [
    {
     "data": {
      "text/plain": [
       "Beijing      55000.0\n",
       "Guangzhou    40000.0\n",
       "ShangHai     60000.0\n",
       "Shenzhen     50000.0\n",
       "Name: income, dtype: float64"
      ]
     },
     "execution_count": 35,
     "metadata": {},
     "output_type": "execute_result"
    }
   ],
   "source": [
    "#条件索引\n",
    "apt[apt>=40000]"
   ]
  },
  {
   "cell_type": "code",
   "execution_count": 36,
   "metadata": {},
   "outputs": [
    {
     "data": {
      "text/plain": [
       "47000.0"
      ]
     },
     "execution_count": 36,
     "metadata": {},
     "output_type": "execute_result"
    }
   ],
   "source": [
    "# 统计计算\n",
    "apt.mean()"
   ]
  },
  {
   "cell_type": "code",
   "execution_count": 37,
   "metadata": {},
   "outputs": [
    {
     "data": {
      "text/plain": [
       "50000.0"
      ]
     },
     "execution_count": 37,
     "metadata": {},
     "output_type": "execute_result"
    }
   ],
   "source": [
    "apt.median()"
   ]
  },
  {
   "cell_type": "code",
   "execution_count": 38,
   "metadata": {},
   "outputs": [
    {
     "data": {
      "text/plain": [
       "60000.0"
      ]
     },
     "execution_count": 38,
     "metadata": {},
     "output_type": "execute_result"
    }
   ],
   "source": [
    "apt.max()"
   ]
  },
  {
   "cell_type": "code",
   "execution_count": 39,
   "metadata": {},
   "outputs": [
    {
     "data": {
      "text/plain": [
       "30000.0"
      ]
     },
     "execution_count": 39,
     "metadata": {},
     "output_type": "execute_result"
    }
   ],
   "source": [
    "apt.min()"
   ]
  },
  {
   "cell_type": "markdown",
   "metadata": {},
   "source": [
    "#### Series赋值"
   ]
  },
  {
   "cell_type": "code",
   "execution_count": 40,
   "metadata": {},
   "outputs": [
    {
     "data": {
      "text/plain": [
       "Beijing      55000.0\n",
       "Guangzhou    40000.0\n",
       "Hangzhou     30000.0\n",
       "ShangHai     60000.0\n",
       "Shenzhen     50000.0\n",
       "Suzhou           NaN\n",
       "Name: income, dtype: float64"
      ]
     },
     "execution_count": 40,
     "metadata": {},
     "output_type": "execute_result"
    }
   ],
   "source": [
    "apt"
   ]
  },
  {
   "cell_type": "code",
   "execution_count": 54,
   "metadata": {
    "collapsed": true
   },
   "outputs": [],
   "source": [
    "apt['Shenzhen'] = 70000"
   ]
  },
  {
   "cell_type": "code",
   "execution_count": 55,
   "metadata": {},
   "outputs": [
    {
     "data": {
      "text/plain": [
       "Beijing      55000.0\n",
       "Guangzhou    40000.0\n",
       "Hangzhou     30000.0\n",
       "ShangHai     60000.0\n",
       "Shenzhen     70000.0\n",
       "Suzhou           NaN\n",
       "Name: income, dtype: float64"
      ]
     },
     "execution_count": 55,
     "metadata": {},
     "output_type": "execute_result"
    }
   ],
   "source": [
    "apt"
   ]
  },
  {
   "cell_type": "code",
   "execution_count": 56,
   "metadata": {
    "collapsed": true
   },
   "outputs": [],
   "source": [
    "#条件赋值\n",
    "apt[apt<=40000] = 45000"
   ]
  },
  {
   "cell_type": "code",
   "execution_count": 57,
   "metadata": {},
   "outputs": [
    {
     "data": {
      "text/plain": [
       "Beijing      55000.0\n",
       "Guangzhou    45000.0\n",
       "Hangzhou     45000.0\n",
       "ShangHai     60000.0\n",
       "Shenzhen     70000.0\n",
       "Suzhou           NaN\n",
       "Name: income, dtype: float64"
      ]
     },
     "execution_count": 57,
     "metadata": {},
     "output_type": "execute_result"
    }
   ],
   "source": [
    "apt"
   ]
  },
  {
   "cell_type": "code",
   "execution_count": 48,
   "metadata": {},
   "outputs": [
    {
     "data": {
      "text/plain": [
       "pandas.core.series.Series"
      ]
     },
     "execution_count": 48,
     "metadata": {},
     "output_type": "execute_result"
    }
   ],
   "source": [
    "type(apt)"
   ]
  },
  {
   "cell_type": "code",
   "execution_count": 58,
   "metadata": {},
   "outputs": [
    {
     "data": {
      "text/plain": [
       "Beijing      10.915088\n",
       "Guangzhou    10.714418\n",
       "Hangzhou     10.714418\n",
       "ShangHai     11.002100\n",
       "Shenzhen     11.156251\n",
       "Suzhou             NaN\n",
       "Name: income, dtype: float64"
      ]
     },
     "execution_count": 58,
     "metadata": {},
     "output_type": "execute_result"
    }
   ],
   "source": [
    "#更多高级的数学运算\n",
    "np.log(apt)"
   ]
  },
  {
   "cell_type": "code",
   "execution_count": 59,
   "metadata": {
    "collapsed": true
   },
   "outputs": [],
   "source": [
    "cars = pd.Series({'Beijing':350000, 'ShangHai':400000, 'Shenzhen':300000, \\\n",
    "                 'Tianjin':200000, 'Guangzhou':250000, 'Chongqing':150000\n",
    "                 })"
   ]
  },
  {
   "cell_type": "code",
   "execution_count": 60,
   "metadata": {},
   "outputs": [
    {
     "data": {
      "text/plain": [
       "Beijing      350000\n",
       "Chongqing    150000\n",
       "Guangzhou    250000\n",
       "ShangHai     400000\n",
       "Shenzhen     300000\n",
       "Tianjin      200000\n",
       "dtype: int64"
      ]
     },
     "execution_count": 60,
     "metadata": {},
     "output_type": "execute_result"
    }
   ],
   "source": [
    "cars"
   ]
  },
  {
   "cell_type": "code",
   "execution_count": 61,
   "metadata": {
    "collapsed": true
   },
   "outputs": [],
   "source": [
    "expense = cars + 10*apt"
   ]
  },
  {
   "cell_type": "code",
   "execution_count": 62,
   "metadata": {},
   "outputs": [
    {
     "data": {
      "text/plain": [
       "Beijing       900000.0\n",
       "Chongqing          NaN\n",
       "Guangzhou     700000.0\n",
       "Hangzhou           NaN\n",
       "ShangHai     1000000.0\n",
       "Shenzhen     1000000.0\n",
       "Suzhou             NaN\n",
       "Tianjin            NaN\n",
       "dtype: float64"
      ]
     },
     "execution_count": 62,
     "metadata": {},
     "output_type": "execute_result"
    }
   ],
   "source": [
    "expense"
   ]
  },
  {
   "cell_type": "markdown",
   "metadata": {},
   "source": [
    "#### 数据缺失"
   ]
  },
  {
   "cell_type": "code",
   "execution_count": 63,
   "metadata": {},
   "outputs": [
    {
     "data": {
      "text/plain": [
       "True"
      ]
     },
     "execution_count": 63,
     "metadata": {},
     "output_type": "execute_result"
    }
   ],
   "source": [
    "'Hangzhou' in apt"
   ]
  },
  {
   "cell_type": "code",
   "execution_count": 64,
   "metadata": {},
   "outputs": [
    {
     "data": {
      "text/plain": [
       "False"
      ]
     },
     "execution_count": 64,
     "metadata": {},
     "output_type": "execute_result"
    }
   ],
   "source": [
    "'Hangzhou' in cars"
   ]
  },
  {
   "cell_type": "code",
   "execution_count": 65,
   "metadata": {},
   "outputs": [
    {
     "data": {
      "text/plain": [
       "Beijing      55000.0\n",
       "Guangzhou    45000.0\n",
       "Hangzhou     45000.0\n",
       "ShangHai     60000.0\n",
       "Shenzhen     70000.0\n",
       "Suzhou           NaN\n",
       "Name: income, dtype: float64"
      ]
     },
     "execution_count": 65,
     "metadata": {},
     "output_type": "execute_result"
    }
   ],
   "source": [
    "apt"
   ]
  },
  {
   "cell_type": "code",
   "execution_count": 66,
   "metadata": {},
   "outputs": [
    {
     "data": {
      "text/plain": [
       "Beijing       True\n",
       "Guangzhou     True\n",
       "Hangzhou      True\n",
       "ShangHai      True\n",
       "Shenzhen      True\n",
       "Suzhou       False\n",
       "Name: income, dtype: bool"
      ]
     },
     "execution_count": 66,
     "metadata": {},
     "output_type": "execute_result"
    }
   ],
   "source": [
    "# bool结果返回\n",
    "apt.notnull()"
   ]
  },
  {
   "cell_type": "code",
   "execution_count": 67,
   "metadata": {},
   "outputs": [
    {
     "data": {
      "text/plain": [
       "Beijing      False\n",
       "Guangzhou    False\n",
       "Hangzhou     False\n",
       "ShangHai     False\n",
       "Shenzhen     False\n",
       "Suzhou        True\n",
       "Name: income, dtype: bool"
      ]
     },
     "execution_count": 67,
     "metadata": {},
     "output_type": "execute_result"
    }
   ],
   "source": [
    "apt.isnull()"
   ]
  },
  {
   "cell_type": "code",
   "execution_count": 68,
   "metadata": {},
   "outputs": [
    {
     "data": {
      "text/plain": [
       "Beijing       900000.0\n",
       "Chongqing          NaN\n",
       "Guangzhou     700000.0\n",
       "Hangzhou           NaN\n",
       "ShangHai     1000000.0\n",
       "Shenzhen     1000000.0\n",
       "Suzhou             NaN\n",
       "Tianjin            NaN\n",
       "dtype: float64"
      ]
     },
     "execution_count": 68,
     "metadata": {},
     "output_type": "execute_result"
    }
   ],
   "source": [
    "expense"
   ]
  },
  {
   "cell_type": "code",
   "execution_count": 69,
   "metadata": {
    "collapsed": true
   },
   "outputs": [],
   "source": [
    "expense[expense.isnull()] = expense.mean()"
   ]
  },
  {
   "cell_type": "code",
   "execution_count": 70,
   "metadata": {},
   "outputs": [
    {
     "data": {
      "text/plain": [
       "Beijing       900000.0\n",
       "Chongqing     900000.0\n",
       "Guangzhou     700000.0\n",
       "Hangzhou      900000.0\n",
       "ShangHai     1000000.0\n",
       "Shenzhen     1000000.0\n",
       "Suzhou        900000.0\n",
       "Tianjin       900000.0\n",
       "dtype: float64"
      ]
     },
     "execution_count": 70,
     "metadata": {},
     "output_type": "execute_result"
    }
   ],
   "source": [
    "expense"
   ]
  },
  {
   "cell_type": "markdown",
   "metadata": {},
   "source": [
    "### 数据结构DataFrame\n",
    "一个DataFrame就是一张表格，Series是一维数组，DataFrame是二维数组。可以类比成office当中的excel，也可以理解成多个Series的集合。"
   ]
  },
  {
   "cell_type": "code",
   "execution_count": 71,
   "metadata": {
    "collapsed": true
   },
   "outputs": [],
   "source": [
    "data = {'City':['Beijing','ShangHai','Guangzhou','Shenzhen','Hangzhou','Chongqing'],\n",
    "        'year':[2017,2018,2017,2018,2017,2017],\n",
    "        'population':[2100,2300,1000,700,500,500]\n",
    "       }"
   ]
  },
  {
   "cell_type": "code",
   "execution_count": 72,
   "metadata": {},
   "outputs": [
    {
     "data": {
      "text/html": [
       "<div>\n",
       "<table border=\"1\" class=\"dataframe\">\n",
       "  <thead>\n",
       "    <tr style=\"text-align: right;\">\n",
       "      <th></th>\n",
       "      <th>City</th>\n",
       "      <th>population</th>\n",
       "      <th>year</th>\n",
       "    </tr>\n",
       "  </thead>\n",
       "  <tbody>\n",
       "    <tr>\n",
       "      <th>0</th>\n",
       "      <td>Beijing</td>\n",
       "      <td>2100</td>\n",
       "      <td>2017</td>\n",
       "    </tr>\n",
       "    <tr>\n",
       "      <th>1</th>\n",
       "      <td>ShangHai</td>\n",
       "      <td>2300</td>\n",
       "      <td>2018</td>\n",
       "    </tr>\n",
       "    <tr>\n",
       "      <th>2</th>\n",
       "      <td>Guangzhou</td>\n",
       "      <td>1000</td>\n",
       "      <td>2017</td>\n",
       "    </tr>\n",
       "    <tr>\n",
       "      <th>3</th>\n",
       "      <td>Shenzhen</td>\n",
       "      <td>700</td>\n",
       "      <td>2018</td>\n",
       "    </tr>\n",
       "    <tr>\n",
       "      <th>4</th>\n",
       "      <td>Hangzhou</td>\n",
       "      <td>500</td>\n",
       "      <td>2017</td>\n",
       "    </tr>\n",
       "    <tr>\n",
       "      <th>5</th>\n",
       "      <td>Chongqing</td>\n",
       "      <td>500</td>\n",
       "      <td>2017</td>\n",
       "    </tr>\n",
       "  </tbody>\n",
       "</table>\n",
       "</div>"
      ],
      "text/plain": [
       "        City  population  year\n",
       "0    Beijing        2100  2017\n",
       "1   ShangHai        2300  2018\n",
       "2  Guangzhou        1000  2017\n",
       "3   Shenzhen         700  2018\n",
       "4   Hangzhou         500  2017\n",
       "5  Chongqing         500  2017"
      ]
     },
     "execution_count": 72,
     "metadata": {},
     "output_type": "execute_result"
    }
   ],
   "source": [
    "pd.DataFrame(data)"
   ]
  },
  {
   "cell_type": "code",
   "execution_count": 73,
   "metadata": {},
   "outputs": [
    {
     "data": {
      "text/html": [
       "<div>\n",
       "<table border=\"1\" class=\"dataframe\">\n",
       "  <thead>\n",
       "    <tr style=\"text-align: right;\">\n",
       "      <th></th>\n",
       "      <th>year</th>\n",
       "      <th>City</th>\n",
       "      <th>population</th>\n",
       "    </tr>\n",
       "  </thead>\n",
       "  <tbody>\n",
       "    <tr>\n",
       "      <th>0</th>\n",
       "      <td>2017</td>\n",
       "      <td>Beijing</td>\n",
       "      <td>2100</td>\n",
       "    </tr>\n",
       "    <tr>\n",
       "      <th>1</th>\n",
       "      <td>2018</td>\n",
       "      <td>ShangHai</td>\n",
       "      <td>2300</td>\n",
       "    </tr>\n",
       "    <tr>\n",
       "      <th>2</th>\n",
       "      <td>2017</td>\n",
       "      <td>Guangzhou</td>\n",
       "      <td>1000</td>\n",
       "    </tr>\n",
       "    <tr>\n",
       "      <th>3</th>\n",
       "      <td>2018</td>\n",
       "      <td>Shenzhen</td>\n",
       "      <td>700</td>\n",
       "    </tr>\n",
       "    <tr>\n",
       "      <th>4</th>\n",
       "      <td>2017</td>\n",
       "      <td>Hangzhou</td>\n",
       "      <td>500</td>\n",
       "    </tr>\n",
       "    <tr>\n",
       "      <th>5</th>\n",
       "      <td>2017</td>\n",
       "      <td>Chongqing</td>\n",
       "      <td>500</td>\n",
       "    </tr>\n",
       "  </tbody>\n",
       "</table>\n",
       "</div>"
      ],
      "text/plain": [
       "   year       City  population\n",
       "0  2017    Beijing        2100\n",
       "1  2018   ShangHai        2300\n",
       "2  2017  Guangzhou        1000\n",
       "3  2018   Shenzhen         700\n",
       "4  2017   Hangzhou         500\n",
       "5  2017  Chongqing         500"
      ]
     },
     "execution_count": 73,
     "metadata": {},
     "output_type": "execute_result"
    }
   ],
   "source": [
    "pd.DataFrame(data, columns=['year','City','population'])"
   ]
  },
  {
   "cell_type": "code",
   "execution_count": 74,
   "metadata": {},
   "outputs": [
    {
     "data": {
      "text/html": [
       "<div>\n",
       "<table border=\"1\" class=\"dataframe\">\n",
       "  <thead>\n",
       "    <tr style=\"text-align: right;\">\n",
       "      <th></th>\n",
       "      <th>year</th>\n",
       "      <th>City</th>\n",
       "      <th>population</th>\n",
       "    </tr>\n",
       "  </thead>\n",
       "  <tbody>\n",
       "    <tr>\n",
       "      <th>one</th>\n",
       "      <td>2017</td>\n",
       "      <td>Beijing</td>\n",
       "      <td>2100</td>\n",
       "    </tr>\n",
       "    <tr>\n",
       "      <th>two</th>\n",
       "      <td>2018</td>\n",
       "      <td>ShangHai</td>\n",
       "      <td>2300</td>\n",
       "    </tr>\n",
       "    <tr>\n",
       "      <th>three</th>\n",
       "      <td>2017</td>\n",
       "      <td>Guangzhou</td>\n",
       "      <td>1000</td>\n",
       "    </tr>\n",
       "    <tr>\n",
       "      <th>four</th>\n",
       "      <td>2018</td>\n",
       "      <td>Shenzhen</td>\n",
       "      <td>700</td>\n",
       "    </tr>\n",
       "    <tr>\n",
       "      <th>five</th>\n",
       "      <td>2017</td>\n",
       "      <td>Hangzhou</td>\n",
       "      <td>500</td>\n",
       "    </tr>\n",
       "    <tr>\n",
       "      <th>six</th>\n",
       "      <td>2017</td>\n",
       "      <td>Chongqing</td>\n",
       "      <td>500</td>\n",
       "    </tr>\n",
       "  </tbody>\n",
       "</table>\n",
       "</div>"
      ],
      "text/plain": [
       "       year       City  population\n",
       "one    2017    Beijing        2100\n",
       "two    2018   ShangHai        2300\n",
       "three  2017  Guangzhou        1000\n",
       "four   2018   Shenzhen         700\n",
       "five   2017   Hangzhou         500\n",
       "six    2017  Chongqing         500"
      ]
     },
     "execution_count": 74,
     "metadata": {},
     "output_type": "execute_result"
    }
   ],
   "source": [
    "# index\n",
    "pd.DataFrame(data, columns=['year','City','population'], index=['one','two','three','four','five','six'])"
   ]
  },
  {
   "cell_type": "code",
   "execution_count": 75,
   "metadata": {},
   "outputs": [
    {
     "data": {
      "text/plain": [
       "Beijing      55000.0\n",
       "Guangzhou    45000.0\n",
       "Hangzhou     45000.0\n",
       "ShangHai     60000.0\n",
       "Shenzhen     70000.0\n",
       "Suzhou           NaN\n",
       "Name: income, dtype: float64"
      ]
     },
     "execution_count": 75,
     "metadata": {},
     "output_type": "execute_result"
    }
   ],
   "source": [
    "# DataFrame可以视作Series的集合\n",
    "apt"
   ]
  },
  {
   "cell_type": "code",
   "execution_count": 76,
   "metadata": {},
   "outputs": [
    {
     "data": {
      "text/plain": [
       "Beijing      350000\n",
       "Chongqing    150000\n",
       "Guangzhou    250000\n",
       "ShangHai     400000\n",
       "Shenzhen     300000\n",
       "Tianjin      200000\n",
       "dtype: int64"
      ]
     },
     "execution_count": 76,
     "metadata": {},
     "output_type": "execute_result"
    }
   ],
   "source": [
    "cars"
   ]
  },
  {
   "cell_type": "code",
   "execution_count": 77,
   "metadata": {
    "collapsed": true
   },
   "outputs": [],
   "source": [
    "df = pd.DataFrame({'apt':apt, 'cars':cars})"
   ]
  },
  {
   "cell_type": "code",
   "execution_count": 78,
   "metadata": {},
   "outputs": [
    {
     "data": {
      "text/html": [
       "<div>\n",
       "<table border=\"1\" class=\"dataframe\">\n",
       "  <thead>\n",
       "    <tr style=\"text-align: right;\">\n",
       "      <th></th>\n",
       "      <th>apt</th>\n",
       "      <th>cars</th>\n",
       "    </tr>\n",
       "  </thead>\n",
       "  <tbody>\n",
       "    <tr>\n",
       "      <th>Beijing</th>\n",
       "      <td>55000.0</td>\n",
       "      <td>350000.0</td>\n",
       "    </tr>\n",
       "    <tr>\n",
       "      <th>Chongqing</th>\n",
       "      <td>NaN</td>\n",
       "      <td>150000.0</td>\n",
       "    </tr>\n",
       "    <tr>\n",
       "      <th>Guangzhou</th>\n",
       "      <td>45000.0</td>\n",
       "      <td>250000.0</td>\n",
       "    </tr>\n",
       "    <tr>\n",
       "      <th>Hangzhou</th>\n",
       "      <td>45000.0</td>\n",
       "      <td>NaN</td>\n",
       "    </tr>\n",
       "    <tr>\n",
       "      <th>ShangHai</th>\n",
       "      <td>60000.0</td>\n",
       "      <td>400000.0</td>\n",
       "    </tr>\n",
       "    <tr>\n",
       "      <th>Shenzhen</th>\n",
       "      <td>70000.0</td>\n",
       "      <td>300000.0</td>\n",
       "    </tr>\n",
       "    <tr>\n",
       "      <th>Suzhou</th>\n",
       "      <td>NaN</td>\n",
       "      <td>NaN</td>\n",
       "    </tr>\n",
       "    <tr>\n",
       "      <th>Tianjin</th>\n",
       "      <td>NaN</td>\n",
       "      <td>200000.0</td>\n",
       "    </tr>\n",
       "  </tbody>\n",
       "</table>\n",
       "</div>"
      ],
      "text/plain": [
       "               apt      cars\n",
       "Beijing    55000.0  350000.0\n",
       "Chongqing      NaN  150000.0\n",
       "Guangzhou  45000.0  250000.0\n",
       "Hangzhou   45000.0       NaN\n",
       "ShangHai   60000.0  400000.0\n",
       "Shenzhen   70000.0  300000.0\n",
       "Suzhou         NaN       NaN\n",
       "Tianjin        NaN  200000.0"
      ]
     },
     "execution_count": 78,
     "metadata": {},
     "output_type": "execute_result"
    }
   ],
   "source": [
    "df"
   ]
  },
  {
   "cell_type": "code",
   "execution_count": 79,
   "metadata": {},
   "outputs": [
    {
     "data": {
      "text/plain": [
       "Beijing      55000.0\n",
       "Chongqing        NaN\n",
       "Guangzhou    45000.0\n",
       "Hangzhou     45000.0\n",
       "ShangHai     60000.0\n",
       "Shenzhen     70000.0\n",
       "Suzhou           NaN\n",
       "Tianjin          NaN\n",
       "Name: apt, dtype: float64"
      ]
     },
     "execution_count": 79,
     "metadata": {},
     "output_type": "execute_result"
    }
   ],
   "source": [
    "# 取出一列(Series)\n",
    "df['apt']"
   ]
  },
  {
   "cell_type": "code",
   "execution_count": 80,
   "metadata": {},
   "outputs": [
    {
     "data": {
      "text/plain": [
       "pandas.core.series.Series"
      ]
     },
     "execution_count": 80,
     "metadata": {},
     "output_type": "execute_result"
    }
   ],
   "source": [
    "type(df['apt'])"
   ]
  },
  {
   "cell_type": "code",
   "execution_count": 81,
   "metadata": {},
   "outputs": [
    {
     "data": {
      "text/html": [
       "<div>\n",
       "<table border=\"1\" class=\"dataframe\">\n",
       "  <thead>\n",
       "    <tr style=\"text-align: right;\">\n",
       "      <th></th>\n",
       "      <th>apt</th>\n",
       "    </tr>\n",
       "  </thead>\n",
       "  <tbody>\n",
       "    <tr>\n",
       "      <th>Beijing</th>\n",
       "      <td>55000.0</td>\n",
       "    </tr>\n",
       "    <tr>\n",
       "      <th>Chongqing</th>\n",
       "      <td>NaN</td>\n",
       "    </tr>\n",
       "    <tr>\n",
       "      <th>Guangzhou</th>\n",
       "      <td>45000.0</td>\n",
       "    </tr>\n",
       "    <tr>\n",
       "      <th>Hangzhou</th>\n",
       "      <td>45000.0</td>\n",
       "    </tr>\n",
       "    <tr>\n",
       "      <th>ShangHai</th>\n",
       "      <td>60000.0</td>\n",
       "    </tr>\n",
       "    <tr>\n",
       "      <th>Shenzhen</th>\n",
       "      <td>70000.0</td>\n",
       "    </tr>\n",
       "    <tr>\n",
       "      <th>Suzhou</th>\n",
       "      <td>NaN</td>\n",
       "    </tr>\n",
       "    <tr>\n",
       "      <th>Tianjin</th>\n",
       "      <td>NaN</td>\n",
       "    </tr>\n",
       "  </tbody>\n",
       "</table>\n",
       "</div>"
      ],
      "text/plain": [
       "               apt\n",
       "Beijing    55000.0\n",
       "Chongqing      NaN\n",
       "Guangzhou  45000.0\n",
       "Hangzhou   45000.0\n",
       "ShangHai   60000.0\n",
       "Shenzhen   70000.0\n",
       "Suzhou         NaN\n",
       "Tianjin        NaN"
      ]
     },
     "execution_count": 81,
     "metadata": {},
     "output_type": "execute_result"
    }
   ],
   "source": [
    "df[['apt']]"
   ]
  },
  {
   "cell_type": "code",
   "execution_count": 82,
   "metadata": {},
   "outputs": [
    {
     "data": {
      "text/plain": [
       "pandas.core.frame.DataFrame"
      ]
     },
     "execution_count": 82,
     "metadata": {},
     "output_type": "execute_result"
    }
   ],
   "source": [
    "type(df[['apt']])"
   ]
  },
  {
   "cell_type": "code",
   "execution_count": 83,
   "metadata": {},
   "outputs": [
    {
     "data": {
      "text/html": [
       "<div>\n",
       "<table border=\"1\" class=\"dataframe\">\n",
       "  <thead>\n",
       "    <tr style=\"text-align: right;\">\n",
       "      <th></th>\n",
       "      <th>apt</th>\n",
       "      <th>cars</th>\n",
       "    </tr>\n",
       "  </thead>\n",
       "  <tbody>\n",
       "    <tr>\n",
       "      <th>Beijing</th>\n",
       "      <td>55000.0</td>\n",
       "      <td>350000.0</td>\n",
       "    </tr>\n",
       "    <tr>\n",
       "      <th>Chongqing</th>\n",
       "      <td>NaN</td>\n",
       "      <td>150000.0</td>\n",
       "    </tr>\n",
       "    <tr>\n",
       "      <th>Guangzhou</th>\n",
       "      <td>45000.0</td>\n",
       "      <td>250000.0</td>\n",
       "    </tr>\n",
       "    <tr>\n",
       "      <th>Hangzhou</th>\n",
       "      <td>45000.0</td>\n",
       "      <td>NaN</td>\n",
       "    </tr>\n",
       "    <tr>\n",
       "      <th>ShangHai</th>\n",
       "      <td>60000.0</td>\n",
       "      <td>400000.0</td>\n",
       "    </tr>\n",
       "    <tr>\n",
       "      <th>Shenzhen</th>\n",
       "      <td>70000.0</td>\n",
       "      <td>300000.0</td>\n",
       "    </tr>\n",
       "    <tr>\n",
       "      <th>Suzhou</th>\n",
       "      <td>NaN</td>\n",
       "      <td>NaN</td>\n",
       "    </tr>\n",
       "    <tr>\n",
       "      <th>Tianjin</th>\n",
       "      <td>NaN</td>\n",
       "      <td>200000.0</td>\n",
       "    </tr>\n",
       "  </tbody>\n",
       "</table>\n",
       "</div>"
      ],
      "text/plain": [
       "               apt      cars\n",
       "Beijing    55000.0  350000.0\n",
       "Chongqing      NaN  150000.0\n",
       "Guangzhou  45000.0  250000.0\n",
       "Hangzhou   45000.0       NaN\n",
       "ShangHai   60000.0  400000.0\n",
       "Shenzhen   70000.0  300000.0\n",
       "Suzhou         NaN       NaN\n",
       "Tianjin        NaN  200000.0"
      ]
     },
     "execution_count": 83,
     "metadata": {},
     "output_type": "execute_result"
    }
   ],
   "source": [
    "# 赋值\n",
    "df"
   ]
  },
  {
   "cell_type": "code",
   "execution_count": 84,
   "metadata": {
    "collapsed": true
   },
   "outputs": [],
   "source": [
    "df['bonus'] = 40000"
   ]
  },
  {
   "cell_type": "code",
   "execution_count": 85,
   "metadata": {},
   "outputs": [
    {
     "data": {
      "text/html": [
       "<div>\n",
       "<table border=\"1\" class=\"dataframe\">\n",
       "  <thead>\n",
       "    <tr style=\"text-align: right;\">\n",
       "      <th></th>\n",
       "      <th>apt</th>\n",
       "      <th>cars</th>\n",
       "      <th>bonus</th>\n",
       "    </tr>\n",
       "  </thead>\n",
       "  <tbody>\n",
       "    <tr>\n",
       "      <th>Beijing</th>\n",
       "      <td>55000.0</td>\n",
       "      <td>350000.0</td>\n",
       "      <td>40000</td>\n",
       "    </tr>\n",
       "    <tr>\n",
       "      <th>Chongqing</th>\n",
       "      <td>NaN</td>\n",
       "      <td>150000.0</td>\n",
       "      <td>40000</td>\n",
       "    </tr>\n",
       "    <tr>\n",
       "      <th>Guangzhou</th>\n",
       "      <td>45000.0</td>\n",
       "      <td>250000.0</td>\n",
       "      <td>40000</td>\n",
       "    </tr>\n",
       "    <tr>\n",
       "      <th>Hangzhou</th>\n",
       "      <td>45000.0</td>\n",
       "      <td>NaN</td>\n",
       "      <td>40000</td>\n",
       "    </tr>\n",
       "    <tr>\n",
       "      <th>ShangHai</th>\n",
       "      <td>60000.0</td>\n",
       "      <td>400000.0</td>\n",
       "      <td>40000</td>\n",
       "    </tr>\n",
       "    <tr>\n",
       "      <th>Shenzhen</th>\n",
       "      <td>70000.0</td>\n",
       "      <td>300000.0</td>\n",
       "      <td>40000</td>\n",
       "    </tr>\n",
       "    <tr>\n",
       "      <th>Suzhou</th>\n",
       "      <td>NaN</td>\n",
       "      <td>NaN</td>\n",
       "      <td>40000</td>\n",
       "    </tr>\n",
       "    <tr>\n",
       "      <th>Tianjin</th>\n",
       "      <td>NaN</td>\n",
       "      <td>200000.0</td>\n",
       "      <td>40000</td>\n",
       "    </tr>\n",
       "  </tbody>\n",
       "</table>\n",
       "</div>"
      ],
      "text/plain": [
       "               apt      cars  bonus\n",
       "Beijing    55000.0  350000.0  40000\n",
       "Chongqing      NaN  150000.0  40000\n",
       "Guangzhou  45000.0  250000.0  40000\n",
       "Hangzhou   45000.0       NaN  40000\n",
       "ShangHai   60000.0  400000.0  40000\n",
       "Shenzhen   70000.0  300000.0  40000\n",
       "Suzhou         NaN       NaN  40000\n",
       "Tianjin        NaN  200000.0  40000"
      ]
     },
     "execution_count": 85,
     "metadata": {},
     "output_type": "execute_result"
    }
   ],
   "source": [
    "df"
   ]
  },
  {
   "cell_type": "code",
   "execution_count": 86,
   "metadata": {
    "collapsed": true
   },
   "outputs": [],
   "source": [
    "# 对两列做计算\n",
    "df['expense'] = df['apt'] + df['bonus']"
   ]
  },
  {
   "cell_type": "code",
   "execution_count": 87,
   "metadata": {},
   "outputs": [
    {
     "data": {
      "text/html": [
       "<div>\n",
       "<table border=\"1\" class=\"dataframe\">\n",
       "  <thead>\n",
       "    <tr style=\"text-align: right;\">\n",
       "      <th></th>\n",
       "      <th>apt</th>\n",
       "      <th>cars</th>\n",
       "      <th>bonus</th>\n",
       "      <th>expense</th>\n",
       "    </tr>\n",
       "  </thead>\n",
       "  <tbody>\n",
       "    <tr>\n",
       "      <th>Beijing</th>\n",
       "      <td>55000.0</td>\n",
       "      <td>350000.0</td>\n",
       "      <td>40000</td>\n",
       "      <td>95000.0</td>\n",
       "    </tr>\n",
       "    <tr>\n",
       "      <th>Chongqing</th>\n",
       "      <td>NaN</td>\n",
       "      <td>150000.0</td>\n",
       "      <td>40000</td>\n",
       "      <td>NaN</td>\n",
       "    </tr>\n",
       "    <tr>\n",
       "      <th>Guangzhou</th>\n",
       "      <td>45000.0</td>\n",
       "      <td>250000.0</td>\n",
       "      <td>40000</td>\n",
       "      <td>85000.0</td>\n",
       "    </tr>\n",
       "    <tr>\n",
       "      <th>Hangzhou</th>\n",
       "      <td>45000.0</td>\n",
       "      <td>NaN</td>\n",
       "      <td>40000</td>\n",
       "      <td>85000.0</td>\n",
       "    </tr>\n",
       "    <tr>\n",
       "      <th>ShangHai</th>\n",
       "      <td>60000.0</td>\n",
       "      <td>400000.0</td>\n",
       "      <td>40000</td>\n",
       "      <td>100000.0</td>\n",
       "    </tr>\n",
       "    <tr>\n",
       "      <th>Shenzhen</th>\n",
       "      <td>70000.0</td>\n",
       "      <td>300000.0</td>\n",
       "      <td>40000</td>\n",
       "      <td>110000.0</td>\n",
       "    </tr>\n",
       "    <tr>\n",
       "      <th>Suzhou</th>\n",
       "      <td>NaN</td>\n",
       "      <td>NaN</td>\n",
       "      <td>40000</td>\n",
       "      <td>NaN</td>\n",
       "    </tr>\n",
       "    <tr>\n",
       "      <th>Tianjin</th>\n",
       "      <td>NaN</td>\n",
       "      <td>200000.0</td>\n",
       "      <td>40000</td>\n",
       "      <td>NaN</td>\n",
       "    </tr>\n",
       "  </tbody>\n",
       "</table>\n",
       "</div>"
      ],
      "text/plain": [
       "               apt      cars  bonus   expense\n",
       "Beijing    55000.0  350000.0  40000   95000.0\n",
       "Chongqing      NaN  150000.0  40000       NaN\n",
       "Guangzhou  45000.0  250000.0  40000   85000.0\n",
       "Hangzhou   45000.0       NaN  40000   85000.0\n",
       "ShangHai   60000.0  400000.0  40000  100000.0\n",
       "Shenzhen   70000.0  300000.0  40000  110000.0\n",
       "Suzhou         NaN       NaN  40000       NaN\n",
       "Tianjin        NaN  200000.0  40000       NaN"
      ]
     },
     "execution_count": 87,
     "metadata": {},
     "output_type": "execute_result"
    }
   ],
   "source": [
    "df"
   ]
  },
  {
   "cell_type": "code",
   "execution_count": 88,
   "metadata": {},
   "outputs": [
    {
     "data": {
      "text/plain": [
       "Index(['Beijing', 'Chongqing', 'Guangzhou', 'Hangzhou', 'ShangHai', 'Shenzhen',\n",
       "       'Suzhou', 'Tianjin'],\n",
       "      dtype='object')"
      ]
     },
     "execution_count": 88,
     "metadata": {},
     "output_type": "execute_result"
    }
   ],
   "source": [
    "df.index"
   ]
  },
  {
   "cell_type": "code",
   "execution_count": 89,
   "metadata": {},
   "outputs": [
    {
     "data": {
      "text/plain": [
       "apt         55000.0\n",
       "cars       350000.0\n",
       "bonus       40000.0\n",
       "expense     95000.0\n",
       "Name: Beijing, dtype: float64"
      ]
     },
     "execution_count": 89,
     "metadata": {},
     "output_type": "execute_result"
    }
   ],
   "source": [
    "df.loc['Beijing']"
   ]
  },
  {
   "cell_type": "code",
   "execution_count": 90,
   "metadata": {},
   "outputs": [
    {
     "data": {
      "text/plain": [
       "pandas.core.series.Series"
      ]
     },
     "execution_count": 90,
     "metadata": {},
     "output_type": "execute_result"
    }
   ],
   "source": [
    "type(df.loc['Beijing'])"
   ]
  },
  {
   "cell_type": "code",
   "execution_count": 91,
   "metadata": {},
   "outputs": [
    {
     "data": {
      "text/html": [
       "<div>\n",
       "<table border=\"1\" class=\"dataframe\">\n",
       "  <thead>\n",
       "    <tr style=\"text-align: right;\">\n",
       "      <th></th>\n",
       "      <th>apt</th>\n",
       "      <th>cars</th>\n",
       "      <th>bonus</th>\n",
       "      <th>expense</th>\n",
       "    </tr>\n",
       "  </thead>\n",
       "  <tbody>\n",
       "    <tr>\n",
       "      <th>Beijing</th>\n",
       "      <td>55000.0</td>\n",
       "      <td>350000.0</td>\n",
       "      <td>40000</td>\n",
       "      <td>95000.0</td>\n",
       "    </tr>\n",
       "    <tr>\n",
       "      <th>ShangHai</th>\n",
       "      <td>60000.0</td>\n",
       "      <td>400000.0</td>\n",
       "      <td>40000</td>\n",
       "      <td>100000.0</td>\n",
       "    </tr>\n",
       "    <tr>\n",
       "      <th>Guangzhou</th>\n",
       "      <td>45000.0</td>\n",
       "      <td>250000.0</td>\n",
       "      <td>40000</td>\n",
       "      <td>85000.0</td>\n",
       "    </tr>\n",
       "  </tbody>\n",
       "</table>\n",
       "</div>"
      ],
      "text/plain": [
       "               apt      cars  bonus   expense\n",
       "Beijing    55000.0  350000.0  40000   95000.0\n",
       "ShangHai   60000.0  400000.0  40000  100000.0\n",
       "Guangzhou  45000.0  250000.0  40000   85000.0"
      ]
     },
     "execution_count": 91,
     "metadata": {},
     "output_type": "execute_result"
    }
   ],
   "source": [
    "df.loc[['Beijing', 'ShangHai', 'Guangzhou']]"
   ]
  },
  {
   "cell_type": "code",
   "execution_count": 92,
   "metadata": {},
   "outputs": [
    {
     "data": {
      "text/html": [
       "<div>\n",
       "<table border=\"1\" class=\"dataframe\">\n",
       "  <thead>\n",
       "    <tr style=\"text-align: right;\">\n",
       "      <th></th>\n",
       "      <th>apt</th>\n",
       "      <th>cars</th>\n",
       "      <th>bonus</th>\n",
       "      <th>expense</th>\n",
       "    </tr>\n",
       "  </thead>\n",
       "  <tbody>\n",
       "    <tr>\n",
       "      <th>Beijing</th>\n",
       "      <td>55000.0</td>\n",
       "      <td>350000.0</td>\n",
       "      <td>40000</td>\n",
       "      <td>95000.0</td>\n",
       "    </tr>\n",
       "    <tr>\n",
       "      <th>Chongqing</th>\n",
       "      <td>NaN</td>\n",
       "      <td>150000.0</td>\n",
       "      <td>40000</td>\n",
       "      <td>NaN</td>\n",
       "    </tr>\n",
       "    <tr>\n",
       "      <th>Guangzhou</th>\n",
       "      <td>45000.0</td>\n",
       "      <td>250000.0</td>\n",
       "      <td>40000</td>\n",
       "      <td>85000.0</td>\n",
       "    </tr>\n",
       "    <tr>\n",
       "      <th>Hangzhou</th>\n",
       "      <td>45000.0</td>\n",
       "      <td>NaN</td>\n",
       "      <td>40000</td>\n",
       "      <td>85000.0</td>\n",
       "    </tr>\n",
       "    <tr>\n",
       "      <th>ShangHai</th>\n",
       "      <td>60000.0</td>\n",
       "      <td>400000.0</td>\n",
       "      <td>40000</td>\n",
       "      <td>100000.0</td>\n",
       "    </tr>\n",
       "    <tr>\n",
       "      <th>Shenzhen</th>\n",
       "      <td>70000.0</td>\n",
       "      <td>300000.0</td>\n",
       "      <td>40000</td>\n",
       "      <td>110000.0</td>\n",
       "    </tr>\n",
       "    <tr>\n",
       "      <th>Suzhou</th>\n",
       "      <td>NaN</td>\n",
       "      <td>NaN</td>\n",
       "      <td>40000</td>\n",
       "      <td>NaN</td>\n",
       "    </tr>\n",
       "    <tr>\n",
       "      <th>Tianjin</th>\n",
       "      <td>NaN</td>\n",
       "      <td>200000.0</td>\n",
       "      <td>40000</td>\n",
       "      <td>NaN</td>\n",
       "    </tr>\n",
       "  </tbody>\n",
       "</table>\n",
       "</div>"
      ],
      "text/plain": [
       "               apt      cars  bonus   expense\n",
       "Beijing    55000.0  350000.0  40000   95000.0\n",
       "Chongqing      NaN  150000.0  40000       NaN\n",
       "Guangzhou  45000.0  250000.0  40000   85000.0\n",
       "Hangzhou   45000.0       NaN  40000   85000.0\n",
       "ShangHai   60000.0  400000.0  40000  100000.0\n",
       "Shenzhen   70000.0  300000.0  40000  110000.0\n",
       "Suzhou         NaN       NaN  40000       NaN\n",
       "Tianjin        NaN  200000.0  40000       NaN"
      ]
     },
     "execution_count": 92,
     "metadata": {},
     "output_type": "execute_result"
    }
   ],
   "source": [
    "df"
   ]
  },
  {
   "cell_type": "code",
   "execution_count": 93,
   "metadata": {},
   "outputs": [
    {
     "data": {
      "text/html": [
       "<div>\n",
       "<table border=\"1\" class=\"dataframe\">\n",
       "  <thead>\n",
       "    <tr style=\"text-align: right;\">\n",
       "      <th></th>\n",
       "      <th>apt</th>\n",
       "      <th>bonus</th>\n",
       "    </tr>\n",
       "  </thead>\n",
       "  <tbody>\n",
       "    <tr>\n",
       "      <th>Beijing</th>\n",
       "      <td>55000.0</td>\n",
       "      <td>40000</td>\n",
       "    </tr>\n",
       "    <tr>\n",
       "      <th>Chongqing</th>\n",
       "      <td>NaN</td>\n",
       "      <td>40000</td>\n",
       "    </tr>\n",
       "    <tr>\n",
       "      <th>Guangzhou</th>\n",
       "      <td>45000.0</td>\n",
       "      <td>40000</td>\n",
       "    </tr>\n",
       "    <tr>\n",
       "      <th>Hangzhou</th>\n",
       "      <td>45000.0</td>\n",
       "      <td>40000</td>\n",
       "    </tr>\n",
       "    <tr>\n",
       "      <th>ShangHai</th>\n",
       "      <td>60000.0</td>\n",
       "      <td>40000</td>\n",
       "    </tr>\n",
       "    <tr>\n",
       "      <th>Shenzhen</th>\n",
       "      <td>70000.0</td>\n",
       "      <td>40000</td>\n",
       "    </tr>\n",
       "    <tr>\n",
       "      <th>Suzhou</th>\n",
       "      <td>NaN</td>\n",
       "      <td>40000</td>\n",
       "    </tr>\n",
       "  </tbody>\n",
       "</table>\n",
       "</div>"
      ],
      "text/plain": [
       "               apt  bonus\n",
       "Beijing    55000.0  40000\n",
       "Chongqing      NaN  40000\n",
       "Guangzhou  45000.0  40000\n",
       "Hangzhou   45000.0  40000\n",
       "ShangHai   60000.0  40000\n",
       "Shenzhen   70000.0  40000\n",
       "Suzhou         NaN  40000"
      ]
     },
     "execution_count": 93,
     "metadata": {},
     "output_type": "execute_result"
    }
   ],
   "source": [
    "# 高级函数loc\n",
    "df.loc['Beijing':'Suzhou', ['apt','bonus']]"
   ]
  },
  {
   "cell_type": "code",
   "execution_count": 94,
   "metadata": {},
   "outputs": [
    {
     "data": {
      "text/html": [
       "<div>\n",
       "<table border=\"1\" class=\"dataframe\">\n",
       "  <thead>\n",
       "    <tr style=\"text-align: right;\">\n",
       "      <th></th>\n",
       "      <th>apt</th>\n",
       "      <th>cars</th>\n",
       "      <th>bonus</th>\n",
       "    </tr>\n",
       "  </thead>\n",
       "  <tbody>\n",
       "    <tr>\n",
       "      <th>Beijing</th>\n",
       "      <td>55000.0</td>\n",
       "      <td>350000.0</td>\n",
       "      <td>40000</td>\n",
       "    </tr>\n",
       "    <tr>\n",
       "      <th>Chongqing</th>\n",
       "      <td>NaN</td>\n",
       "      <td>150000.0</td>\n",
       "      <td>40000</td>\n",
       "    </tr>\n",
       "    <tr>\n",
       "      <th>Guangzhou</th>\n",
       "      <td>45000.0</td>\n",
       "      <td>250000.0</td>\n",
       "      <td>40000</td>\n",
       "    </tr>\n",
       "    <tr>\n",
       "      <th>Hangzhou</th>\n",
       "      <td>45000.0</td>\n",
       "      <td>NaN</td>\n",
       "      <td>40000</td>\n",
       "    </tr>\n",
       "    <tr>\n",
       "      <th>ShangHai</th>\n",
       "      <td>60000.0</td>\n",
       "      <td>400000.0</td>\n",
       "      <td>40000</td>\n",
       "    </tr>\n",
       "    <tr>\n",
       "      <th>Shenzhen</th>\n",
       "      <td>70000.0</td>\n",
       "      <td>300000.0</td>\n",
       "      <td>40000</td>\n",
       "    </tr>\n",
       "    <tr>\n",
       "      <th>Suzhou</th>\n",
       "      <td>NaN</td>\n",
       "      <td>NaN</td>\n",
       "      <td>40000</td>\n",
       "    </tr>\n",
       "  </tbody>\n",
       "</table>\n",
       "</div>"
      ],
      "text/plain": [
       "               apt      cars  bonus\n",
       "Beijing    55000.0  350000.0  40000\n",
       "Chongqing      NaN  150000.0  40000\n",
       "Guangzhou  45000.0  250000.0  40000\n",
       "Hangzhou   45000.0       NaN  40000\n",
       "ShangHai   60000.0  400000.0  40000\n",
       "Shenzhen   70000.0  300000.0  40000\n",
       "Suzhou         NaN       NaN  40000"
      ]
     },
     "execution_count": 94,
     "metadata": {},
     "output_type": "execute_result"
    }
   ],
   "source": [
    "# 类似切片的用法\n",
    "df.loc['Beijing':'Suzhou', 'apt':'bonus']"
   ]
  },
  {
   "cell_type": "code",
   "execution_count": 95,
   "metadata": {},
   "outputs": [
    {
     "data": {
      "text/html": [
       "<div>\n",
       "<table border=\"1\" class=\"dataframe\">\n",
       "  <thead>\n",
       "    <tr style=\"text-align: right;\">\n",
       "      <th></th>\n",
       "      <th>apt</th>\n",
       "      <th>bonus</th>\n",
       "    </tr>\n",
       "  </thead>\n",
       "  <tbody>\n",
       "    <tr>\n",
       "      <th>Beijing</th>\n",
       "      <td>55000.0</td>\n",
       "      <td>40000</td>\n",
       "    </tr>\n",
       "    <tr>\n",
       "      <th>Suzhou</th>\n",
       "      <td>NaN</td>\n",
       "      <td>40000</td>\n",
       "    </tr>\n",
       "  </tbody>\n",
       "</table>\n",
       "</div>"
      ],
      "text/plain": [
       "             apt  bonus\n",
       "Beijing  55000.0  40000\n",
       "Suzhou       NaN  40000"
      ]
     },
     "execution_count": 95,
     "metadata": {},
     "output_type": "execute_result"
    }
   ],
   "source": [
    "# 传入list的用法\n",
    "df.loc[['Beijing','Suzhou'], ['apt','bonus']]"
   ]
  },
  {
   "cell_type": "code",
   "execution_count": 96,
   "metadata": {},
   "outputs": [
    {
     "data": {
      "text/html": [
       "<div>\n",
       "<table border=\"1\" class=\"dataframe\">\n",
       "  <thead>\n",
       "    <tr style=\"text-align: right;\">\n",
       "      <th></th>\n",
       "      <th>apt</th>\n",
       "      <th>cars</th>\n",
       "      <th>bonus</th>\n",
       "      <th>expense</th>\n",
       "    </tr>\n",
       "  </thead>\n",
       "  <tbody>\n",
       "    <tr>\n",
       "      <th>Beijing</th>\n",
       "      <td>55000.0</td>\n",
       "      <td>350000.0</td>\n",
       "      <td>40000</td>\n",
       "      <td>95000.0</td>\n",
       "    </tr>\n",
       "    <tr>\n",
       "      <th>Chongqing</th>\n",
       "      <td>NaN</td>\n",
       "      <td>150000.0</td>\n",
       "      <td>40000</td>\n",
       "      <td>NaN</td>\n",
       "    </tr>\n",
       "    <tr>\n",
       "      <th>Guangzhou</th>\n",
       "      <td>45000.0</td>\n",
       "      <td>250000.0</td>\n",
       "      <td>40000</td>\n",
       "      <td>85000.0</td>\n",
       "    </tr>\n",
       "    <tr>\n",
       "      <th>Hangzhou</th>\n",
       "      <td>45000.0</td>\n",
       "      <td>NaN</td>\n",
       "      <td>40000</td>\n",
       "      <td>85000.0</td>\n",
       "    </tr>\n",
       "    <tr>\n",
       "      <th>ShangHai</th>\n",
       "      <td>60000.0</td>\n",
       "      <td>400000.0</td>\n",
       "      <td>40000</td>\n",
       "      <td>100000.0</td>\n",
       "    </tr>\n",
       "    <tr>\n",
       "      <th>Shenzhen</th>\n",
       "      <td>70000.0</td>\n",
       "      <td>300000.0</td>\n",
       "      <td>40000</td>\n",
       "      <td>110000.0</td>\n",
       "    </tr>\n",
       "    <tr>\n",
       "      <th>Suzhou</th>\n",
       "      <td>NaN</td>\n",
       "      <td>NaN</td>\n",
       "      <td>40000</td>\n",
       "      <td>NaN</td>\n",
       "    </tr>\n",
       "    <tr>\n",
       "      <th>Tianjin</th>\n",
       "      <td>NaN</td>\n",
       "      <td>200000.0</td>\n",
       "      <td>40000</td>\n",
       "      <td>NaN</td>\n",
       "    </tr>\n",
       "  </tbody>\n",
       "</table>\n",
       "</div>"
      ],
      "text/plain": [
       "               apt      cars  bonus   expense\n",
       "Beijing    55000.0  350000.0  40000   95000.0\n",
       "Chongqing      NaN  150000.0  40000       NaN\n",
       "Guangzhou  45000.0  250000.0  40000   85000.0\n",
       "Hangzhou   45000.0       NaN  40000   85000.0\n",
       "ShangHai   60000.0  400000.0  40000  100000.0\n",
       "Shenzhen   70000.0  300000.0  40000  110000.0\n",
       "Suzhou         NaN       NaN  40000       NaN\n",
       "Tianjin        NaN  200000.0  40000       NaN"
      ]
     },
     "execution_count": 96,
     "metadata": {},
     "output_type": "execute_result"
    }
   ],
   "source": [
    "df"
   ]
  },
  {
   "cell_type": "code",
   "execution_count": 97,
   "metadata": {
    "collapsed": true
   },
   "outputs": [],
   "source": [
    "df.loc['Beijing','bonus'] = 50000"
   ]
  },
  {
   "cell_type": "code",
   "execution_count": 98,
   "metadata": {},
   "outputs": [
    {
     "data": {
      "text/html": [
       "<div>\n",
       "<table border=\"1\" class=\"dataframe\">\n",
       "  <thead>\n",
       "    <tr style=\"text-align: right;\">\n",
       "      <th></th>\n",
       "      <th>apt</th>\n",
       "      <th>cars</th>\n",
       "      <th>bonus</th>\n",
       "      <th>expense</th>\n",
       "    </tr>\n",
       "  </thead>\n",
       "  <tbody>\n",
       "    <tr>\n",
       "      <th>Beijing</th>\n",
       "      <td>55000.0</td>\n",
       "      <td>350000.0</td>\n",
       "      <td>50000</td>\n",
       "      <td>95000.0</td>\n",
       "    </tr>\n",
       "    <tr>\n",
       "      <th>Chongqing</th>\n",
       "      <td>NaN</td>\n",
       "      <td>150000.0</td>\n",
       "      <td>40000</td>\n",
       "      <td>NaN</td>\n",
       "    </tr>\n",
       "    <tr>\n",
       "      <th>Guangzhou</th>\n",
       "      <td>45000.0</td>\n",
       "      <td>250000.0</td>\n",
       "      <td>40000</td>\n",
       "      <td>85000.0</td>\n",
       "    </tr>\n",
       "    <tr>\n",
       "      <th>Hangzhou</th>\n",
       "      <td>45000.0</td>\n",
       "      <td>NaN</td>\n",
       "      <td>40000</td>\n",
       "      <td>85000.0</td>\n",
       "    </tr>\n",
       "    <tr>\n",
       "      <th>ShangHai</th>\n",
       "      <td>60000.0</td>\n",
       "      <td>400000.0</td>\n",
       "      <td>40000</td>\n",
       "      <td>100000.0</td>\n",
       "    </tr>\n",
       "    <tr>\n",
       "      <th>Shenzhen</th>\n",
       "      <td>70000.0</td>\n",
       "      <td>300000.0</td>\n",
       "      <td>40000</td>\n",
       "      <td>110000.0</td>\n",
       "    </tr>\n",
       "    <tr>\n",
       "      <th>Suzhou</th>\n",
       "      <td>NaN</td>\n",
       "      <td>NaN</td>\n",
       "      <td>40000</td>\n",
       "      <td>NaN</td>\n",
       "    </tr>\n",
       "    <tr>\n",
       "      <th>Tianjin</th>\n",
       "      <td>NaN</td>\n",
       "      <td>200000.0</td>\n",
       "      <td>40000</td>\n",
       "      <td>NaN</td>\n",
       "    </tr>\n",
       "  </tbody>\n",
       "</table>\n",
       "</div>"
      ],
      "text/plain": [
       "               apt      cars  bonus   expense\n",
       "Beijing    55000.0  350000.0  50000   95000.0\n",
       "Chongqing      NaN  150000.0  40000       NaN\n",
       "Guangzhou  45000.0  250000.0  40000   85000.0\n",
       "Hangzhou   45000.0       NaN  40000   85000.0\n",
       "ShangHai   60000.0  400000.0  40000  100000.0\n",
       "Shenzhen   70000.0  300000.0  40000  110000.0\n",
       "Suzhou         NaN       NaN  40000       NaN\n",
       "Tianjin        NaN  200000.0  40000       NaN"
      ]
     },
     "execution_count": 98,
     "metadata": {},
     "output_type": "execute_result"
    }
   ],
   "source": [
    "df"
   ]
  },
  {
   "cell_type": "code",
   "execution_count": 99,
   "metadata": {
    "collapsed": true
   },
   "outputs": [],
   "source": [
    "#对列赋值\n",
    "df.loc[:,'expense'] = 100000"
   ]
  },
  {
   "cell_type": "code",
   "execution_count": 100,
   "metadata": {},
   "outputs": [
    {
     "data": {
      "text/html": [
       "<div>\n",
       "<table border=\"1\" class=\"dataframe\">\n",
       "  <thead>\n",
       "    <tr style=\"text-align: right;\">\n",
       "      <th></th>\n",
       "      <th>apt</th>\n",
       "      <th>cars</th>\n",
       "      <th>bonus</th>\n",
       "      <th>expense</th>\n",
       "    </tr>\n",
       "  </thead>\n",
       "  <tbody>\n",
       "    <tr>\n",
       "      <th>Beijing</th>\n",
       "      <td>55000.0</td>\n",
       "      <td>350000.0</td>\n",
       "      <td>50000</td>\n",
       "      <td>100000</td>\n",
       "    </tr>\n",
       "    <tr>\n",
       "      <th>Chongqing</th>\n",
       "      <td>NaN</td>\n",
       "      <td>150000.0</td>\n",
       "      <td>40000</td>\n",
       "      <td>100000</td>\n",
       "    </tr>\n",
       "    <tr>\n",
       "      <th>Guangzhou</th>\n",
       "      <td>45000.0</td>\n",
       "      <td>250000.0</td>\n",
       "      <td>40000</td>\n",
       "      <td>100000</td>\n",
       "    </tr>\n",
       "    <tr>\n",
       "      <th>Hangzhou</th>\n",
       "      <td>45000.0</td>\n",
       "      <td>NaN</td>\n",
       "      <td>40000</td>\n",
       "      <td>100000</td>\n",
       "    </tr>\n",
       "    <tr>\n",
       "      <th>ShangHai</th>\n",
       "      <td>60000.0</td>\n",
       "      <td>400000.0</td>\n",
       "      <td>40000</td>\n",
       "      <td>100000</td>\n",
       "    </tr>\n",
       "    <tr>\n",
       "      <th>Shenzhen</th>\n",
       "      <td>70000.0</td>\n",
       "      <td>300000.0</td>\n",
       "      <td>40000</td>\n",
       "      <td>100000</td>\n",
       "    </tr>\n",
       "    <tr>\n",
       "      <th>Suzhou</th>\n",
       "      <td>NaN</td>\n",
       "      <td>NaN</td>\n",
       "      <td>40000</td>\n",
       "      <td>100000</td>\n",
       "    </tr>\n",
       "    <tr>\n",
       "      <th>Tianjin</th>\n",
       "      <td>NaN</td>\n",
       "      <td>200000.0</td>\n",
       "      <td>40000</td>\n",
       "      <td>100000</td>\n",
       "    </tr>\n",
       "  </tbody>\n",
       "</table>\n",
       "</div>"
      ],
      "text/plain": [
       "               apt      cars  bonus  expense\n",
       "Beijing    55000.0  350000.0  50000   100000\n",
       "Chongqing      NaN  150000.0  40000   100000\n",
       "Guangzhou  45000.0  250000.0  40000   100000\n",
       "Hangzhou   45000.0       NaN  40000   100000\n",
       "ShangHai   60000.0  400000.0  40000   100000\n",
       "Shenzhen   70000.0  300000.0  40000   100000\n",
       "Suzhou         NaN       NaN  40000   100000\n",
       "Tianjin        NaN  200000.0  40000   100000"
      ]
     },
     "execution_count": 100,
     "metadata": {},
     "output_type": "execute_result"
    }
   ],
   "source": [
    "df"
   ]
  },
  {
   "cell_type": "code",
   "execution_count": 101,
   "metadata": {},
   "outputs": [
    {
     "data": {
      "text/plain": [
       "(8, 4)"
      ]
     },
     "execution_count": 101,
     "metadata": {},
     "output_type": "execute_result"
    }
   ],
   "source": [
    "df.shape"
   ]
  },
  {
   "cell_type": "code",
   "execution_count": 102,
   "metadata": {},
   "outputs": [
    {
     "name": "stdout",
     "output_type": "stream",
     "text": [
      "<class 'pandas.core.frame.DataFrame'>\n",
      "Index: 8 entries, Beijing to Tianjin\n",
      "Data columns (total 4 columns):\n",
      "apt        5 non-null float64\n",
      "cars       6 non-null float64\n",
      "bonus      8 non-null int64\n",
      "expense    8 non-null int64\n",
      "dtypes: float64(2), int64(2)\n",
      "memory usage: 320.0+ bytes\n"
     ]
    }
   ],
   "source": [
    "df.info()"
   ]
  },
  {
   "cell_type": "code",
   "execution_count": 103,
   "metadata": {},
   "outputs": [
    {
     "data": {
      "text/html": [
       "<div>\n",
       "<table border=\"1\" class=\"dataframe\">\n",
       "  <thead>\n",
       "    <tr style=\"text-align: right;\">\n",
       "      <th></th>\n",
       "      <th>Beijing</th>\n",
       "      <th>Chongqing</th>\n",
       "      <th>Guangzhou</th>\n",
       "      <th>Hangzhou</th>\n",
       "      <th>ShangHai</th>\n",
       "      <th>Shenzhen</th>\n",
       "      <th>Suzhou</th>\n",
       "      <th>Tianjin</th>\n",
       "    </tr>\n",
       "  </thead>\n",
       "  <tbody>\n",
       "    <tr>\n",
       "      <th>apt</th>\n",
       "      <td>55000.0</td>\n",
       "      <td>NaN</td>\n",
       "      <td>45000.0</td>\n",
       "      <td>45000.0</td>\n",
       "      <td>60000.0</td>\n",
       "      <td>70000.0</td>\n",
       "      <td>NaN</td>\n",
       "      <td>NaN</td>\n",
       "    </tr>\n",
       "    <tr>\n",
       "      <th>cars</th>\n",
       "      <td>350000.0</td>\n",
       "      <td>150000.0</td>\n",
       "      <td>250000.0</td>\n",
       "      <td>NaN</td>\n",
       "      <td>400000.0</td>\n",
       "      <td>300000.0</td>\n",
       "      <td>NaN</td>\n",
       "      <td>200000.0</td>\n",
       "    </tr>\n",
       "    <tr>\n",
       "      <th>bonus</th>\n",
       "      <td>50000.0</td>\n",
       "      <td>40000.0</td>\n",
       "      <td>40000.0</td>\n",
       "      <td>40000.0</td>\n",
       "      <td>40000.0</td>\n",
       "      <td>40000.0</td>\n",
       "      <td>40000.0</td>\n",
       "      <td>40000.0</td>\n",
       "    </tr>\n",
       "    <tr>\n",
       "      <th>expense</th>\n",
       "      <td>100000.0</td>\n",
       "      <td>100000.0</td>\n",
       "      <td>100000.0</td>\n",
       "      <td>100000.0</td>\n",
       "      <td>100000.0</td>\n",
       "      <td>100000.0</td>\n",
       "      <td>100000.0</td>\n",
       "      <td>100000.0</td>\n",
       "    </tr>\n",
       "  </tbody>\n",
       "</table>\n",
       "</div>"
      ],
      "text/plain": [
       "          Beijing  Chongqing  Guangzhou  Hangzhou  ShangHai  Shenzhen  \\\n",
       "apt       55000.0        NaN    45000.0   45000.0   60000.0   70000.0   \n",
       "cars     350000.0   150000.0   250000.0       NaN  400000.0  300000.0   \n",
       "bonus     50000.0    40000.0    40000.0   40000.0   40000.0   40000.0   \n",
       "expense  100000.0   100000.0   100000.0  100000.0  100000.0  100000.0   \n",
       "\n",
       "           Suzhou   Tianjin  \n",
       "apt           NaN       NaN  \n",
       "cars          NaN  200000.0  \n",
       "bonus     40000.0   40000.0  \n",
       "expense  100000.0  100000.0  "
      ]
     },
     "execution_count": 103,
     "metadata": {},
     "output_type": "execute_result"
    }
   ],
   "source": [
    "df.T"
   ]
  },
  {
   "cell_type": "code",
   "execution_count": 104,
   "metadata": {},
   "outputs": [
    {
     "data": {
      "text/html": [
       "<div>\n",
       "<table border=\"1\" class=\"dataframe\">\n",
       "  <thead>\n",
       "    <tr style=\"text-align: right;\">\n",
       "      <th></th>\n",
       "      <th>apt</th>\n",
       "      <th>cars</th>\n",
       "      <th>bonus</th>\n",
       "      <th>expense</th>\n",
       "    </tr>\n",
       "  </thead>\n",
       "  <tbody>\n",
       "    <tr>\n",
       "      <th>Beijing</th>\n",
       "      <td>55000.0</td>\n",
       "      <td>350000.0</td>\n",
       "      <td>50000</td>\n",
       "      <td>100000</td>\n",
       "    </tr>\n",
       "    <tr>\n",
       "      <th>Chongqing</th>\n",
       "      <td>NaN</td>\n",
       "      <td>150000.0</td>\n",
       "      <td>40000</td>\n",
       "      <td>100000</td>\n",
       "    </tr>\n",
       "    <tr>\n",
       "      <th>Guangzhou</th>\n",
       "      <td>45000.0</td>\n",
       "      <td>250000.0</td>\n",
       "      <td>40000</td>\n",
       "      <td>100000</td>\n",
       "    </tr>\n",
       "    <tr>\n",
       "      <th>Hangzhou</th>\n",
       "      <td>45000.0</td>\n",
       "      <td>NaN</td>\n",
       "      <td>40000</td>\n",
       "      <td>100000</td>\n",
       "    </tr>\n",
       "    <tr>\n",
       "      <th>ShangHai</th>\n",
       "      <td>60000.0</td>\n",
       "      <td>400000.0</td>\n",
       "      <td>40000</td>\n",
       "      <td>100000</td>\n",
       "    </tr>\n",
       "    <tr>\n",
       "      <th>Shenzhen</th>\n",
       "      <td>70000.0</td>\n",
       "      <td>300000.0</td>\n",
       "      <td>40000</td>\n",
       "      <td>100000</td>\n",
       "    </tr>\n",
       "    <tr>\n",
       "      <th>Suzhou</th>\n",
       "      <td>NaN</td>\n",
       "      <td>NaN</td>\n",
       "      <td>40000</td>\n",
       "      <td>100000</td>\n",
       "    </tr>\n",
       "    <tr>\n",
       "      <th>Tianjin</th>\n",
       "      <td>NaN</td>\n",
       "      <td>200000.0</td>\n",
       "      <td>40000</td>\n",
       "      <td>100000</td>\n",
       "    </tr>\n",
       "  </tbody>\n",
       "</table>\n",
       "</div>"
      ],
      "text/plain": [
       "               apt      cars  bonus  expense\n",
       "Beijing    55000.0  350000.0  50000   100000\n",
       "Chongqing      NaN  150000.0  40000   100000\n",
       "Guangzhou  45000.0  250000.0  40000   100000\n",
       "Hangzhou   45000.0       NaN  40000   100000\n",
       "ShangHai   60000.0  400000.0  40000   100000\n",
       "Shenzhen   70000.0  300000.0  40000   100000\n",
       "Suzhou         NaN       NaN  40000   100000\n",
       "Tianjin        NaN  200000.0  40000   100000"
      ]
     },
     "execution_count": 104,
     "metadata": {},
     "output_type": "execute_result"
    }
   ],
   "source": [
    "df"
   ]
  },
  {
   "cell_type": "code",
   "execution_count": 105,
   "metadata": {},
   "outputs": [
    {
     "data": {
      "text/html": [
       "<div>\n",
       "<table border=\"1\" class=\"dataframe\">\n",
       "  <thead>\n",
       "    <tr style=\"text-align: right;\">\n",
       "      <th></th>\n",
       "      <th>apt</th>\n",
       "      <th>cars</th>\n",
       "      <th>bonus</th>\n",
       "      <th>expense</th>\n",
       "    </tr>\n",
       "  </thead>\n",
       "  <tbody>\n",
       "    <tr>\n",
       "      <th>count</th>\n",
       "      <td>5.000000</td>\n",
       "      <td>6.000000</td>\n",
       "      <td>8.000000</td>\n",
       "      <td>8.0</td>\n",
       "    </tr>\n",
       "    <tr>\n",
       "      <th>mean</th>\n",
       "      <td>55000.000000</td>\n",
       "      <td>275000.000000</td>\n",
       "      <td>41250.000000</td>\n",
       "      <td>100000.0</td>\n",
       "    </tr>\n",
       "    <tr>\n",
       "      <th>std</th>\n",
       "      <td>10606.601718</td>\n",
       "      <td>93541.434669</td>\n",
       "      <td>3535.533906</td>\n",
       "      <td>0.0</td>\n",
       "    </tr>\n",
       "    <tr>\n",
       "      <th>min</th>\n",
       "      <td>45000.000000</td>\n",
       "      <td>150000.000000</td>\n",
       "      <td>40000.000000</td>\n",
       "      <td>100000.0</td>\n",
       "    </tr>\n",
       "    <tr>\n",
       "      <th>25%</th>\n",
       "      <td>45000.000000</td>\n",
       "      <td>212500.000000</td>\n",
       "      <td>40000.000000</td>\n",
       "      <td>100000.0</td>\n",
       "    </tr>\n",
       "    <tr>\n",
       "      <th>50%</th>\n",
       "      <td>55000.000000</td>\n",
       "      <td>275000.000000</td>\n",
       "      <td>40000.000000</td>\n",
       "      <td>100000.0</td>\n",
       "    </tr>\n",
       "    <tr>\n",
       "      <th>75%</th>\n",
       "      <td>60000.000000</td>\n",
       "      <td>337500.000000</td>\n",
       "      <td>40000.000000</td>\n",
       "      <td>100000.0</td>\n",
       "    </tr>\n",
       "    <tr>\n",
       "      <th>max</th>\n",
       "      <td>70000.000000</td>\n",
       "      <td>400000.000000</td>\n",
       "      <td>50000.000000</td>\n",
       "      <td>100000.0</td>\n",
       "    </tr>\n",
       "  </tbody>\n",
       "</table>\n",
       "</div>"
      ],
      "text/plain": [
       "                apt           cars         bonus   expense\n",
       "count      5.000000       6.000000      8.000000       8.0\n",
       "mean   55000.000000  275000.000000  41250.000000  100000.0\n",
       "std    10606.601718   93541.434669   3535.533906       0.0\n",
       "min    45000.000000  150000.000000  40000.000000  100000.0\n",
       "25%    45000.000000  212500.000000  40000.000000  100000.0\n",
       "50%    55000.000000  275000.000000  40000.000000  100000.0\n",
       "75%    60000.000000  337500.000000  40000.000000  100000.0\n",
       "max    70000.000000  400000.000000  50000.000000  100000.0"
      ]
     },
     "execution_count": 105,
     "metadata": {},
     "output_type": "execute_result"
    }
   ],
   "source": [
    "df.describe()"
   ]
  },
  {
   "cell_type": "code",
   "execution_count": 106,
   "metadata": {},
   "outputs": [
    {
     "data": {
      "text/plain": [
       "Beijing      350000.0\n",
       "Chongqing    150000.0\n",
       "Guangzhou    250000.0\n",
       "Hangzhou          NaN\n",
       "ShangHai     400000.0\n",
       "Shenzhen     300000.0\n",
       "Suzhou            NaN\n",
       "Tianjin      200000.0\n",
       "Name: cars, dtype: float64"
      ]
     },
     "execution_count": 106,
     "metadata": {},
     "output_type": "execute_result"
    }
   ],
   "source": [
    "df['cars']"
   ]
  },
  {
   "cell_type": "code",
   "execution_count": 107,
   "metadata": {},
   "outputs": [
    {
     "data": {
      "text/plain": [
       "Beijing      False\n",
       "Chongqing     True\n",
       "Guangzhou     True\n",
       "Hangzhou     False\n",
       "ShangHai     False\n",
       "Shenzhen      True\n",
       "Suzhou       False\n",
       "Tianjin       True\n",
       "Name: cars, dtype: bool"
      ]
     },
     "execution_count": 107,
     "metadata": {},
     "output_type": "execute_result"
    }
   ],
   "source": [
    "df['cars'] < 310000"
   ]
  },
  {
   "cell_type": "code",
   "execution_count": 109,
   "metadata": {},
   "outputs": [],
   "source": [
    "df.loc[:,'color'] = ['红','黄','紫','蓝','红','绿','棕','橙']"
   ]
  },
  {
   "cell_type": "code",
   "execution_count": 110,
   "metadata": {},
   "outputs": [
    {
     "data": {
      "text/html": [
       "<div>\n",
       "<table border=\"1\" class=\"dataframe\">\n",
       "  <thead>\n",
       "    <tr style=\"text-align: right;\">\n",
       "      <th></th>\n",
       "      <th>apt</th>\n",
       "      <th>cars</th>\n",
       "      <th>bonus</th>\n",
       "      <th>expense</th>\n",
       "      <th>color</th>\n",
       "    </tr>\n",
       "  </thead>\n",
       "  <tbody>\n",
       "    <tr>\n",
       "      <th>Beijing</th>\n",
       "      <td>55000.0</td>\n",
       "      <td>350000.0</td>\n",
       "      <td>50000</td>\n",
       "      <td>100000</td>\n",
       "      <td>红</td>\n",
       "    </tr>\n",
       "    <tr>\n",
       "      <th>Chongqing</th>\n",
       "      <td>NaN</td>\n",
       "      <td>150000.0</td>\n",
       "      <td>40000</td>\n",
       "      <td>100000</td>\n",
       "      <td>黄</td>\n",
       "    </tr>\n",
       "    <tr>\n",
       "      <th>Guangzhou</th>\n",
       "      <td>45000.0</td>\n",
       "      <td>250000.0</td>\n",
       "      <td>40000</td>\n",
       "      <td>100000</td>\n",
       "      <td>紫</td>\n",
       "    </tr>\n",
       "    <tr>\n",
       "      <th>Hangzhou</th>\n",
       "      <td>45000.0</td>\n",
       "      <td>NaN</td>\n",
       "      <td>40000</td>\n",
       "      <td>100000</td>\n",
       "      <td>蓝</td>\n",
       "    </tr>\n",
       "    <tr>\n",
       "      <th>ShangHai</th>\n",
       "      <td>60000.0</td>\n",
       "      <td>400000.0</td>\n",
       "      <td>40000</td>\n",
       "      <td>100000</td>\n",
       "      <td>红</td>\n",
       "    </tr>\n",
       "    <tr>\n",
       "      <th>Shenzhen</th>\n",
       "      <td>70000.0</td>\n",
       "      <td>300000.0</td>\n",
       "      <td>40000</td>\n",
       "      <td>100000</td>\n",
       "      <td>绿</td>\n",
       "    </tr>\n",
       "    <tr>\n",
       "      <th>Suzhou</th>\n",
       "      <td>NaN</td>\n",
       "      <td>NaN</td>\n",
       "      <td>40000</td>\n",
       "      <td>100000</td>\n",
       "      <td>棕</td>\n",
       "    </tr>\n",
       "    <tr>\n",
       "      <th>Tianjin</th>\n",
       "      <td>NaN</td>\n",
       "      <td>200000.0</td>\n",
       "      <td>40000</td>\n",
       "      <td>100000</td>\n",
       "      <td>橙</td>\n",
       "    </tr>\n",
       "  </tbody>\n",
       "</table>\n",
       "</div>"
      ],
      "text/plain": [
       "               apt      cars  bonus  expense color\n",
       "Beijing    55000.0  350000.0  50000   100000     红\n",
       "Chongqing      NaN  150000.0  40000   100000     黄\n",
       "Guangzhou  45000.0  250000.0  40000   100000     紫\n",
       "Hangzhou   45000.0       NaN  40000   100000     蓝\n",
       "ShangHai   60000.0  400000.0  40000   100000     红\n",
       "Shenzhen   70000.0  300000.0  40000   100000     绿\n",
       "Suzhou         NaN       NaN  40000   100000     棕\n",
       "Tianjin        NaN  200000.0  40000   100000     橙"
      ]
     },
     "execution_count": 110,
     "metadata": {},
     "output_type": "execute_result"
    }
   ],
   "source": [
    "df"
   ]
  },
  {
   "cell_type": "code",
   "execution_count": 111,
   "metadata": {},
   "outputs": [
    {
     "data": {
      "text/plain": [
       "Beijing       True\n",
       "Chongqing    False\n",
       "Guangzhou    False\n",
       "Hangzhou     False\n",
       "ShangHai      True\n",
       "Shenzhen      True\n",
       "Suzhou       False\n",
       "Tianjin      False\n",
       "Name: color, dtype: bool"
      ]
     },
     "execution_count": 111,
     "metadata": {},
     "output_type": "execute_result"
    }
   ],
   "source": [
    "df['color'].isin(['红','绿'])"
   ]
  },
  {
   "cell_type": "code",
   "execution_count": 112,
   "metadata": {},
   "outputs": [
    {
     "data": {
      "text/html": [
       "<div>\n",
       "<table border=\"1\" class=\"dataframe\">\n",
       "  <thead>\n",
       "    <tr style=\"text-align: right;\">\n",
       "      <th></th>\n",
       "      <th>apt</th>\n",
       "      <th>cars</th>\n",
       "      <th>bonus</th>\n",
       "      <th>expense</th>\n",
       "      <th>color</th>\n",
       "    </tr>\n",
       "  </thead>\n",
       "  <tbody>\n",
       "    <tr>\n",
       "      <th>Beijing</th>\n",
       "      <td>55000.0</td>\n",
       "      <td>350000.0</td>\n",
       "      <td>50000</td>\n",
       "      <td>100000</td>\n",
       "      <td>红</td>\n",
       "    </tr>\n",
       "    <tr>\n",
       "      <th>Chongqing</th>\n",
       "      <td>NaN</td>\n",
       "      <td>150000.0</td>\n",
       "      <td>40000</td>\n",
       "      <td>100000</td>\n",
       "      <td>黄</td>\n",
       "    </tr>\n",
       "    <tr>\n",
       "      <th>Guangzhou</th>\n",
       "      <td>45000.0</td>\n",
       "      <td>250000.0</td>\n",
       "      <td>40000</td>\n",
       "      <td>100000</td>\n",
       "      <td>紫</td>\n",
       "    </tr>\n",
       "    <tr>\n",
       "      <th>Hangzhou</th>\n",
       "      <td>45000.0</td>\n",
       "      <td>NaN</td>\n",
       "      <td>40000</td>\n",
       "      <td>100000</td>\n",
       "      <td>蓝</td>\n",
       "    </tr>\n",
       "    <tr>\n",
       "      <th>ShangHai</th>\n",
       "      <td>60000.0</td>\n",
       "      <td>400000.0</td>\n",
       "      <td>40000</td>\n",
       "      <td>100000</td>\n",
       "      <td>红</td>\n",
       "    </tr>\n",
       "    <tr>\n",
       "      <th>Shenzhen</th>\n",
       "      <td>70000.0</td>\n",
       "      <td>300000.0</td>\n",
       "      <td>40000</td>\n",
       "      <td>100000</td>\n",
       "      <td>绿</td>\n",
       "    </tr>\n",
       "    <tr>\n",
       "      <th>Suzhou</th>\n",
       "      <td>NaN</td>\n",
       "      <td>NaN</td>\n",
       "      <td>40000</td>\n",
       "      <td>100000</td>\n",
       "      <td>棕</td>\n",
       "    </tr>\n",
       "    <tr>\n",
       "      <th>Tianjin</th>\n",
       "      <td>NaN</td>\n",
       "      <td>200000.0</td>\n",
       "      <td>40000</td>\n",
       "      <td>100000</td>\n",
       "      <td>橙</td>\n",
       "    </tr>\n",
       "  </tbody>\n",
       "</table>\n",
       "</div>"
      ],
      "text/plain": [
       "               apt      cars  bonus  expense color\n",
       "Beijing    55000.0  350000.0  50000   100000     红\n",
       "Chongqing      NaN  150000.0  40000   100000     黄\n",
       "Guangzhou  45000.0  250000.0  40000   100000     紫\n",
       "Hangzhou   45000.0       NaN  40000   100000     蓝\n",
       "ShangHai   60000.0  400000.0  40000   100000     红\n",
       "Shenzhen   70000.0  300000.0  40000   100000     绿\n",
       "Suzhou         NaN       NaN  40000   100000     棕\n",
       "Tianjin        NaN  200000.0  40000   100000     橙"
      ]
     },
     "execution_count": 112,
     "metadata": {},
     "output_type": "execute_result"
    }
   ],
   "source": [
    "df"
   ]
  },
  {
   "cell_type": "code",
   "execution_count": 113,
   "metadata": {},
   "outputs": [
    {
     "data": {
      "text/html": [
       "<div>\n",
       "<table border=\"1\" class=\"dataframe\">\n",
       "  <thead>\n",
       "    <tr style=\"text-align: right;\">\n",
       "      <th></th>\n",
       "      <th>apt</th>\n",
       "      <th>cars</th>\n",
       "      <th>bonus</th>\n",
       "      <th>expense</th>\n",
       "      <th>color</th>\n",
       "    </tr>\n",
       "  </thead>\n",
       "  <tbody>\n",
       "    <tr>\n",
       "      <th>Beijing</th>\n",
       "      <td>55000.0</td>\n",
       "      <td>350000.0</td>\n",
       "      <td>50000</td>\n",
       "      <td>100000</td>\n",
       "      <td>红</td>\n",
       "    </tr>\n",
       "    <tr>\n",
       "      <th>Chongqing</th>\n",
       "      <td>50000.0</td>\n",
       "      <td>150000.0</td>\n",
       "      <td>40000</td>\n",
       "      <td>100000</td>\n",
       "      <td>黄</td>\n",
       "    </tr>\n",
       "    <tr>\n",
       "      <th>Guangzhou</th>\n",
       "      <td>45000.0</td>\n",
       "      <td>250000.0</td>\n",
       "      <td>40000</td>\n",
       "      <td>100000</td>\n",
       "      <td>紫</td>\n",
       "    </tr>\n",
       "    <tr>\n",
       "      <th>Hangzhou</th>\n",
       "      <td>45000.0</td>\n",
       "      <td>50000.0</td>\n",
       "      <td>40000</td>\n",
       "      <td>100000</td>\n",
       "      <td>蓝</td>\n",
       "    </tr>\n",
       "    <tr>\n",
       "      <th>ShangHai</th>\n",
       "      <td>60000.0</td>\n",
       "      <td>400000.0</td>\n",
       "      <td>40000</td>\n",
       "      <td>100000</td>\n",
       "      <td>红</td>\n",
       "    </tr>\n",
       "    <tr>\n",
       "      <th>Shenzhen</th>\n",
       "      <td>70000.0</td>\n",
       "      <td>300000.0</td>\n",
       "      <td>40000</td>\n",
       "      <td>100000</td>\n",
       "      <td>绿</td>\n",
       "    </tr>\n",
       "    <tr>\n",
       "      <th>Suzhou</th>\n",
       "      <td>50000.0</td>\n",
       "      <td>50000.0</td>\n",
       "      <td>40000</td>\n",
       "      <td>100000</td>\n",
       "      <td>棕</td>\n",
       "    </tr>\n",
       "    <tr>\n",
       "      <th>Tianjin</th>\n",
       "      <td>50000.0</td>\n",
       "      <td>200000.0</td>\n",
       "      <td>40000</td>\n",
       "      <td>100000</td>\n",
       "      <td>橙</td>\n",
       "    </tr>\n",
       "  </tbody>\n",
       "</table>\n",
       "</div>"
      ],
      "text/plain": [
       "               apt      cars  bonus  expense color\n",
       "Beijing    55000.0  350000.0  50000   100000     红\n",
       "Chongqing  50000.0  150000.0  40000   100000     黄\n",
       "Guangzhou  45000.0  250000.0  40000   100000     紫\n",
       "Hangzhou   45000.0   50000.0  40000   100000     蓝\n",
       "ShangHai   60000.0  400000.0  40000   100000     红\n",
       "Shenzhen   70000.0  300000.0  40000   100000     绿\n",
       "Suzhou     50000.0   50000.0  40000   100000     棕\n",
       "Tianjin    50000.0  200000.0  40000   100000     橙"
      ]
     },
     "execution_count": 113,
     "metadata": {},
     "output_type": "execute_result"
    }
   ],
   "source": [
    "# 填充缺失值\n",
    "df.fillna(value=50000)\n",
    "#df.fillna(value=50000, inplace=True)"
   ]
  },
  {
   "cell_type": "code",
   "execution_count": 114,
   "metadata": {},
   "outputs": [
    {
     "data": {
      "text/html": [
       "<div>\n",
       "<table border=\"1\" class=\"dataframe\">\n",
       "  <thead>\n",
       "    <tr style=\"text-align: right;\">\n",
       "      <th></th>\n",
       "      <th>apt</th>\n",
       "      <th>cars</th>\n",
       "      <th>bonus</th>\n",
       "      <th>expense</th>\n",
       "      <th>color</th>\n",
       "    </tr>\n",
       "  </thead>\n",
       "  <tbody>\n",
       "    <tr>\n",
       "      <th>Beijing</th>\n",
       "      <td>55000.0</td>\n",
       "      <td>350000.0</td>\n",
       "      <td>50000</td>\n",
       "      <td>100000</td>\n",
       "      <td>红</td>\n",
       "    </tr>\n",
       "    <tr>\n",
       "      <th>Chongqing</th>\n",
       "      <td>NaN</td>\n",
       "      <td>150000.0</td>\n",
       "      <td>40000</td>\n",
       "      <td>100000</td>\n",
       "      <td>黄</td>\n",
       "    </tr>\n",
       "    <tr>\n",
       "      <th>Guangzhou</th>\n",
       "      <td>45000.0</td>\n",
       "      <td>250000.0</td>\n",
       "      <td>40000</td>\n",
       "      <td>100000</td>\n",
       "      <td>紫</td>\n",
       "    </tr>\n",
       "    <tr>\n",
       "      <th>Hangzhou</th>\n",
       "      <td>45000.0</td>\n",
       "      <td>NaN</td>\n",
       "      <td>40000</td>\n",
       "      <td>100000</td>\n",
       "      <td>蓝</td>\n",
       "    </tr>\n",
       "    <tr>\n",
       "      <th>ShangHai</th>\n",
       "      <td>60000.0</td>\n",
       "      <td>400000.0</td>\n",
       "      <td>40000</td>\n",
       "      <td>100000</td>\n",
       "      <td>红</td>\n",
       "    </tr>\n",
       "    <tr>\n",
       "      <th>Shenzhen</th>\n",
       "      <td>70000.0</td>\n",
       "      <td>300000.0</td>\n",
       "      <td>40000</td>\n",
       "      <td>100000</td>\n",
       "      <td>绿</td>\n",
       "    </tr>\n",
       "    <tr>\n",
       "      <th>Suzhou</th>\n",
       "      <td>NaN</td>\n",
       "      <td>NaN</td>\n",
       "      <td>40000</td>\n",
       "      <td>100000</td>\n",
       "      <td>棕</td>\n",
       "    </tr>\n",
       "    <tr>\n",
       "      <th>Tianjin</th>\n",
       "      <td>NaN</td>\n",
       "      <td>200000.0</td>\n",
       "      <td>40000</td>\n",
       "      <td>100000</td>\n",
       "      <td>橙</td>\n",
       "    </tr>\n",
       "  </tbody>\n",
       "</table>\n",
       "</div>"
      ],
      "text/plain": [
       "               apt      cars  bonus  expense color\n",
       "Beijing    55000.0  350000.0  50000   100000     红\n",
       "Chongqing      NaN  150000.0  40000   100000     黄\n",
       "Guangzhou  45000.0  250000.0  40000   100000     紫\n",
       "Hangzhou   45000.0       NaN  40000   100000     蓝\n",
       "ShangHai   60000.0  400000.0  40000   100000     红\n",
       "Shenzhen   70000.0  300000.0  40000   100000     绿\n",
       "Suzhou         NaN       NaN  40000   100000     棕\n",
       "Tianjin        NaN  200000.0  40000   100000     橙"
      ]
     },
     "execution_count": 114,
     "metadata": {},
     "output_type": "execute_result"
    }
   ],
   "source": [
    "df"
   ]
  },
  {
   "cell_type": "code",
   "execution_count": 115,
   "metadata": {},
   "outputs": [
    {
     "data": {
      "text/html": [
       "<div>\n",
       "<table border=\"1\" class=\"dataframe\">\n",
       "  <thead>\n",
       "    <tr style=\"text-align: right;\">\n",
       "      <th></th>\n",
       "      <th>apt</th>\n",
       "      <th>cars</th>\n",
       "      <th>bonus</th>\n",
       "      <th>expense</th>\n",
       "      <th>color</th>\n",
       "    </tr>\n",
       "  </thead>\n",
       "  <tbody>\n",
       "    <tr>\n",
       "      <th>Beijing</th>\n",
       "      <td>55000.0</td>\n",
       "      <td>350000.0</td>\n",
       "      <td>50000</td>\n",
       "      <td>100000</td>\n",
       "      <td>红</td>\n",
       "    </tr>\n",
       "    <tr>\n",
       "      <th>Chongqing</th>\n",
       "      <td>55000.0</td>\n",
       "      <td>150000.0</td>\n",
       "      <td>40000</td>\n",
       "      <td>100000</td>\n",
       "      <td>黄</td>\n",
       "    </tr>\n",
       "    <tr>\n",
       "      <th>Guangzhou</th>\n",
       "      <td>45000.0</td>\n",
       "      <td>250000.0</td>\n",
       "      <td>40000</td>\n",
       "      <td>100000</td>\n",
       "      <td>紫</td>\n",
       "    </tr>\n",
       "    <tr>\n",
       "      <th>Hangzhou</th>\n",
       "      <td>45000.0</td>\n",
       "      <td>250000.0</td>\n",
       "      <td>40000</td>\n",
       "      <td>100000</td>\n",
       "      <td>蓝</td>\n",
       "    </tr>\n",
       "    <tr>\n",
       "      <th>ShangHai</th>\n",
       "      <td>60000.0</td>\n",
       "      <td>400000.0</td>\n",
       "      <td>40000</td>\n",
       "      <td>100000</td>\n",
       "      <td>红</td>\n",
       "    </tr>\n",
       "    <tr>\n",
       "      <th>Shenzhen</th>\n",
       "      <td>70000.0</td>\n",
       "      <td>300000.0</td>\n",
       "      <td>40000</td>\n",
       "      <td>100000</td>\n",
       "      <td>绿</td>\n",
       "    </tr>\n",
       "    <tr>\n",
       "      <th>Suzhou</th>\n",
       "      <td>70000.0</td>\n",
       "      <td>300000.0</td>\n",
       "      <td>40000</td>\n",
       "      <td>100000</td>\n",
       "      <td>棕</td>\n",
       "    </tr>\n",
       "    <tr>\n",
       "      <th>Tianjin</th>\n",
       "      <td>70000.0</td>\n",
       "      <td>200000.0</td>\n",
       "      <td>40000</td>\n",
       "      <td>100000</td>\n",
       "      <td>橙</td>\n",
       "    </tr>\n",
       "  </tbody>\n",
       "</table>\n",
       "</div>"
      ],
      "text/plain": [
       "               apt      cars  bonus  expense color\n",
       "Beijing    55000.0  350000.0  50000   100000     红\n",
       "Chongqing  55000.0  150000.0  40000   100000     黄\n",
       "Guangzhou  45000.0  250000.0  40000   100000     紫\n",
       "Hangzhou   45000.0  250000.0  40000   100000     蓝\n",
       "ShangHai   60000.0  400000.0  40000   100000     红\n",
       "Shenzhen   70000.0  300000.0  40000   100000     绿\n",
       "Suzhou     70000.0  300000.0  40000   100000     棕\n",
       "Tianjin    70000.0  200000.0  40000   100000     橙"
      ]
     },
     "execution_count": 115,
     "metadata": {},
     "output_type": "execute_result"
    }
   ],
   "source": [
    "#向前填充\n",
    "df.fillna(method='ffill')"
   ]
  },
  {
   "cell_type": "code",
   "execution_count": 116,
   "metadata": {},
   "outputs": [
    {
     "data": {
      "text/html": [
       "<div>\n",
       "<table border=\"1\" class=\"dataframe\">\n",
       "  <thead>\n",
       "    <tr style=\"text-align: right;\">\n",
       "      <th></th>\n",
       "      <th>apt</th>\n",
       "      <th>cars</th>\n",
       "      <th>bonus</th>\n",
       "      <th>expense</th>\n",
       "      <th>color</th>\n",
       "    </tr>\n",
       "  </thead>\n",
       "  <tbody>\n",
       "    <tr>\n",
       "      <th>Beijing</th>\n",
       "      <td>55000.0</td>\n",
       "      <td>350000.0</td>\n",
       "      <td>50000</td>\n",
       "      <td>100000</td>\n",
       "      <td>红</td>\n",
       "    </tr>\n",
       "    <tr>\n",
       "      <th>Chongqing</th>\n",
       "      <td>45000.0</td>\n",
       "      <td>150000.0</td>\n",
       "      <td>40000</td>\n",
       "      <td>100000</td>\n",
       "      <td>黄</td>\n",
       "    </tr>\n",
       "    <tr>\n",
       "      <th>Guangzhou</th>\n",
       "      <td>45000.0</td>\n",
       "      <td>250000.0</td>\n",
       "      <td>40000</td>\n",
       "      <td>100000</td>\n",
       "      <td>紫</td>\n",
       "    </tr>\n",
       "    <tr>\n",
       "      <th>Hangzhou</th>\n",
       "      <td>45000.0</td>\n",
       "      <td>400000.0</td>\n",
       "      <td>40000</td>\n",
       "      <td>100000</td>\n",
       "      <td>蓝</td>\n",
       "    </tr>\n",
       "    <tr>\n",
       "      <th>ShangHai</th>\n",
       "      <td>60000.0</td>\n",
       "      <td>400000.0</td>\n",
       "      <td>40000</td>\n",
       "      <td>100000</td>\n",
       "      <td>红</td>\n",
       "    </tr>\n",
       "    <tr>\n",
       "      <th>Shenzhen</th>\n",
       "      <td>70000.0</td>\n",
       "      <td>300000.0</td>\n",
       "      <td>40000</td>\n",
       "      <td>100000</td>\n",
       "      <td>绿</td>\n",
       "    </tr>\n",
       "    <tr>\n",
       "      <th>Suzhou</th>\n",
       "      <td>NaN</td>\n",
       "      <td>200000.0</td>\n",
       "      <td>40000</td>\n",
       "      <td>100000</td>\n",
       "      <td>棕</td>\n",
       "    </tr>\n",
       "    <tr>\n",
       "      <th>Tianjin</th>\n",
       "      <td>NaN</td>\n",
       "      <td>200000.0</td>\n",
       "      <td>40000</td>\n",
       "      <td>100000</td>\n",
       "      <td>橙</td>\n",
       "    </tr>\n",
       "  </tbody>\n",
       "</table>\n",
       "</div>"
      ],
      "text/plain": [
       "               apt      cars  bonus  expense color\n",
       "Beijing    55000.0  350000.0  50000   100000     红\n",
       "Chongqing  45000.0  150000.0  40000   100000     黄\n",
       "Guangzhou  45000.0  250000.0  40000   100000     紫\n",
       "Hangzhou   45000.0  400000.0  40000   100000     蓝\n",
       "ShangHai   60000.0  400000.0  40000   100000     红\n",
       "Shenzhen   70000.0  300000.0  40000   100000     绿\n",
       "Suzhou         NaN  200000.0  40000   100000     棕\n",
       "Tianjin        NaN  200000.0  40000   100000     橙"
      ]
     },
     "execution_count": 116,
     "metadata": {},
     "output_type": "execute_result"
    }
   ],
   "source": [
    "#向后填充\n",
    "df.fillna(method='bfill')"
   ]
  },
  {
   "cell_type": "code",
   "execution_count": 117,
   "metadata": {},
   "outputs": [
    {
     "name": "stdout",
     "output_type": "stream",
     "text": [
      "Date,Open,High,Low,Close,Adj Close,Volume\r\n",
      "2004-08-19,49.813286,51.835709,47.800831,49.982655,49.982655,44871300\r\n",
      "2004-08-20,50.316402,54.336334,50.062355,53.952770,53.952770,22942800\r\n",
      "2004-08-23,55.168217,56.528118,54.321388,54.495735,54.495735,18342800\r\n",
      "2004-08-24,55.412300,55.591629,51.591621,52.239193,52.239193,15319700\r\n",
      "2004-08-25,52.284027,53.798351,51.746044,52.802086,52.802086,9232100\r\n",
      "2004-08-26,52.279045,53.773445,52.134586,53.753517,53.753517,7128600\r\n",
      "2004-08-27,53.848164,54.107193,52.647663,52.876804,52.876804,6241200\r\n",
      "2004-08-30,52.443428,52.548038,50.814533,50.814533,50.814533,5221400\r\n",
      "2004-08-31,50.958992,51.661362,50.889256,50.993862,50.993862,4941200\r\n"
     ]
    }
   ],
   "source": [
    "!head -10 data/GOOG.csv"
   ]
  },
  {
   "cell_type": "code",
   "execution_count": 119,
   "metadata": {},
   "outputs": [],
   "source": [
    "goog = pd.read_csv('data/GOOG.csv', index_col=0, parse_dates=['Date'])"
   ]
  },
  {
   "cell_type": "code",
   "execution_count": 120,
   "metadata": {},
   "outputs": [
    {
     "data": {
      "text/html": [
       "<div>\n",
       "<table border=\"1\" class=\"dataframe\">\n",
       "  <thead>\n",
       "    <tr style=\"text-align: right;\">\n",
       "      <th></th>\n",
       "      <th>Open</th>\n",
       "      <th>High</th>\n",
       "      <th>Low</th>\n",
       "      <th>Close</th>\n",
       "      <th>Adj Close</th>\n",
       "      <th>Volume</th>\n",
       "    </tr>\n",
       "    <tr>\n",
       "      <th>Date</th>\n",
       "      <th></th>\n",
       "      <th></th>\n",
       "      <th></th>\n",
       "      <th></th>\n",
       "      <th></th>\n",
       "      <th></th>\n",
       "    </tr>\n",
       "  </thead>\n",
       "  <tbody>\n",
       "    <tr>\n",
       "      <th>2004-08-19</th>\n",
       "      <td>49.813286</td>\n",
       "      <td>51.835709</td>\n",
       "      <td>47.800831</td>\n",
       "      <td>49.982655</td>\n",
       "      <td>49.982655</td>\n",
       "      <td>44871300</td>\n",
       "    </tr>\n",
       "    <tr>\n",
       "      <th>2004-08-20</th>\n",
       "      <td>50.316402</td>\n",
       "      <td>54.336334</td>\n",
       "      <td>50.062355</td>\n",
       "      <td>53.952770</td>\n",
       "      <td>53.952770</td>\n",
       "      <td>22942800</td>\n",
       "    </tr>\n",
       "    <tr>\n",
       "      <th>2004-08-23</th>\n",
       "      <td>55.168217</td>\n",
       "      <td>56.528118</td>\n",
       "      <td>54.321388</td>\n",
       "      <td>54.495735</td>\n",
       "      <td>54.495735</td>\n",
       "      <td>18342800</td>\n",
       "    </tr>\n",
       "    <tr>\n",
       "      <th>2004-08-24</th>\n",
       "      <td>55.412300</td>\n",
       "      <td>55.591629</td>\n",
       "      <td>51.591621</td>\n",
       "      <td>52.239193</td>\n",
       "      <td>52.239193</td>\n",
       "      <td>15319700</td>\n",
       "    </tr>\n",
       "    <tr>\n",
       "      <th>2004-08-25</th>\n",
       "      <td>52.284027</td>\n",
       "      <td>53.798351</td>\n",
       "      <td>51.746044</td>\n",
       "      <td>52.802086</td>\n",
       "      <td>52.802086</td>\n",
       "      <td>9232100</td>\n",
       "    </tr>\n",
       "  </tbody>\n",
       "</table>\n",
       "</div>"
      ],
      "text/plain": [
       "                 Open       High        Low      Close  Adj Close    Volume\n",
       "Date                                                                       \n",
       "2004-08-19  49.813286  51.835709  47.800831  49.982655  49.982655  44871300\n",
       "2004-08-20  50.316402  54.336334  50.062355  53.952770  53.952770  22942800\n",
       "2004-08-23  55.168217  56.528118  54.321388  54.495735  54.495735  18342800\n",
       "2004-08-24  55.412300  55.591629  51.591621  52.239193  52.239193  15319700\n",
       "2004-08-25  52.284027  53.798351  51.746044  52.802086  52.802086   9232100"
      ]
     },
     "execution_count": 120,
     "metadata": {},
     "output_type": "execute_result"
    }
   ],
   "source": [
    "#前5行\n",
    "goog.head(5)"
   ]
  },
  {
   "cell_type": "code",
   "execution_count": 122,
   "metadata": {},
   "outputs": [
    {
     "name": "stdout",
     "output_type": "stream",
     "text": [
      "<class 'pandas.core.frame.DataFrame'>\n",
      "DatetimeIndex: 3253 entries, 2004-08-19 to 2017-07-20\n",
      "Data columns (total 6 columns):\n",
      "Open         3253 non-null float64\n",
      "High         3253 non-null float64\n",
      "Low          3253 non-null float64\n",
      "Close        3253 non-null float64\n",
      "Adj Close    3253 non-null float64\n",
      "Volume       3253 non-null int64\n",
      "dtypes: float64(5), int64(1)\n",
      "memory usage: 177.9 KB\n"
     ]
    }
   ],
   "source": [
    "goog.info()"
   ]
  },
  {
   "cell_type": "code",
   "execution_count": 123,
   "metadata": {},
   "outputs": [
    {
     "data": {
      "text/html": [
       "<div>\n",
       "<table border=\"1\" class=\"dataframe\">\n",
       "  <thead>\n",
       "    <tr style=\"text-align: right;\">\n",
       "      <th></th>\n",
       "      <th>Open</th>\n",
       "      <th>High</th>\n",
       "      <th>Low</th>\n",
       "      <th>Close</th>\n",
       "      <th>Adj Close</th>\n",
       "      <th>Volume</th>\n",
       "    </tr>\n",
       "  </thead>\n",
       "  <tbody>\n",
       "    <tr>\n",
       "      <th>count</th>\n",
       "      <td>3253.000000</td>\n",
       "      <td>3253.000000</td>\n",
       "      <td>3253.000000</td>\n",
       "      <td>3253.000000</td>\n",
       "      <td>3253.000000</td>\n",
       "      <td>3.253000e+03</td>\n",
       "    </tr>\n",
       "    <tr>\n",
       "      <th>mean</th>\n",
       "      <td>370.588678</td>\n",
       "      <td>373.854568</td>\n",
       "      <td>366.959060</td>\n",
       "      <td>370.463274</td>\n",
       "      <td>370.463274</td>\n",
       "      <td>8.139070e+06</td>\n",
       "    </tr>\n",
       "    <tr>\n",
       "      <th>std</th>\n",
       "      <td>212.537536</td>\n",
       "      <td>213.645163</td>\n",
       "      <td>211.213609</td>\n",
       "      <td>212.542226</td>\n",
       "      <td>212.542226</td>\n",
       "      <td>8.403870e+06</td>\n",
       "    </tr>\n",
       "    <tr>\n",
       "      <th>min</th>\n",
       "      <td>49.409801</td>\n",
       "      <td>50.680038</td>\n",
       "      <td>47.800831</td>\n",
       "      <td>49.818268</td>\n",
       "      <td>49.818268</td>\n",
       "      <td>7.900000e+03</td>\n",
       "    </tr>\n",
       "    <tr>\n",
       "      <th>25%</th>\n",
       "      <td>225.928162</td>\n",
       "      <td>228.050217</td>\n",
       "      <td>222.984207</td>\n",
       "      <td>224.986694</td>\n",
       "      <td>224.986694</td>\n",
       "      <td>2.743600e+06</td>\n",
       "    </tr>\n",
       "    <tr>\n",
       "      <th>50%</th>\n",
       "      <td>292.030396</td>\n",
       "      <td>293.898407</td>\n",
       "      <td>288.538483</td>\n",
       "      <td>291.318054</td>\n",
       "      <td>291.318054</td>\n",
       "      <td>5.374600e+06</td>\n",
       "    </tr>\n",
       "    <tr>\n",
       "      <th>75%</th>\n",
       "      <td>531.599976</td>\n",
       "      <td>535.729126</td>\n",
       "      <td>527.810913</td>\n",
       "      <td>532.299988</td>\n",
       "      <td>532.299988</td>\n",
       "      <td>1.081150e+07</td>\n",
       "    </tr>\n",
       "    <tr>\n",
       "      <th>max</th>\n",
       "      <td>984.500000</td>\n",
       "      <td>988.250000</td>\n",
       "      <td>977.200012</td>\n",
       "      <td>983.679993</td>\n",
       "      <td>983.679993</td>\n",
       "      <td>8.254150e+07</td>\n",
       "    </tr>\n",
       "  </tbody>\n",
       "</table>\n",
       "</div>"
      ],
      "text/plain": [
       "              Open         High          Low        Close    Adj Close  \\\n",
       "count  3253.000000  3253.000000  3253.000000  3253.000000  3253.000000   \n",
       "mean    370.588678   373.854568   366.959060   370.463274   370.463274   \n",
       "std     212.537536   213.645163   211.213609   212.542226   212.542226   \n",
       "min      49.409801    50.680038    47.800831    49.818268    49.818268   \n",
       "25%     225.928162   228.050217   222.984207   224.986694   224.986694   \n",
       "50%     292.030396   293.898407   288.538483   291.318054   291.318054   \n",
       "75%     531.599976   535.729126   527.810913   532.299988   532.299988   \n",
       "max     984.500000   988.250000   977.200012   983.679993   983.679993   \n",
       "\n",
       "             Volume  \n",
       "count  3.253000e+03  \n",
       "mean   8.139070e+06  \n",
       "std    8.403870e+06  \n",
       "min    7.900000e+03  \n",
       "25%    2.743600e+06  \n",
       "50%    5.374600e+06  \n",
       "75%    1.081150e+07  \n",
       "max    8.254150e+07  "
      ]
     },
     "execution_count": 123,
     "metadata": {},
     "output_type": "execute_result"
    }
   ],
   "source": [
    "goog.describe()"
   ]
  },
  {
   "cell_type": "code",
   "execution_count": 124,
   "metadata": {},
   "outputs": [
    {
     "data": {
      "text/html": [
       "<div>\n",
       "<table border=\"1\" class=\"dataframe\">\n",
       "  <thead>\n",
       "    <tr style=\"text-align: right;\">\n",
       "      <th></th>\n",
       "      <th>Open</th>\n",
       "      <th>High</th>\n",
       "      <th>Low</th>\n",
       "      <th>Close</th>\n",
       "      <th>Adj Close</th>\n",
       "      <th>Volume</th>\n",
       "    </tr>\n",
       "    <tr>\n",
       "      <th>Date</th>\n",
       "      <th></th>\n",
       "      <th></th>\n",
       "      <th></th>\n",
       "      <th></th>\n",
       "      <th></th>\n",
       "      <th></th>\n",
       "    </tr>\n",
       "  </thead>\n",
       "  <tbody>\n",
       "    <tr>\n",
       "      <th>2017-07-14</th>\n",
       "      <td>952.000000</td>\n",
       "      <td>956.909973</td>\n",
       "      <td>948.005005</td>\n",
       "      <td>955.989990</td>\n",
       "      <td>955.989990</td>\n",
       "      <td>1053800</td>\n",
       "    </tr>\n",
       "    <tr>\n",
       "      <th>2017-07-17</th>\n",
       "      <td>957.000000</td>\n",
       "      <td>960.739990</td>\n",
       "      <td>949.241028</td>\n",
       "      <td>953.419983</td>\n",
       "      <td>953.419983</td>\n",
       "      <td>1165500</td>\n",
       "    </tr>\n",
       "    <tr>\n",
       "      <th>2017-07-18</th>\n",
       "      <td>953.000000</td>\n",
       "      <td>968.039978</td>\n",
       "      <td>950.599976</td>\n",
       "      <td>965.400024</td>\n",
       "      <td>965.400024</td>\n",
       "      <td>1154000</td>\n",
       "    </tr>\n",
       "    <tr>\n",
       "      <th>2017-07-19</th>\n",
       "      <td>967.840027</td>\n",
       "      <td>973.039978</td>\n",
       "      <td>964.030029</td>\n",
       "      <td>970.890015</td>\n",
       "      <td>970.890015</td>\n",
       "      <td>1224500</td>\n",
       "    </tr>\n",
       "    <tr>\n",
       "      <th>2017-07-20</th>\n",
       "      <td>975.000000</td>\n",
       "      <td>975.900024</td>\n",
       "      <td>961.510010</td>\n",
       "      <td>968.150024</td>\n",
       "      <td>968.150024</td>\n",
       "      <td>1616500</td>\n",
       "    </tr>\n",
       "  </tbody>\n",
       "</table>\n",
       "</div>"
      ],
      "text/plain": [
       "                  Open        High         Low       Close   Adj Close  \\\n",
       "Date                                                                     \n",
       "2017-07-14  952.000000  956.909973  948.005005  955.989990  955.989990   \n",
       "2017-07-17  957.000000  960.739990  949.241028  953.419983  953.419983   \n",
       "2017-07-18  953.000000  968.039978  950.599976  965.400024  965.400024   \n",
       "2017-07-19  967.840027  973.039978  964.030029  970.890015  970.890015   \n",
       "2017-07-20  975.000000  975.900024  961.510010  968.150024  968.150024   \n",
       "\n",
       "             Volume  \n",
       "Date                 \n",
       "2017-07-14  1053800  \n",
       "2017-07-17  1165500  \n",
       "2017-07-18  1154000  \n",
       "2017-07-19  1224500  \n",
       "2017-07-20  1616500  "
      ]
     },
     "execution_count": 124,
     "metadata": {},
     "output_type": "execute_result"
    }
   ],
   "source": [
    "goog.tail()"
   ]
  },
  {
   "cell_type": "code",
   "execution_count": 125,
   "metadata": {},
   "outputs": [
    {
     "data": {
      "text/plain": [
       "DatetimeIndex(['2004-08-19', '2004-08-20', '2004-08-23', '2004-08-24',\n",
       "               '2004-08-25', '2004-08-26', '2004-08-27', '2004-08-30',\n",
       "               '2004-08-31', '2004-09-01',\n",
       "               ...\n",
       "               '2017-07-07', '2017-07-10', '2017-07-11', '2017-07-12',\n",
       "               '2017-07-13', '2017-07-14', '2017-07-17', '2017-07-18',\n",
       "               '2017-07-19', '2017-07-20'],\n",
       "              dtype='datetime64[ns]', name='Date', length=3253, freq=None)"
      ]
     },
     "execution_count": 125,
     "metadata": {},
     "output_type": "execute_result"
    }
   ],
   "source": [
    "goog.index"
   ]
  },
  {
   "cell_type": "code",
   "execution_count": 126,
   "metadata": {
    "collapsed": true
   },
   "outputs": [],
   "source": [
    "goog.loc[:,'dow'] = goog.index.dayofweek"
   ]
  },
  {
   "cell_type": "code",
   "execution_count": 127,
   "metadata": {},
   "outputs": [
    {
     "data": {
      "text/html": [
       "<div>\n",
       "<table border=\"1\" class=\"dataframe\">\n",
       "  <thead>\n",
       "    <tr style=\"text-align: right;\">\n",
       "      <th></th>\n",
       "      <th>Open</th>\n",
       "      <th>High</th>\n",
       "      <th>Low</th>\n",
       "      <th>Close</th>\n",
       "      <th>Adj Close</th>\n",
       "      <th>Volume</th>\n",
       "      <th>dow</th>\n",
       "    </tr>\n",
       "    <tr>\n",
       "      <th>Date</th>\n",
       "      <th></th>\n",
       "      <th></th>\n",
       "      <th></th>\n",
       "      <th></th>\n",
       "      <th></th>\n",
       "      <th></th>\n",
       "      <th></th>\n",
       "    </tr>\n",
       "  </thead>\n",
       "  <tbody>\n",
       "    <tr>\n",
       "      <th>2004-08-19</th>\n",
       "      <td>49.813286</td>\n",
       "      <td>51.835709</td>\n",
       "      <td>47.800831</td>\n",
       "      <td>49.982655</td>\n",
       "      <td>49.982655</td>\n",
       "      <td>44871300</td>\n",
       "      <td>3</td>\n",
       "    </tr>\n",
       "    <tr>\n",
       "      <th>2004-08-20</th>\n",
       "      <td>50.316402</td>\n",
       "      <td>54.336334</td>\n",
       "      <td>50.062355</td>\n",
       "      <td>53.952770</td>\n",
       "      <td>53.952770</td>\n",
       "      <td>22942800</td>\n",
       "      <td>4</td>\n",
       "    </tr>\n",
       "    <tr>\n",
       "      <th>2004-08-23</th>\n",
       "      <td>55.168217</td>\n",
       "      <td>56.528118</td>\n",
       "      <td>54.321388</td>\n",
       "      <td>54.495735</td>\n",
       "      <td>54.495735</td>\n",
       "      <td>18342800</td>\n",
       "      <td>0</td>\n",
       "    </tr>\n",
       "    <tr>\n",
       "      <th>2004-08-24</th>\n",
       "      <td>55.412300</td>\n",
       "      <td>55.591629</td>\n",
       "      <td>51.591621</td>\n",
       "      <td>52.239193</td>\n",
       "      <td>52.239193</td>\n",
       "      <td>15319700</td>\n",
       "      <td>1</td>\n",
       "    </tr>\n",
       "    <tr>\n",
       "      <th>2004-08-25</th>\n",
       "      <td>52.284027</td>\n",
       "      <td>53.798351</td>\n",
       "      <td>51.746044</td>\n",
       "      <td>52.802086</td>\n",
       "      <td>52.802086</td>\n",
       "      <td>9232100</td>\n",
       "      <td>2</td>\n",
       "    </tr>\n",
       "    <tr>\n",
       "      <th>2004-08-26</th>\n",
       "      <td>52.279045</td>\n",
       "      <td>53.773445</td>\n",
       "      <td>52.134586</td>\n",
       "      <td>53.753517</td>\n",
       "      <td>53.753517</td>\n",
       "      <td>7128600</td>\n",
       "      <td>3</td>\n",
       "    </tr>\n",
       "    <tr>\n",
       "      <th>2004-08-27</th>\n",
       "      <td>53.848164</td>\n",
       "      <td>54.107193</td>\n",
       "      <td>52.647663</td>\n",
       "      <td>52.876804</td>\n",
       "      <td>52.876804</td>\n",
       "      <td>6241200</td>\n",
       "      <td>4</td>\n",
       "    </tr>\n",
       "    <tr>\n",
       "      <th>2004-08-30</th>\n",
       "      <td>52.443428</td>\n",
       "      <td>52.548038</td>\n",
       "      <td>50.814533</td>\n",
       "      <td>50.814533</td>\n",
       "      <td>50.814533</td>\n",
       "      <td>5221400</td>\n",
       "      <td>0</td>\n",
       "    </tr>\n",
       "    <tr>\n",
       "      <th>2004-08-31</th>\n",
       "      <td>50.958992</td>\n",
       "      <td>51.661362</td>\n",
       "      <td>50.889256</td>\n",
       "      <td>50.993862</td>\n",
       "      <td>50.993862</td>\n",
       "      <td>4941200</td>\n",
       "      <td>1</td>\n",
       "    </tr>\n",
       "    <tr>\n",
       "      <th>2004-09-01</th>\n",
       "      <td>51.158245</td>\n",
       "      <td>51.292744</td>\n",
       "      <td>49.648903</td>\n",
       "      <td>49.937820</td>\n",
       "      <td>49.937820</td>\n",
       "      <td>9181600</td>\n",
       "      <td>2</td>\n",
       "    </tr>\n",
       "    <tr>\n",
       "      <th>2004-09-02</th>\n",
       "      <td>49.409801</td>\n",
       "      <td>50.993862</td>\n",
       "      <td>49.285267</td>\n",
       "      <td>50.565468</td>\n",
       "      <td>50.565468</td>\n",
       "      <td>15190400</td>\n",
       "      <td>3</td>\n",
       "    </tr>\n",
       "    <tr>\n",
       "      <th>2004-09-03</th>\n",
       "      <td>50.286514</td>\n",
       "      <td>50.680038</td>\n",
       "      <td>49.474556</td>\n",
       "      <td>49.818268</td>\n",
       "      <td>49.818268</td>\n",
       "      <td>5176800</td>\n",
       "      <td>4</td>\n",
       "    </tr>\n",
       "    <tr>\n",
       "      <th>2004-09-07</th>\n",
       "      <td>50.316402</td>\n",
       "      <td>50.809555</td>\n",
       "      <td>49.619015</td>\n",
       "      <td>50.600338</td>\n",
       "      <td>50.600338</td>\n",
       "      <td>5875200</td>\n",
       "      <td>1</td>\n",
       "    </tr>\n",
       "    <tr>\n",
       "      <th>2004-09-08</th>\n",
       "      <td>50.181908</td>\n",
       "      <td>51.322632</td>\n",
       "      <td>50.062355</td>\n",
       "      <td>50.958992</td>\n",
       "      <td>50.958992</td>\n",
       "      <td>5009200</td>\n",
       "      <td>2</td>\n",
       "    </tr>\n",
       "    <tr>\n",
       "      <th>2004-09-09</th>\n",
       "      <td>51.073563</td>\n",
       "      <td>51.163227</td>\n",
       "      <td>50.311420</td>\n",
       "      <td>50.963974</td>\n",
       "      <td>50.963974</td>\n",
       "      <td>4080900</td>\n",
       "      <td>3</td>\n",
       "    </tr>\n",
       "    <tr>\n",
       "      <th>2004-09-10</th>\n",
       "      <td>50.610302</td>\n",
       "      <td>53.081039</td>\n",
       "      <td>50.460861</td>\n",
       "      <td>52.468334</td>\n",
       "      <td>52.468334</td>\n",
       "      <td>8740200</td>\n",
       "      <td>4</td>\n",
       "    </tr>\n",
       "    <tr>\n",
       "      <th>2004-09-13</th>\n",
       "      <td>53.115910</td>\n",
       "      <td>54.002586</td>\n",
       "      <td>53.031227</td>\n",
       "      <td>53.549286</td>\n",
       "      <td>53.549286</td>\n",
       "      <td>7881300</td>\n",
       "      <td>0</td>\n",
       "    </tr>\n",
       "    <tr>\n",
       "      <th>2004-09-14</th>\n",
       "      <td>53.524376</td>\n",
       "      <td>55.790882</td>\n",
       "      <td>53.195610</td>\n",
       "      <td>55.536835</td>\n",
       "      <td>55.536835</td>\n",
       "      <td>10880300</td>\n",
       "      <td>1</td>\n",
       "    </tr>\n",
       "    <tr>\n",
       "      <th>2004-09-15</th>\n",
       "      <td>55.073570</td>\n",
       "      <td>56.901718</td>\n",
       "      <td>54.894241</td>\n",
       "      <td>55.790882</td>\n",
       "      <td>55.790882</td>\n",
       "      <td>10763900</td>\n",
       "      <td>2</td>\n",
       "    </tr>\n",
       "    <tr>\n",
       "      <th>2004-09-16</th>\n",
       "      <td>55.960247</td>\n",
       "      <td>57.683788</td>\n",
       "      <td>55.616535</td>\n",
       "      <td>56.772205</td>\n",
       "      <td>56.772205</td>\n",
       "      <td>9310200</td>\n",
       "      <td>3</td>\n",
       "    </tr>\n",
       "    <tr>\n",
       "      <th>2004-09-17</th>\n",
       "      <td>56.996365</td>\n",
       "      <td>58.525631</td>\n",
       "      <td>56.562988</td>\n",
       "      <td>58.525631</td>\n",
       "      <td>58.525631</td>\n",
       "      <td>9517400</td>\n",
       "      <td>4</td>\n",
       "    </tr>\n",
       "    <tr>\n",
       "      <th>2004-09-20</th>\n",
       "      <td>58.256641</td>\n",
       "      <td>60.572956</td>\n",
       "      <td>58.166977</td>\n",
       "      <td>59.457142</td>\n",
       "      <td>59.457142</td>\n",
       "      <td>10679200</td>\n",
       "      <td>0</td>\n",
       "    </tr>\n",
       "    <tr>\n",
       "      <th>2004-09-21</th>\n",
       "      <td>59.681301</td>\n",
       "      <td>59.985161</td>\n",
       "      <td>58.535595</td>\n",
       "      <td>58.699978</td>\n",
       "      <td>58.699978</td>\n",
       "      <td>7263000</td>\n",
       "      <td>1</td>\n",
       "    </tr>\n",
       "    <tr>\n",
       "      <th>2004-09-22</th>\n",
       "      <td>58.480801</td>\n",
       "      <td>59.611561</td>\n",
       "      <td>58.186901</td>\n",
       "      <td>58.968971</td>\n",
       "      <td>58.968971</td>\n",
       "      <td>7617100</td>\n",
       "      <td>2</td>\n",
       "    </tr>\n",
       "    <tr>\n",
       "      <th>2004-09-23</th>\n",
       "      <td>59.198112</td>\n",
       "      <td>61.086033</td>\n",
       "      <td>58.291508</td>\n",
       "      <td>60.184414</td>\n",
       "      <td>60.184414</td>\n",
       "      <td>8576100</td>\n",
       "      <td>3</td>\n",
       "    </tr>\n",
       "    <tr>\n",
       "      <th>2004-09-24</th>\n",
       "      <td>60.244190</td>\n",
       "      <td>61.818291</td>\n",
       "      <td>59.656395</td>\n",
       "      <td>59.691261</td>\n",
       "      <td>59.691261</td>\n",
       "      <td>9166700</td>\n",
       "      <td>4</td>\n",
       "    </tr>\n",
       "    <tr>\n",
       "      <th>2004-09-27</th>\n",
       "      <td>59.556767</td>\n",
       "      <td>60.214302</td>\n",
       "      <td>58.680054</td>\n",
       "      <td>58.909195</td>\n",
       "      <td>58.909195</td>\n",
       "      <td>7099600</td>\n",
       "      <td>0</td>\n",
       "    </tr>\n",
       "    <tr>\n",
       "      <th>2004-09-28</th>\n",
       "      <td>60.423519</td>\n",
       "      <td>63.462128</td>\n",
       "      <td>59.880554</td>\n",
       "      <td>63.193138</td>\n",
       "      <td>63.193138</td>\n",
       "      <td>17009400</td>\n",
       "      <td>1</td>\n",
       "    </tr>\n",
       "    <tr>\n",
       "      <th>2004-09-29</th>\n",
       "      <td>63.113434</td>\n",
       "      <td>67.257904</td>\n",
       "      <td>62.879314</td>\n",
       "      <td>65.295258</td>\n",
       "      <td>65.295258</td>\n",
       "      <td>30661400</td>\n",
       "      <td>2</td>\n",
       "    </tr>\n",
       "    <tr>\n",
       "      <th>2004-09-30</th>\n",
       "      <td>64.707458</td>\n",
       "      <td>65.902977</td>\n",
       "      <td>64.259140</td>\n",
       "      <td>64.558022</td>\n",
       "      <td>64.558022</td>\n",
       "      <td>13823300</td>\n",
       "      <td>3</td>\n",
       "    </tr>\n",
       "    <tr>\n",
       "      <th>...</th>\n",
       "      <td>...</td>\n",
       "      <td>...</td>\n",
       "      <td>...</td>\n",
       "      <td>...</td>\n",
       "      <td>...</td>\n",
       "      <td>...</td>\n",
       "      <td>...</td>\n",
       "    </tr>\n",
       "    <tr>\n",
       "      <th>2017-06-08</th>\n",
       "      <td>982.349976</td>\n",
       "      <td>984.570007</td>\n",
       "      <td>977.200012</td>\n",
       "      <td>983.409973</td>\n",
       "      <td>983.409973</td>\n",
       "      <td>1481900</td>\n",
       "      <td>3</td>\n",
       "    </tr>\n",
       "    <tr>\n",
       "      <th>2017-06-09</th>\n",
       "      <td>984.500000</td>\n",
       "      <td>984.500000</td>\n",
       "      <td>935.630005</td>\n",
       "      <td>949.830017</td>\n",
       "      <td>949.830017</td>\n",
       "      <td>3309400</td>\n",
       "      <td>4</td>\n",
       "    </tr>\n",
       "    <tr>\n",
       "      <th>2017-06-12</th>\n",
       "      <td>939.559998</td>\n",
       "      <td>949.354980</td>\n",
       "      <td>915.232971</td>\n",
       "      <td>942.900024</td>\n",
       "      <td>942.900024</td>\n",
       "      <td>3763500</td>\n",
       "      <td>0</td>\n",
       "    </tr>\n",
       "    <tr>\n",
       "      <th>2017-06-13</th>\n",
       "      <td>951.909973</td>\n",
       "      <td>959.979980</td>\n",
       "      <td>944.090027</td>\n",
       "      <td>953.400024</td>\n",
       "      <td>953.400024</td>\n",
       "      <td>2013300</td>\n",
       "      <td>1</td>\n",
       "    </tr>\n",
       "    <tr>\n",
       "      <th>2017-06-14</th>\n",
       "      <td>959.919983</td>\n",
       "      <td>961.150024</td>\n",
       "      <td>942.250000</td>\n",
       "      <td>950.760010</td>\n",
       "      <td>950.760010</td>\n",
       "      <td>1489700</td>\n",
       "      <td>2</td>\n",
       "    </tr>\n",
       "    <tr>\n",
       "      <th>2017-06-15</th>\n",
       "      <td>933.969971</td>\n",
       "      <td>943.338989</td>\n",
       "      <td>924.440002</td>\n",
       "      <td>942.309998</td>\n",
       "      <td>942.309998</td>\n",
       "      <td>2133100</td>\n",
       "      <td>3</td>\n",
       "    </tr>\n",
       "    <tr>\n",
       "      <th>2017-06-16</th>\n",
       "      <td>940.000000</td>\n",
       "      <td>942.039978</td>\n",
       "      <td>931.594971</td>\n",
       "      <td>939.780029</td>\n",
       "      <td>939.780029</td>\n",
       "      <td>3094700</td>\n",
       "      <td>4</td>\n",
       "    </tr>\n",
       "    <tr>\n",
       "      <th>2017-06-19</th>\n",
       "      <td>949.960022</td>\n",
       "      <td>959.989990</td>\n",
       "      <td>949.049988</td>\n",
       "      <td>957.369995</td>\n",
       "      <td>957.369995</td>\n",
       "      <td>1533300</td>\n",
       "      <td>0</td>\n",
       "    </tr>\n",
       "    <tr>\n",
       "      <th>2017-06-20</th>\n",
       "      <td>957.520020</td>\n",
       "      <td>961.619995</td>\n",
       "      <td>950.010010</td>\n",
       "      <td>950.630005</td>\n",
       "      <td>950.630005</td>\n",
       "      <td>1126000</td>\n",
       "      <td>1</td>\n",
       "    </tr>\n",
       "    <tr>\n",
       "      <th>2017-06-21</th>\n",
       "      <td>953.640015</td>\n",
       "      <td>960.099976</td>\n",
       "      <td>950.760010</td>\n",
       "      <td>959.450012</td>\n",
       "      <td>959.450012</td>\n",
       "      <td>1202200</td>\n",
       "      <td>2</td>\n",
       "    </tr>\n",
       "    <tr>\n",
       "      <th>2017-06-22</th>\n",
       "      <td>958.700012</td>\n",
       "      <td>960.719971</td>\n",
       "      <td>954.549988</td>\n",
       "      <td>957.090027</td>\n",
       "      <td>957.090027</td>\n",
       "      <td>941400</td>\n",
       "      <td>3</td>\n",
       "    </tr>\n",
       "    <tr>\n",
       "      <th>2017-06-23</th>\n",
       "      <td>956.830017</td>\n",
       "      <td>966.000000</td>\n",
       "      <td>954.200012</td>\n",
       "      <td>965.590027</td>\n",
       "      <td>965.590027</td>\n",
       "      <td>1527900</td>\n",
       "      <td>4</td>\n",
       "    </tr>\n",
       "    <tr>\n",
       "      <th>2017-06-26</th>\n",
       "      <td>969.900024</td>\n",
       "      <td>973.309998</td>\n",
       "      <td>950.789978</td>\n",
       "      <td>952.270020</td>\n",
       "      <td>952.270020</td>\n",
       "      <td>1598400</td>\n",
       "      <td>0</td>\n",
       "    </tr>\n",
       "    <tr>\n",
       "      <th>2017-06-27</th>\n",
       "      <td>942.460022</td>\n",
       "      <td>948.289978</td>\n",
       "      <td>926.849976</td>\n",
       "      <td>927.330017</td>\n",
       "      <td>927.330017</td>\n",
       "      <td>2579900</td>\n",
       "      <td>1</td>\n",
       "    </tr>\n",
       "    <tr>\n",
       "      <th>2017-06-28</th>\n",
       "      <td>929.000000</td>\n",
       "      <td>942.750000</td>\n",
       "      <td>916.000000</td>\n",
       "      <td>940.489990</td>\n",
       "      <td>940.489990</td>\n",
       "      <td>2721400</td>\n",
       "      <td>2</td>\n",
       "    </tr>\n",
       "    <tr>\n",
       "      <th>2017-06-29</th>\n",
       "      <td>929.919983</td>\n",
       "      <td>931.260010</td>\n",
       "      <td>910.619995</td>\n",
       "      <td>917.789978</td>\n",
       "      <td>917.789978</td>\n",
       "      <td>3299200</td>\n",
       "      <td>3</td>\n",
       "    </tr>\n",
       "    <tr>\n",
       "      <th>2017-06-30</th>\n",
       "      <td>926.049988</td>\n",
       "      <td>926.049988</td>\n",
       "      <td>908.309998</td>\n",
       "      <td>908.729980</td>\n",
       "      <td>908.729980</td>\n",
       "      <td>2065500</td>\n",
       "      <td>4</td>\n",
       "    </tr>\n",
       "    <tr>\n",
       "      <th>2017-07-03</th>\n",
       "      <td>912.179993</td>\n",
       "      <td>913.940002</td>\n",
       "      <td>894.789978</td>\n",
       "      <td>898.700012</td>\n",
       "      <td>898.700012</td>\n",
       "      <td>1709800</td>\n",
       "      <td>0</td>\n",
       "    </tr>\n",
       "    <tr>\n",
       "      <th>2017-07-05</th>\n",
       "      <td>901.760010</td>\n",
       "      <td>914.510010</td>\n",
       "      <td>898.500000</td>\n",
       "      <td>911.710022</td>\n",
       "      <td>911.710022</td>\n",
       "      <td>1813900</td>\n",
       "      <td>2</td>\n",
       "    </tr>\n",
       "    <tr>\n",
       "      <th>2017-07-06</th>\n",
       "      <td>904.119995</td>\n",
       "      <td>914.943970</td>\n",
       "      <td>899.700012</td>\n",
       "      <td>906.690002</td>\n",
       "      <td>906.690002</td>\n",
       "      <td>1424500</td>\n",
       "      <td>3</td>\n",
       "    </tr>\n",
       "    <tr>\n",
       "      <th>2017-07-07</th>\n",
       "      <td>908.849976</td>\n",
       "      <td>921.539978</td>\n",
       "      <td>908.849976</td>\n",
       "      <td>918.590027</td>\n",
       "      <td>918.590027</td>\n",
       "      <td>1637800</td>\n",
       "      <td>4</td>\n",
       "    </tr>\n",
       "    <tr>\n",
       "      <th>2017-07-10</th>\n",
       "      <td>921.770020</td>\n",
       "      <td>930.380005</td>\n",
       "      <td>919.590027</td>\n",
       "      <td>928.799988</td>\n",
       "      <td>928.799988</td>\n",
       "      <td>1192800</td>\n",
       "      <td>0</td>\n",
       "    </tr>\n",
       "    <tr>\n",
       "      <th>2017-07-11</th>\n",
       "      <td>929.539978</td>\n",
       "      <td>931.429993</td>\n",
       "      <td>922.000000</td>\n",
       "      <td>930.090027</td>\n",
       "      <td>930.090027</td>\n",
       "      <td>1113200</td>\n",
       "      <td>1</td>\n",
       "    </tr>\n",
       "    <tr>\n",
       "      <th>2017-07-12</th>\n",
       "      <td>938.679993</td>\n",
       "      <td>946.299988</td>\n",
       "      <td>934.469971</td>\n",
       "      <td>943.830017</td>\n",
       "      <td>943.830017</td>\n",
       "      <td>1532100</td>\n",
       "      <td>2</td>\n",
       "    </tr>\n",
       "    <tr>\n",
       "      <th>2017-07-13</th>\n",
       "      <td>946.289978</td>\n",
       "      <td>954.450012</td>\n",
       "      <td>943.010010</td>\n",
       "      <td>947.159973</td>\n",
       "      <td>947.159973</td>\n",
       "      <td>1294700</td>\n",
       "      <td>3</td>\n",
       "    </tr>\n",
       "    <tr>\n",
       "      <th>2017-07-14</th>\n",
       "      <td>952.000000</td>\n",
       "      <td>956.909973</td>\n",
       "      <td>948.005005</td>\n",
       "      <td>955.989990</td>\n",
       "      <td>955.989990</td>\n",
       "      <td>1053800</td>\n",
       "      <td>4</td>\n",
       "    </tr>\n",
       "    <tr>\n",
       "      <th>2017-07-17</th>\n",
       "      <td>957.000000</td>\n",
       "      <td>960.739990</td>\n",
       "      <td>949.241028</td>\n",
       "      <td>953.419983</td>\n",
       "      <td>953.419983</td>\n",
       "      <td>1165500</td>\n",
       "      <td>0</td>\n",
       "    </tr>\n",
       "    <tr>\n",
       "      <th>2017-07-18</th>\n",
       "      <td>953.000000</td>\n",
       "      <td>968.039978</td>\n",
       "      <td>950.599976</td>\n",
       "      <td>965.400024</td>\n",
       "      <td>965.400024</td>\n",
       "      <td>1154000</td>\n",
       "      <td>1</td>\n",
       "    </tr>\n",
       "    <tr>\n",
       "      <th>2017-07-19</th>\n",
       "      <td>967.840027</td>\n",
       "      <td>973.039978</td>\n",
       "      <td>964.030029</td>\n",
       "      <td>970.890015</td>\n",
       "      <td>970.890015</td>\n",
       "      <td>1224500</td>\n",
       "      <td>2</td>\n",
       "    </tr>\n",
       "    <tr>\n",
       "      <th>2017-07-20</th>\n",
       "      <td>975.000000</td>\n",
       "      <td>975.900024</td>\n",
       "      <td>961.510010</td>\n",
       "      <td>968.150024</td>\n",
       "      <td>968.150024</td>\n",
       "      <td>1616500</td>\n",
       "      <td>3</td>\n",
       "    </tr>\n",
       "  </tbody>\n",
       "</table>\n",
       "<p>3253 rows × 7 columns</p>\n",
       "</div>"
      ],
      "text/plain": [
       "                  Open        High         Low       Close   Adj Close  \\\n",
       "Date                                                                     \n",
       "2004-08-19   49.813286   51.835709   47.800831   49.982655   49.982655   \n",
       "2004-08-20   50.316402   54.336334   50.062355   53.952770   53.952770   \n",
       "2004-08-23   55.168217   56.528118   54.321388   54.495735   54.495735   \n",
       "2004-08-24   55.412300   55.591629   51.591621   52.239193   52.239193   \n",
       "2004-08-25   52.284027   53.798351   51.746044   52.802086   52.802086   \n",
       "2004-08-26   52.279045   53.773445   52.134586   53.753517   53.753517   \n",
       "2004-08-27   53.848164   54.107193   52.647663   52.876804   52.876804   \n",
       "2004-08-30   52.443428   52.548038   50.814533   50.814533   50.814533   \n",
       "2004-08-31   50.958992   51.661362   50.889256   50.993862   50.993862   \n",
       "2004-09-01   51.158245   51.292744   49.648903   49.937820   49.937820   \n",
       "2004-09-02   49.409801   50.993862   49.285267   50.565468   50.565468   \n",
       "2004-09-03   50.286514   50.680038   49.474556   49.818268   49.818268   \n",
       "2004-09-07   50.316402   50.809555   49.619015   50.600338   50.600338   \n",
       "2004-09-08   50.181908   51.322632   50.062355   50.958992   50.958992   \n",
       "2004-09-09   51.073563   51.163227   50.311420   50.963974   50.963974   \n",
       "2004-09-10   50.610302   53.081039   50.460861   52.468334   52.468334   \n",
       "2004-09-13   53.115910   54.002586   53.031227   53.549286   53.549286   \n",
       "2004-09-14   53.524376   55.790882   53.195610   55.536835   55.536835   \n",
       "2004-09-15   55.073570   56.901718   54.894241   55.790882   55.790882   \n",
       "2004-09-16   55.960247   57.683788   55.616535   56.772205   56.772205   \n",
       "2004-09-17   56.996365   58.525631   56.562988   58.525631   58.525631   \n",
       "2004-09-20   58.256641   60.572956   58.166977   59.457142   59.457142   \n",
       "2004-09-21   59.681301   59.985161   58.535595   58.699978   58.699978   \n",
       "2004-09-22   58.480801   59.611561   58.186901   58.968971   58.968971   \n",
       "2004-09-23   59.198112   61.086033   58.291508   60.184414   60.184414   \n",
       "2004-09-24   60.244190   61.818291   59.656395   59.691261   59.691261   \n",
       "2004-09-27   59.556767   60.214302   58.680054   58.909195   58.909195   \n",
       "2004-09-28   60.423519   63.462128   59.880554   63.193138   63.193138   \n",
       "2004-09-29   63.113434   67.257904   62.879314   65.295258   65.295258   \n",
       "2004-09-30   64.707458   65.902977   64.259140   64.558022   64.558022   \n",
       "...                ...         ...         ...         ...         ...   \n",
       "2017-06-08  982.349976  984.570007  977.200012  983.409973  983.409973   \n",
       "2017-06-09  984.500000  984.500000  935.630005  949.830017  949.830017   \n",
       "2017-06-12  939.559998  949.354980  915.232971  942.900024  942.900024   \n",
       "2017-06-13  951.909973  959.979980  944.090027  953.400024  953.400024   \n",
       "2017-06-14  959.919983  961.150024  942.250000  950.760010  950.760010   \n",
       "2017-06-15  933.969971  943.338989  924.440002  942.309998  942.309998   \n",
       "2017-06-16  940.000000  942.039978  931.594971  939.780029  939.780029   \n",
       "2017-06-19  949.960022  959.989990  949.049988  957.369995  957.369995   \n",
       "2017-06-20  957.520020  961.619995  950.010010  950.630005  950.630005   \n",
       "2017-06-21  953.640015  960.099976  950.760010  959.450012  959.450012   \n",
       "2017-06-22  958.700012  960.719971  954.549988  957.090027  957.090027   \n",
       "2017-06-23  956.830017  966.000000  954.200012  965.590027  965.590027   \n",
       "2017-06-26  969.900024  973.309998  950.789978  952.270020  952.270020   \n",
       "2017-06-27  942.460022  948.289978  926.849976  927.330017  927.330017   \n",
       "2017-06-28  929.000000  942.750000  916.000000  940.489990  940.489990   \n",
       "2017-06-29  929.919983  931.260010  910.619995  917.789978  917.789978   \n",
       "2017-06-30  926.049988  926.049988  908.309998  908.729980  908.729980   \n",
       "2017-07-03  912.179993  913.940002  894.789978  898.700012  898.700012   \n",
       "2017-07-05  901.760010  914.510010  898.500000  911.710022  911.710022   \n",
       "2017-07-06  904.119995  914.943970  899.700012  906.690002  906.690002   \n",
       "2017-07-07  908.849976  921.539978  908.849976  918.590027  918.590027   \n",
       "2017-07-10  921.770020  930.380005  919.590027  928.799988  928.799988   \n",
       "2017-07-11  929.539978  931.429993  922.000000  930.090027  930.090027   \n",
       "2017-07-12  938.679993  946.299988  934.469971  943.830017  943.830017   \n",
       "2017-07-13  946.289978  954.450012  943.010010  947.159973  947.159973   \n",
       "2017-07-14  952.000000  956.909973  948.005005  955.989990  955.989990   \n",
       "2017-07-17  957.000000  960.739990  949.241028  953.419983  953.419983   \n",
       "2017-07-18  953.000000  968.039978  950.599976  965.400024  965.400024   \n",
       "2017-07-19  967.840027  973.039978  964.030029  970.890015  970.890015   \n",
       "2017-07-20  975.000000  975.900024  961.510010  968.150024  968.150024   \n",
       "\n",
       "              Volume  dow  \n",
       "Date                       \n",
       "2004-08-19  44871300    3  \n",
       "2004-08-20  22942800    4  \n",
       "2004-08-23  18342800    0  \n",
       "2004-08-24  15319700    1  \n",
       "2004-08-25   9232100    2  \n",
       "2004-08-26   7128600    3  \n",
       "2004-08-27   6241200    4  \n",
       "2004-08-30   5221400    0  \n",
       "2004-08-31   4941200    1  \n",
       "2004-09-01   9181600    2  \n",
       "2004-09-02  15190400    3  \n",
       "2004-09-03   5176800    4  \n",
       "2004-09-07   5875200    1  \n",
       "2004-09-08   5009200    2  \n",
       "2004-09-09   4080900    3  \n",
       "2004-09-10   8740200    4  \n",
       "2004-09-13   7881300    0  \n",
       "2004-09-14  10880300    1  \n",
       "2004-09-15  10763900    2  \n",
       "2004-09-16   9310200    3  \n",
       "2004-09-17   9517400    4  \n",
       "2004-09-20  10679200    0  \n",
       "2004-09-21   7263000    1  \n",
       "2004-09-22   7617100    2  \n",
       "2004-09-23   8576100    3  \n",
       "2004-09-24   9166700    4  \n",
       "2004-09-27   7099600    0  \n",
       "2004-09-28  17009400    1  \n",
       "2004-09-29  30661400    2  \n",
       "2004-09-30  13823300    3  \n",
       "...              ...  ...  \n",
       "2017-06-08   1481900    3  \n",
       "2017-06-09   3309400    4  \n",
       "2017-06-12   3763500    0  \n",
       "2017-06-13   2013300    1  \n",
       "2017-06-14   1489700    2  \n",
       "2017-06-15   2133100    3  \n",
       "2017-06-16   3094700    4  \n",
       "2017-06-19   1533300    0  \n",
       "2017-06-20   1126000    1  \n",
       "2017-06-21   1202200    2  \n",
       "2017-06-22    941400    3  \n",
       "2017-06-23   1527900    4  \n",
       "2017-06-26   1598400    0  \n",
       "2017-06-27   2579900    1  \n",
       "2017-06-28   2721400    2  \n",
       "2017-06-29   3299200    3  \n",
       "2017-06-30   2065500    4  \n",
       "2017-07-03   1709800    0  \n",
       "2017-07-05   1813900    2  \n",
       "2017-07-06   1424500    3  \n",
       "2017-07-07   1637800    4  \n",
       "2017-07-10   1192800    0  \n",
       "2017-07-11   1113200    1  \n",
       "2017-07-12   1532100    2  \n",
       "2017-07-13   1294700    3  \n",
       "2017-07-14   1053800    4  \n",
       "2017-07-17   1165500    0  \n",
       "2017-07-18   1154000    1  \n",
       "2017-07-19   1224500    2  \n",
       "2017-07-20   1616500    3  \n",
       "\n",
       "[3253 rows x 7 columns]"
      ]
     },
     "execution_count": 127,
     "metadata": {},
     "output_type": "execute_result"
    }
   ],
   "source": [
    "goog"
   ]
  },
  {
   "cell_type": "code",
   "execution_count": 128,
   "metadata": {
    "collapsed": true
   },
   "outputs": [],
   "source": [
    "goog.loc[:,'doy'] = goog.index.dayofyear"
   ]
  },
  {
   "cell_type": "code",
   "execution_count": 129,
   "metadata": {},
   "outputs": [
    {
     "data": {
      "text/html": [
       "<div>\n",
       "<table border=\"1\" class=\"dataframe\">\n",
       "  <thead>\n",
       "    <tr style=\"text-align: right;\">\n",
       "      <th></th>\n",
       "      <th>Open</th>\n",
       "      <th>High</th>\n",
       "      <th>Low</th>\n",
       "      <th>Close</th>\n",
       "      <th>Adj Close</th>\n",
       "      <th>Volume</th>\n",
       "      <th>dow</th>\n",
       "      <th>doy</th>\n",
       "    </tr>\n",
       "    <tr>\n",
       "      <th>Date</th>\n",
       "      <th></th>\n",
       "      <th></th>\n",
       "      <th></th>\n",
       "      <th></th>\n",
       "      <th></th>\n",
       "      <th></th>\n",
       "      <th></th>\n",
       "      <th></th>\n",
       "    </tr>\n",
       "  </thead>\n",
       "  <tbody>\n",
       "    <tr>\n",
       "      <th>2004-08-19</th>\n",
       "      <td>49.813286</td>\n",
       "      <td>51.835709</td>\n",
       "      <td>47.800831</td>\n",
       "      <td>49.982655</td>\n",
       "      <td>49.982655</td>\n",
       "      <td>44871300</td>\n",
       "      <td>3</td>\n",
       "      <td>232</td>\n",
       "    </tr>\n",
       "    <tr>\n",
       "      <th>2004-08-20</th>\n",
       "      <td>50.316402</td>\n",
       "      <td>54.336334</td>\n",
       "      <td>50.062355</td>\n",
       "      <td>53.952770</td>\n",
       "      <td>53.952770</td>\n",
       "      <td>22942800</td>\n",
       "      <td>4</td>\n",
       "      <td>233</td>\n",
       "    </tr>\n",
       "    <tr>\n",
       "      <th>2004-08-23</th>\n",
       "      <td>55.168217</td>\n",
       "      <td>56.528118</td>\n",
       "      <td>54.321388</td>\n",
       "      <td>54.495735</td>\n",
       "      <td>54.495735</td>\n",
       "      <td>18342800</td>\n",
       "      <td>0</td>\n",
       "      <td>236</td>\n",
       "    </tr>\n",
       "    <tr>\n",
       "      <th>2004-08-24</th>\n",
       "      <td>55.412300</td>\n",
       "      <td>55.591629</td>\n",
       "      <td>51.591621</td>\n",
       "      <td>52.239193</td>\n",
       "      <td>52.239193</td>\n",
       "      <td>15319700</td>\n",
       "      <td>1</td>\n",
       "      <td>237</td>\n",
       "    </tr>\n",
       "    <tr>\n",
       "      <th>2004-08-25</th>\n",
       "      <td>52.284027</td>\n",
       "      <td>53.798351</td>\n",
       "      <td>51.746044</td>\n",
       "      <td>52.802086</td>\n",
       "      <td>52.802086</td>\n",
       "      <td>9232100</td>\n",
       "      <td>2</td>\n",
       "      <td>238</td>\n",
       "    </tr>\n",
       "  </tbody>\n",
       "</table>\n",
       "</div>"
      ],
      "text/plain": [
       "                 Open       High        Low      Close  Adj Close    Volume  \\\n",
       "Date                                                                          \n",
       "2004-08-19  49.813286  51.835709  47.800831  49.982655  49.982655  44871300   \n",
       "2004-08-20  50.316402  54.336334  50.062355  53.952770  53.952770  22942800   \n",
       "2004-08-23  55.168217  56.528118  54.321388  54.495735  54.495735  18342800   \n",
       "2004-08-24  55.412300  55.591629  51.591621  52.239193  52.239193  15319700   \n",
       "2004-08-25  52.284027  53.798351  51.746044  52.802086  52.802086   9232100   \n",
       "\n",
       "            dow  doy  \n",
       "Date                  \n",
       "2004-08-19    3  232  \n",
       "2004-08-20    4  233  \n",
       "2004-08-23    0  236  \n",
       "2004-08-24    1  237  \n",
       "2004-08-25    2  238  "
      ]
     },
     "execution_count": 129,
     "metadata": {},
     "output_type": "execute_result"
    }
   ],
   "source": [
    "goog.head()"
   ]
  },
  {
   "cell_type": "code",
   "execution_count": 131,
   "metadata": {},
   "outputs": [
    {
     "data": {
      "text/plain": [
       "<matplotlib.axes._subplots.AxesSubplot at 0x7f837981f2e8>"
      ]
     },
     "execution_count": 131,
     "metadata": {},
     "output_type": "execute_result"
    },
    {
     "data": {
      "image/png": "[encoded data removed]",
      "text/plain": [
       "<matplotlib.figure.Figure at 0x7f83797f6be0>"
      ]
     },
     "metadata": {},
     "output_type": "display_data"
    }
   ],
   "source": [
    "%matplotlib inline\n",
    "goog['Open'].plot()"
   ]
  },
  {
   "cell_type": "code",
   "execution_count": 132,
   "metadata": {
    "collapsed": true
   },
   "outputs": [],
   "source": [
    "nvda = pd.read_csv('data/NVDA.csv', index_col=0, parse_dates=['Date'])"
   ]
  },
  {
   "cell_type": "code",
   "execution_count": 133,
   "metadata": {},
   "outputs": [
    {
     "data": {
      "text/html": [
       "<div>\n",
       "<table border=\"1\" class=\"dataframe\">\n",
       "  <thead>\n",
       "    <tr style=\"text-align: right;\">\n",
       "      <th></th>\n",
       "      <th>Open</th>\n",
       "      <th>High</th>\n",
       "      <th>Low</th>\n",
       "      <th>Close</th>\n",
       "      <th>Adj Close</th>\n",
       "      <th>Volume</th>\n",
       "    </tr>\n",
       "    <tr>\n",
       "      <th>Date</th>\n",
       "      <th></th>\n",
       "      <th></th>\n",
       "      <th></th>\n",
       "      <th></th>\n",
       "      <th></th>\n",
       "      <th></th>\n",
       "    </tr>\n",
       "  </thead>\n",
       "  <tbody>\n",
       "    <tr>\n",
       "      <th>1999-01-22</th>\n",
       "      <td>1.750000</td>\n",
       "      <td>1.953125</td>\n",
       "      <td>1.552083</td>\n",
       "      <td>1.640625</td>\n",
       "      <td>1.523430</td>\n",
       "      <td>67867200</td>\n",
       "    </tr>\n",
       "    <tr>\n",
       "      <th>1999-01-25</th>\n",
       "      <td>1.770833</td>\n",
       "      <td>1.833333</td>\n",
       "      <td>1.640625</td>\n",
       "      <td>1.812500</td>\n",
       "      <td>1.683028</td>\n",
       "      <td>12762000</td>\n",
       "    </tr>\n",
       "    <tr>\n",
       "      <th>1999-01-26</th>\n",
       "      <td>1.833333</td>\n",
       "      <td>1.869792</td>\n",
       "      <td>1.645833</td>\n",
       "      <td>1.671875</td>\n",
       "      <td>1.552448</td>\n",
       "      <td>8580000</td>\n",
       "    </tr>\n",
       "    <tr>\n",
       "      <th>1999-01-27</th>\n",
       "      <td>1.677083</td>\n",
       "      <td>1.718750</td>\n",
       "      <td>1.583333</td>\n",
       "      <td>1.666667</td>\n",
       "      <td>1.547611</td>\n",
       "      <td>6109200</td>\n",
       "    </tr>\n",
       "    <tr>\n",
       "      <th>1999-01-28</th>\n",
       "      <td>1.666667</td>\n",
       "      <td>1.677083</td>\n",
       "      <td>1.651042</td>\n",
       "      <td>1.661458</td>\n",
       "      <td>1.542776</td>\n",
       "      <td>5688000</td>\n",
       "    </tr>\n",
       "    <tr>\n",
       "      <th>1999-01-29</th>\n",
       "      <td>1.661458</td>\n",
       "      <td>1.666667</td>\n",
       "      <td>1.583333</td>\n",
       "      <td>1.583333</td>\n",
       "      <td>1.470231</td>\n",
       "      <td>6100800</td>\n",
       "    </tr>\n",
       "    <tr>\n",
       "      <th>1999-02-01</th>\n",
       "      <td>1.583333</td>\n",
       "      <td>1.625000</td>\n",
       "      <td>1.583333</td>\n",
       "      <td>1.614583</td>\n",
       "      <td>1.499249</td>\n",
       "      <td>3867600</td>\n",
       "    </tr>\n",
       "    <tr>\n",
       "      <th>1999-02-02</th>\n",
       "      <td>1.583333</td>\n",
       "      <td>1.625000</td>\n",
       "      <td>1.442708</td>\n",
       "      <td>1.489583</td>\n",
       "      <td>1.383178</td>\n",
       "      <td>6602400</td>\n",
       "    </tr>\n",
       "    <tr>\n",
       "      <th>1999-02-03</th>\n",
       "      <td>1.468750</td>\n",
       "      <td>1.541667</td>\n",
       "      <td>1.458333</td>\n",
       "      <td>1.520833</td>\n",
       "      <td>1.412196</td>\n",
       "      <td>1878000</td>\n",
       "    </tr>\n",
       "    <tr>\n",
       "      <th>1999-02-04</th>\n",
       "      <td>1.541667</td>\n",
       "      <td>1.645833</td>\n",
       "      <td>1.520833</td>\n",
       "      <td>1.604167</td>\n",
       "      <td>1.489577</td>\n",
       "      <td>4548000</td>\n",
       "    </tr>\n",
       "  </tbody>\n",
       "</table>\n",
       "</div>"
      ],
      "text/plain": [
       "                Open      High       Low     Close  Adj Close    Volume\n",
       "Date                                                                   \n",
       "1999-01-22  1.750000  1.953125  1.552083  1.640625   1.523430  67867200\n",
       "1999-01-25  1.770833  1.833333  1.640625  1.812500   1.683028  12762000\n",
       "1999-01-26  1.833333  1.869792  1.645833  1.671875   1.552448   8580000\n",
       "1999-01-27  1.677083  1.718750  1.583333  1.666667   1.547611   6109200\n",
       "1999-01-28  1.666667  1.677083  1.651042  1.661458   1.542776   5688000\n",
       "1999-01-29  1.661458  1.666667  1.583333  1.583333   1.470231   6100800\n",
       "1999-02-01  1.583333  1.625000  1.583333  1.614583   1.499249   3867600\n",
       "1999-02-02  1.583333  1.625000  1.442708  1.489583   1.383178   6602400\n",
       "1999-02-03  1.468750  1.541667  1.458333  1.520833   1.412196   1878000\n",
       "1999-02-04  1.541667  1.645833  1.520833  1.604167   1.489577   4548000"
      ]
     },
     "execution_count": 133,
     "metadata": {},
     "output_type": "execute_result"
    }
   ],
   "source": [
    "nvda.head(10)"
   ]
  },
  {
   "cell_type": "code",
   "execution_count": 134,
   "metadata": {},
   "outputs": [
    {
     "name": "stdout",
     "output_type": "stream",
     "text": [
      "<class 'pandas.core.frame.DataFrame'>\n",
      "DatetimeIndex: 4654 entries, 1999-01-22 to 2017-07-20\n",
      "Data columns (total 6 columns):\n",
      "Open         4654 non-null float64\n",
      "High         4654 non-null float64\n",
      "Low          4654 non-null float64\n",
      "Close        4654 non-null float64\n",
      "Adj Close    4654 non-null float64\n",
      "Volume       4654 non-null int64\n",
      "dtypes: float64(5), int64(1)\n",
      "memory usage: 254.5 KB\n"
     ]
    }
   ],
   "source": [
    "nvda.info()"
   ]
  },
  {
   "cell_type": "code",
   "execution_count": 135,
   "metadata": {},
   "outputs": [
    {
     "data": {
      "text/html": [
       "<div>\n",
       "<table border=\"1\" class=\"dataframe\">\n",
       "  <thead>\n",
       "    <tr style=\"text-align: right;\">\n",
       "      <th></th>\n",
       "      <th>Open</th>\n",
       "      <th>High</th>\n",
       "      <th>Low</th>\n",
       "      <th>Close</th>\n",
       "      <th>Adj Close</th>\n",
       "      <th>Volume</th>\n",
       "    </tr>\n",
       "  </thead>\n",
       "  <tbody>\n",
       "    <tr>\n",
       "      <th>count</th>\n",
       "      <td>4654.000000</td>\n",
       "      <td>4654.000000</td>\n",
       "      <td>4654.000000</td>\n",
       "      <td>4654.000000</td>\n",
       "      <td>4654.000000</td>\n",
       "      <td>4.654000e+03</td>\n",
       "    </tr>\n",
       "    <tr>\n",
       "      <th>mean</th>\n",
       "      <td>18.872888</td>\n",
       "      <td>19.222090</td>\n",
       "      <td>18.513574</td>\n",
       "      <td>18.879564</td>\n",
       "      <td>18.091126</td>\n",
       "      <td>1.632563e+07</td>\n",
       "    </tr>\n",
       "    <tr>\n",
       "      <th>std</th>\n",
       "      <td>22.025278</td>\n",
       "      <td>22.346668</td>\n",
       "      <td>21.662627</td>\n",
       "      <td>22.048935</td>\n",
       "      <td>22.093697</td>\n",
       "      <td>1.204002e+07</td>\n",
       "    </tr>\n",
       "    <tr>\n",
       "      <th>min</th>\n",
       "      <td>1.395833</td>\n",
       "      <td>1.421875</td>\n",
       "      <td>1.333333</td>\n",
       "      <td>1.364583</td>\n",
       "      <td>1.267107</td>\n",
       "      <td>4.920000e+05</td>\n",
       "    </tr>\n",
       "    <tr>\n",
       "      <th>25%</th>\n",
       "      <td>8.510000</td>\n",
       "      <td>8.755000</td>\n",
       "      <td>8.245261</td>\n",
       "      <td>8.505000</td>\n",
       "      <td>7.897462</td>\n",
       "      <td>8.721475e+06</td>\n",
       "    </tr>\n",
       "    <tr>\n",
       "      <th>50%</th>\n",
       "      <td>13.810000</td>\n",
       "      <td>14.090000</td>\n",
       "      <td>13.500000</td>\n",
       "      <td>13.814167</td>\n",
       "      <td>12.832797</td>\n",
       "      <td>1.373830e+07</td>\n",
       "    </tr>\n",
       "    <tr>\n",
       "      <th>75%</th>\n",
       "      <td>19.770000</td>\n",
       "      <td>20.129999</td>\n",
       "      <td>19.505000</td>\n",
       "      <td>19.789167</td>\n",
       "      <td>18.774976</td>\n",
       "      <td>2.041408e+07</td>\n",
       "    </tr>\n",
       "    <tr>\n",
       "      <th>max</th>\n",
       "      <td>166.330002</td>\n",
       "      <td>168.500000</td>\n",
       "      <td>164.610001</td>\n",
       "      <td>167.500000</td>\n",
       "      <td>167.500000</td>\n",
       "      <td>2.307714e+08</td>\n",
       "    </tr>\n",
       "  </tbody>\n",
       "</table>\n",
       "</div>"
      ],
      "text/plain": [
       "              Open         High          Low        Close    Adj Close  \\\n",
       "count  4654.000000  4654.000000  4654.000000  4654.000000  4654.000000   \n",
       "mean     18.872888    19.222090    18.513574    18.879564    18.091126   \n",
       "std      22.025278    22.346668    21.662627    22.048935    22.093697   \n",
       "min       1.395833     1.421875     1.333333     1.364583     1.267107   \n",
       "25%       8.510000     8.755000     8.245261     8.505000     7.897462   \n",
       "50%      13.810000    14.090000    13.500000    13.814167    12.832797   \n",
       "75%      19.770000    20.129999    19.505000    19.789167    18.774976   \n",
       "max     166.330002   168.500000   164.610001   167.500000   167.500000   \n",
       "\n",
       "             Volume  \n",
       "count  4.654000e+03  \n",
       "mean   1.632563e+07  \n",
       "std    1.204002e+07  \n",
       "min    4.920000e+05  \n",
       "25%    8.721475e+06  \n",
       "50%    1.373830e+07  \n",
       "75%    2.041408e+07  \n",
       "max    2.307714e+08  "
      ]
     },
     "execution_count": 135,
     "metadata": {},
     "output_type": "execute_result"
    }
   ],
   "source": [
    "nvda.describe()"
   ]
  },
  {
   "cell_type": "code",
   "execution_count": 136,
   "metadata": {},
   "outputs": [
    {
     "data": {
      "text/plain": [
       "<matplotlib.axes._subplots.AxesSubplot at 0x7f836f8d2d68>"
      ]
     },
     "execution_count": 136,
     "metadata": {},
     "output_type": "execute_result"
    },
    {
     "data": {
      "image/png": "[encoded data removed]",
      "text/plain": [
       "<matplotlib.figure.Figure at 0x7f8373fc87f0>"
      ]
     },
     "metadata": {},
     "output_type": "display_data"
    }
   ],
   "source": [
    "%matplotlib inline\n",
    "nvda['Open'].plot()"
   ]
  },
  {
   "cell_type": "code",
   "execution_count": 137,
   "metadata": {},
   "outputs": [
    {
     "data": {
      "text/plain": [
       "<matplotlib.axes._subplots.AxesSubplot at 0x7f837afae860>"
      ]
     },
     "execution_count": 137,
     "metadata": {},
     "output_type": "execute_result"
    },
    {
     "data": {
      "image/png": "[encoded data removed]",
      "text/plain": [
       "<matplotlib.figure.Figure at 0x7f836f8d0c18>"
      ]
     },
     "metadata": {},
     "output_type": "display_data"
    }
   ],
   "source": [
    "nvda['Open'].plot(grid=True)"
   ]
  },
  {
   "cell_type": "code",
   "execution_count": 139,
   "metadata": {},
   "outputs": [
    {
     "data": {
      "text/plain": [
       "array([False, False, False, ...,  True,  True,  True], dtype=bool)"
      ]
     },
     "execution_count": 139,
     "metadata": {},
     "output_type": "execute_result"
    }
   ],
   "source": [
    "nvda.index > '2016-01-01'"
   ]
  },
  {
   "cell_type": "code",
   "execution_count": 140,
   "metadata": {},
   "outputs": [
    {
     "data": {
      "text/plain": [
       "array([ True,  True,  True, ..., False, False, False], dtype=bool)"
      ]
     },
     "execution_count": 140,
     "metadata": {},
     "output_type": "execute_result"
    }
   ],
   "source": [
    "nvda.index < '2016-04-01'"
   ]
  },
  {
   "cell_type": "code",
   "execution_count": 145,
   "metadata": {},
   "outputs": [
    {
     "data": {
      "text/plain": [
       "array([False, False, False, ..., False, False, False], dtype=bool)"
      ]
     },
     "execution_count": 145,
     "metadata": {},
     "output_type": "execute_result"
    }
   ],
   "source": [
    "# 条件与或非\n",
    "# | 表示或\n",
    "# & 表示且\n",
    "# ! 表示非\n",
    "(nvda.index > '2016-01-01') & (nvda.index < '2016-02-01')"
   ]
  },
  {
   "cell_type": "code",
   "execution_count": 146,
   "metadata": {},
   "outputs": [
    {
     "data": {
      "text/plain": [
       "<matplotlib.axes._subplots.AxesSubplot at 0x7f836fc12b00>"
      ]
     },
     "execution_count": 146,
     "metadata": {},
     "output_type": "execute_result"
    },
    {
     "data": {
      "image/png": "[encoded data removed]",
      "text/plain": [
       "<matplotlib.figure.Figure at 0x7f836fc49d68>"
      ]
     },
     "metadata": {},
     "output_type": "display_data"
    }
   ],
   "source": [
    "nvda[(nvda.index > '2016-01-01') & (nvda.index < '2016-02-01')]['Open'].plot(kind='bar')"
   ]
  },
  {
   "cell_type": "code",
   "execution_count": 147,
   "metadata": {},
   "outputs": [
    {
     "data": {
      "text/plain": [
       "<matplotlib.axes._subplots.AxesSubplot at 0x7f8378032278>"
      ]
     },
     "execution_count": 147,
     "metadata": {},
     "output_type": "execute_result"
    },
    {
     "data": {
      "image/png": "[encoded data removed]",
      "text/plain": [
       "<matplotlib.figure.Figure at 0x7f836fbb8208>"
      ]
     },
     "metadata": {},
     "output_type": "display_data"
    }
   ],
   "source": [
    "nvda[(nvda.index > '2016-01-01') & (nvda.index < '2016-02-01')]['Open'].plot()"
   ]
  },
  {
   "cell_type": "code",
   "execution_count": 148,
   "metadata": {},
   "outputs": [
    {
     "data": {
      "text/html": [
       "<div>\n",
       "<table border=\"1\" class=\"dataframe\">\n",
       "  <thead>\n",
       "    <tr style=\"text-align: right;\">\n",
       "      <th></th>\n",
       "      <th>Open</th>\n",
       "      <th>High</th>\n",
       "      <th>Low</th>\n",
       "      <th>Close</th>\n",
       "      <th>Adj Close</th>\n",
       "      <th>Volume</th>\n",
       "    </tr>\n",
       "    <tr>\n",
       "      <th>Date</th>\n",
       "      <th></th>\n",
       "      <th></th>\n",
       "      <th></th>\n",
       "      <th></th>\n",
       "      <th></th>\n",
       "      <th></th>\n",
       "    </tr>\n",
       "  </thead>\n",
       "  <tbody>\n",
       "    <tr>\n",
       "      <th>1999-01-22</th>\n",
       "      <td>1.750000</td>\n",
       "      <td>1.953125</td>\n",
       "      <td>1.552083</td>\n",
       "      <td>1.640625</td>\n",
       "      <td>1.523430</td>\n",
       "      <td>67867200</td>\n",
       "    </tr>\n",
       "    <tr>\n",
       "      <th>1999-01-25</th>\n",
       "      <td>1.770833</td>\n",
       "      <td>1.833333</td>\n",
       "      <td>1.640625</td>\n",
       "      <td>1.812500</td>\n",
       "      <td>1.683028</td>\n",
       "      <td>12762000</td>\n",
       "    </tr>\n",
       "    <tr>\n",
       "      <th>1999-01-26</th>\n",
       "      <td>1.833333</td>\n",
       "      <td>1.869792</td>\n",
       "      <td>1.645833</td>\n",
       "      <td>1.671875</td>\n",
       "      <td>1.552448</td>\n",
       "      <td>8580000</td>\n",
       "    </tr>\n",
       "    <tr>\n",
       "      <th>1999-01-27</th>\n",
       "      <td>1.677083</td>\n",
       "      <td>1.718750</td>\n",
       "      <td>1.583333</td>\n",
       "      <td>1.666667</td>\n",
       "      <td>1.547611</td>\n",
       "      <td>6109200</td>\n",
       "    </tr>\n",
       "    <tr>\n",
       "      <th>1999-01-28</th>\n",
       "      <td>1.666667</td>\n",
       "      <td>1.677083</td>\n",
       "      <td>1.651042</td>\n",
       "      <td>1.661458</td>\n",
       "      <td>1.542776</td>\n",
       "      <td>5688000</td>\n",
       "    </tr>\n",
       "  </tbody>\n",
       "</table>\n",
       "</div>"
      ],
      "text/plain": [
       "                Open      High       Low     Close  Adj Close    Volume\n",
       "Date                                                                   \n",
       "1999-01-22  1.750000  1.953125  1.552083  1.640625   1.523430  67867200\n",
       "1999-01-25  1.770833  1.833333  1.640625  1.812500   1.683028  12762000\n",
       "1999-01-26  1.833333  1.869792  1.645833  1.671875   1.552448   8580000\n",
       "1999-01-27  1.677083  1.718750  1.583333  1.666667   1.547611   6109200\n",
       "1999-01-28  1.666667  1.677083  1.651042  1.661458   1.542776   5688000"
      ]
     },
     "execution_count": 148,
     "metadata": {},
     "output_type": "execute_result"
    }
   ],
   "source": [
    "nvda.head()"
   ]
  },
  {
   "cell_type": "code",
   "execution_count": 149,
   "metadata": {},
   "outputs": [
    {
     "data": {
      "text/plain": [
       "18.87288806854319"
      ]
     },
     "execution_count": 149,
     "metadata": {},
     "output_type": "execute_result"
    }
   ],
   "source": [
    "nvda['Open'].mean()"
   ]
  },
  {
   "cell_type": "code",
   "execution_count": 150,
   "metadata": {},
   "outputs": [
    {
     "data": {
      "text/plain": [
       "Open    18.872888\n",
       "High    19.222090\n",
       "dtype: float64"
      ]
     },
     "execution_count": 150,
     "metadata": {},
     "output_type": "execute_result"
    }
   ],
   "source": [
    "nvda[['Open','High']].mean()"
   ]
  },
  {
   "cell_type": "code",
   "execution_count": 151,
   "metadata": {},
   "outputs": [
    {
     "data": {
      "text/html": [
       "<div>\n",
       "<table border=\"1\" class=\"dataframe\">\n",
       "  <thead>\n",
       "    <tr style=\"text-align: right;\">\n",
       "      <th></th>\n",
       "      <th>Open</th>\n",
       "      <th>High</th>\n",
       "      <th>Low</th>\n",
       "      <th>Close</th>\n",
       "      <th>Adj Close</th>\n",
       "      <th>Volume</th>\n",
       "    </tr>\n",
       "  </thead>\n",
       "  <tbody>\n",
       "    <tr>\n",
       "      <th>count</th>\n",
       "      <td>125.000000</td>\n",
       "      <td>125.000000</td>\n",
       "      <td>125.000000</td>\n",
       "      <td>125.000000</td>\n",
       "      <td>125.000000</td>\n",
       "      <td>1.250000e+02</td>\n",
       "    </tr>\n",
       "    <tr>\n",
       "      <th>mean</th>\n",
       "      <td>35.931360</td>\n",
       "      <td>36.416000</td>\n",
       "      <td>35.498880</td>\n",
       "      <td>36.006720</td>\n",
       "      <td>35.705421</td>\n",
       "      <td>9.802855e+06</td>\n",
       "    </tr>\n",
       "    <tr>\n",
       "      <th>std</th>\n",
       "      <td>6.722128</td>\n",
       "      <td>6.771410</td>\n",
       "      <td>6.768863</td>\n",
       "      <td>6.798316</td>\n",
       "      <td>6.816078</td>\n",
       "      <td>5.527803e+06</td>\n",
       "    </tr>\n",
       "    <tr>\n",
       "      <th>min</th>\n",
       "      <td>24.780001</td>\n",
       "      <td>25.559999</td>\n",
       "      <td>24.750000</td>\n",
       "      <td>25.219999</td>\n",
       "      <td>24.922132</td>\n",
       "      <td>4.382600e+06</td>\n",
       "    </tr>\n",
       "    <tr>\n",
       "      <th>25%</th>\n",
       "      <td>31.270000</td>\n",
       "      <td>31.870001</td>\n",
       "      <td>30.820000</td>\n",
       "      <td>31.520000</td>\n",
       "      <td>31.147726</td>\n",
       "      <td>6.919400e+06</td>\n",
       "    </tr>\n",
       "    <tr>\n",
       "      <th>50%</th>\n",
       "      <td>35.299999</td>\n",
       "      <td>35.570000</td>\n",
       "      <td>34.840000</td>\n",
       "      <td>35.389999</td>\n",
       "      <td>35.099426</td>\n",
       "      <td>8.707300e+06</td>\n",
       "    </tr>\n",
       "    <tr>\n",
       "      <th>75%</th>\n",
       "      <td>42.000000</td>\n",
       "      <td>42.799999</td>\n",
       "      <td>41.459999</td>\n",
       "      <td>42.279999</td>\n",
       "      <td>41.932854</td>\n",
       "      <td>1.122720e+07</td>\n",
       "    </tr>\n",
       "    <tr>\n",
       "      <th>max</th>\n",
       "      <td>47.759998</td>\n",
       "      <td>48.540001</td>\n",
       "      <td>47.650002</td>\n",
       "      <td>48.490002</td>\n",
       "      <td>48.216755</td>\n",
       "      <td>5.275640e+07</td>\n",
       "    </tr>\n",
       "  </tbody>\n",
       "</table>\n",
       "</div>"
      ],
      "text/plain": [
       "             Open        High         Low       Close   Adj Close  \\\n",
       "count  125.000000  125.000000  125.000000  125.000000  125.000000   \n",
       "mean    35.931360   36.416000   35.498880   36.006720   35.705421   \n",
       "std      6.722128    6.771410    6.768863    6.798316    6.816078   \n",
       "min     24.780001   25.559999   24.750000   25.219999   24.922132   \n",
       "25%     31.270000   31.870001   30.820000   31.520000   31.147726   \n",
       "50%     35.299999   35.570000   34.840000   35.389999   35.099426   \n",
       "75%     42.000000   42.799999   41.459999   42.279999   41.932854   \n",
       "max     47.759998   48.540001   47.650002   48.490002   48.216755   \n",
       "\n",
       "             Volume  \n",
       "count  1.250000e+02  \n",
       "mean   9.802855e+06  \n",
       "std    5.527803e+06  \n",
       "min    4.382600e+06  \n",
       "25%    6.919400e+06  \n",
       "50%    8.707300e+06  \n",
       "75%    1.122720e+07  \n",
       "max    5.275640e+07  "
      ]
     },
     "execution_count": 151,
     "metadata": {},
     "output_type": "execute_result"
    }
   ],
   "source": [
    "nvda[(nvda.index >= '2016-01-01') & (nvda.index <= '2016-06-30')].describe()"
   ]
  },
  {
   "cell_type": "code",
   "execution_count": 152,
   "metadata": {},
   "outputs": [
    {
     "data": {
      "text/html": [
       "<div>\n",
       "<table border=\"1\" class=\"dataframe\">\n",
       "  <thead>\n",
       "    <tr style=\"text-align: right;\">\n",
       "      <th></th>\n",
       "      <th>apt</th>\n",
       "      <th>cars</th>\n",
       "      <th>bonus</th>\n",
       "      <th>expense</th>\n",
       "      <th>color</th>\n",
       "    </tr>\n",
       "  </thead>\n",
       "  <tbody>\n",
       "    <tr>\n",
       "      <th>Beijing</th>\n",
       "      <td>55000.0</td>\n",
       "      <td>350000.0</td>\n",
       "      <td>50000</td>\n",
       "      <td>100000</td>\n",
       "      <td>红</td>\n",
       "    </tr>\n",
       "    <tr>\n",
       "      <th>Chongqing</th>\n",
       "      <td>NaN</td>\n",
       "      <td>150000.0</td>\n",
       "      <td>40000</td>\n",
       "      <td>100000</td>\n",
       "      <td>黄</td>\n",
       "    </tr>\n",
       "    <tr>\n",
       "      <th>Guangzhou</th>\n",
       "      <td>45000.0</td>\n",
       "      <td>250000.0</td>\n",
       "      <td>40000</td>\n",
       "      <td>100000</td>\n",
       "      <td>紫</td>\n",
       "    </tr>\n",
       "    <tr>\n",
       "      <th>Hangzhou</th>\n",
       "      <td>45000.0</td>\n",
       "      <td>NaN</td>\n",
       "      <td>40000</td>\n",
       "      <td>100000</td>\n",
       "      <td>蓝</td>\n",
       "    </tr>\n",
       "    <tr>\n",
       "      <th>ShangHai</th>\n",
       "      <td>60000.0</td>\n",
       "      <td>400000.0</td>\n",
       "      <td>40000</td>\n",
       "      <td>100000</td>\n",
       "      <td>红</td>\n",
       "    </tr>\n",
       "    <tr>\n",
       "      <th>Shenzhen</th>\n",
       "      <td>70000.0</td>\n",
       "      <td>300000.0</td>\n",
       "      <td>40000</td>\n",
       "      <td>100000</td>\n",
       "      <td>绿</td>\n",
       "    </tr>\n",
       "    <tr>\n",
       "      <th>Suzhou</th>\n",
       "      <td>NaN</td>\n",
       "      <td>NaN</td>\n",
       "      <td>40000</td>\n",
       "      <td>100000</td>\n",
       "      <td>棕</td>\n",
       "    </tr>\n",
       "    <tr>\n",
       "      <th>Tianjin</th>\n",
       "      <td>NaN</td>\n",
       "      <td>200000.0</td>\n",
       "      <td>40000</td>\n",
       "      <td>100000</td>\n",
       "      <td>橙</td>\n",
       "    </tr>\n",
       "  </tbody>\n",
       "</table>\n",
       "</div>"
      ],
      "text/plain": [
       "               apt      cars  bonus  expense color\n",
       "Beijing    55000.0  350000.0  50000   100000     红\n",
       "Chongqing      NaN  150000.0  40000   100000     黄\n",
       "Guangzhou  45000.0  250000.0  40000   100000     紫\n",
       "Hangzhou   45000.0       NaN  40000   100000     蓝\n",
       "ShangHai   60000.0  400000.0  40000   100000     红\n",
       "Shenzhen   70000.0  300000.0  40000   100000     绿\n",
       "Suzhou         NaN       NaN  40000   100000     棕\n",
       "Tianjin        NaN  200000.0  40000   100000     橙"
      ]
     },
     "execution_count": 152,
     "metadata": {},
     "output_type": "execute_result"
    }
   ],
   "source": [
    "df"
   ]
  },
  {
   "cell_type": "code",
   "execution_count": 153,
   "metadata": {
    "collapsed": true
   },
   "outputs": [],
   "source": [
    "df.to_csv('my_df.csv')"
   ]
  },
  {
   "cell_type": "code",
   "execution_count": 154,
   "metadata": {},
   "outputs": [
    {
     "name": "stdout",
     "output_type": "stream",
     "text": [
      ",apt,cars,bonus,expense,color\r\n",
      "Beijing,55000.0,350000.0,50000,100000,红\r\n",
      "Chongqing,,150000.0,40000,100000,黄\r\n",
      "Guangzhou,45000.0,250000.0,40000,100000,紫\r\n",
      "Hangzhou,45000.0,,40000,100000,蓝\r\n",
      "ShangHai,60000.0,400000.0,40000,100000,红\r\n",
      "Shenzhen,70000.0,300000.0,40000,100000,绿\r\n",
      "Suzhou,,,40000,100000,棕\r\n",
      "Tianjin,,200000.0,40000,100000,橙\r\n"
     ]
    }
   ],
   "source": [
    "!head -10 my_df.csv"
   ]
  },
  {
   "cell_type": "code",
   "execution_count": 155,
   "metadata": {
    "collapsed": true
   },
   "outputs": [],
   "source": [
    "df.to_csv('my_df.csv', index=False)"
   ]
  },
  {
   "cell_type": "code",
   "execution_count": 156,
   "metadata": {},
   "outputs": [
    {
     "name": "stdout",
     "output_type": "stream",
     "text": [
      "apt,cars,bonus,expense,color\r\n",
      "55000.0,350000.0,50000,100000,红\r\n",
      ",150000.0,40000,100000,黄\r\n",
      "45000.0,250000.0,40000,100000,紫\r\n",
      "45000.0,,40000,100000,蓝\r\n",
      "60000.0,400000.0,40000,100000,红\r\n",
      "70000.0,300000.0,40000,100000,绿\r\n",
      ",,40000,100000,棕\r\n",
      ",200000.0,40000,100000,橙\r\n"
     ]
    }
   ],
   "source": [
    "!head -10 my_df.csv"
   ]
  },
  {
   "cell_type": "code",
   "execution_count": 157,
   "metadata": {
    "scrolled": false
   },
   "outputs": [
    {
     "name": "stdout",
     "output_type": "stream",
     "text": [
      "Help on function read_csv in module pandas.io.parsers:\n",
      "\n",
      "read_csv(filepath_or_buffer, sep=',', delimiter=None, header='infer', names=None, index_col=None, usecols=None, squeeze=False, prefix=None, mangle_dupe_cols=True, dtype=None, engine=None, converters=None, true_values=None, false_values=None, skipinitialspace=False, skiprows=None, nrows=None, na_values=None, keep_default_na=True, na_filter=True, verbose=False, skip_blank_lines=True, parse_dates=False, infer_datetime_format=False, keep_date_col=False, date_parser=None, dayfirst=False, iterator=False, chunksize=None, compression='infer', thousands=None, decimal=b'.', lineterminator=None, quotechar='\"', quoting=0, escapechar=None, comment=None, encoding=None, dialect=None, tupleize_cols=False, error_bad_lines=True, warn_bad_lines=True, skipfooter=0, skip_footer=0, doublequote=True, delim_whitespace=False, as_recarray=False, compact_ints=False, use_unsigned=False, low_memory=True, buffer_lines=None, memory_map=False, float_precision=None)\n",
      "    Read CSV (comma-separated) file into DataFrame\n",
      "    \n",
      "    Also supports optionally iterating or breaking of the file\n",
      "    into chunks.\n",
      "    \n",
      "    Additional help can be found in the `online docs for IO Tools\n",
      "    <http://pandas.pydata.org/pandas-docs/stable/io.html>`_.\n",
      "    \n",
      "    Parameters\n",
      "    ----------\n",
      "    filepath_or_buffer : str, pathlib.Path, py._path.local.LocalPath or any object with a read() method (such as a file handle or StringIO)\n",
      "        The string could be a URL. Valid URL schemes include http, ftp, s3, and\n",
      "        file. For file URLs, a host is expected. For instance, a local file could\n",
      "        be file ://localhost/path/to/table.csv\n",
      "    sep : str, default ','\n",
      "        Delimiter to use. If sep is None, will try to automatically determine\n",
      "        this. Separators longer than 1 character and different from ``'\\s+'`` will\n",
      "        be interpreted as regular expressions, will force use of the python parsing\n",
      "        engine and will ignore quotes in the data. Regex example: ``'\\r\\t'``\n",
      "    delimiter : str, default ``None``\n",
      "        Alternative argument name for sep.\n",
      "    delim_whitespace : boolean, default False\n",
      "        Specifies whether or not whitespace (e.g. ``' '`` or ``'    '``) will be\n",
      "        used as the sep. Equivalent to setting ``sep='\\s+'``. If this option\n",
      "        is set to True, nothing should be passed in for the ``delimiter``\n",
      "        parameter.\n",
      "    \n",
      "        .. versionadded:: 0.18.1 support for the Python parser.\n",
      "    \n",
      "    header : int or list of ints, default 'infer'\n",
      "        Row number(s) to use as the column names, and the start of the data.\n",
      "        Default behavior is as if set to 0 if no ``names`` passed, otherwise\n",
      "        ``None``. Explicitly pass ``header=0`` to be able to replace existing\n",
      "        names. The header can be a list of integers that specify row locations for\n",
      "        a multi-index on the columns e.g. [0,1,3]. Intervening rows that are not\n",
      "        specified will be skipped (e.g. 2 in this example is skipped). Note that\n",
      "        this parameter ignores commented lines and empty lines if\n",
      "        ``skip_blank_lines=True``, so header=0 denotes the first line of data\n",
      "        rather than the first line of the file.\n",
      "    names : array-like, default None\n",
      "        List of column names to use. If file contains no header row, then you\n",
      "        should explicitly pass header=None. Duplicates in this list are not\n",
      "        allowed unless mangle_dupe_cols=True, which is the default.\n",
      "    index_col : int or sequence or False, default None\n",
      "        Column to use as the row labels of the DataFrame. If a sequence is given, a\n",
      "        MultiIndex is used. If you have a malformed file with delimiters at the end\n",
      "        of each line, you might consider index_col=False to force pandas to _not_\n",
      "        use the first column as the index (row names)\n",
      "    usecols : array-like, default None\n",
      "        Return a subset of the columns. All elements in this array must either\n",
      "        be positional (i.e. integer indices into the document columns) or strings\n",
      "        that correspond to column names provided either by the user in `names` or\n",
      "        inferred from the document header row(s). For example, a valid `usecols`\n",
      "        parameter would be [0, 1, 2] or ['foo', 'bar', 'baz']. Using this parameter\n",
      "        results in much faster parsing time and lower memory usage.\n",
      "    as_recarray : boolean, default False\n",
      "        DEPRECATED: this argument will be removed in a future version. Please call\n",
      "        `pd.read_csv(...).to_records()` instead.\n",
      "    \n",
      "        Return a NumPy recarray instead of a DataFrame after parsing the data.\n",
      "        If set to True, this option takes precedence over the `squeeze` parameter.\n",
      "        In addition, as row indices are not available in such a format, the\n",
      "        `index_col` parameter will be ignored.\n",
      "    squeeze : boolean, default False\n",
      "        If the parsed data only contains one column then return a Series\n",
      "    prefix : str, default None\n",
      "        Prefix to add to column numbers when no header, e.g. 'X' for X0, X1, ...\n",
      "    mangle_dupe_cols : boolean, default True\n",
      "        Duplicate columns will be specified as 'X.0'...'X.N', rather than\n",
      "        'X'...'X'. Passing in False will cause data to be overwritten if there\n",
      "        are duplicate names in the columns.\n",
      "    dtype : Type name or dict of column -> type, default None\n",
      "        Data type for data or columns. E.g. {'a': np.float64, 'b': np.int32}\n",
      "        (Unsupported with engine='python'). Use `str` or `object` to preserve and\n",
      "        not interpret dtype.\n",
      "    engine : {'c', 'python'}, optional\n",
      "        Parser engine to use. The C engine is faster while the python engine is\n",
      "        currently more feature-complete.\n",
      "    converters : dict, default None\n",
      "        Dict of functions for converting values in certain columns. Keys can either\n",
      "        be integers or column labels\n",
      "    true_values : list, default None\n",
      "        Values to consider as True\n",
      "    false_values : list, default None\n",
      "        Values to consider as False\n",
      "    skipinitialspace : boolean, default False\n",
      "        Skip spaces after delimiter.\n",
      "    skiprows : list-like or integer, default None\n",
      "        Line numbers to skip (0-indexed) or number of lines to skip (int)\n",
      "        at the start of the file\n",
      "    skipfooter : int, default 0\n",
      "        Number of lines at bottom of file to skip (Unsupported with engine='c')\n",
      "    skip_footer : int, default 0\n",
      "        DEPRECATED: use the `skipfooter` parameter instead, as they are identical\n",
      "    nrows : int, default None\n",
      "        Number of rows of file to read. Useful for reading pieces of large files\n",
      "    na_values : scalar, str, list-like, or dict, default None\n",
      "        Additional strings to recognize as NA/NaN. If dict passed, specific\n",
      "        per-column NA values.  By default the following values are interpreted as\n",
      "        NaN: '', '#N/A', '#N/A N/A', '#NA', '-1.#IND', '-1.#QNAN', '-NaN', '-nan',\n",
      "    '1.#IND', '1.#QNAN', 'N/A', 'NA', 'NULL', 'NaN', 'nan'`.\n",
      "    keep_default_na : bool, default True\n",
      "        If na_values are specified and keep_default_na is False the default NaN\n",
      "        values are overridden, otherwise they're appended to.\n",
      "    na_filter : boolean, default True\n",
      "        Detect missing value markers (empty strings and the value of na_values). In\n",
      "        data without any NAs, passing na_filter=False can improve the performance\n",
      "        of reading a large file\n",
      "    verbose : boolean, default False\n",
      "        Indicate number of NA values placed in non-numeric columns\n",
      "    skip_blank_lines : boolean, default True\n",
      "        If True, skip over blank lines rather than interpreting as NaN values\n",
      "    parse_dates : boolean or list of ints or names or list of lists or dict, default False\n",
      "    \n",
      "        * boolean. If True -> try parsing the index.\n",
      "        * list of ints or names. e.g. If [1, 2, 3] -> try parsing columns 1, 2, 3\n",
      "          each as a separate date column.\n",
      "        * list of lists. e.g.  If [[1, 3]] -> combine columns 1 and 3 and parse as\n",
      "            a single date column.\n",
      "        * dict, e.g. {'foo' : [1, 3]} -> parse columns 1, 3 as date and call result\n",
      "          'foo'\n",
      "    \n",
      "        Note: A fast-path exists for iso8601-formatted dates.\n",
      "    infer_datetime_format : boolean, default False\n",
      "        If True and parse_dates is enabled, pandas will attempt to infer the format\n",
      "        of the datetime strings in the columns, and if it can be inferred, switch\n",
      "        to a faster method of parsing them. In some cases this can increase the\n",
      "        parsing speed by ~5-10x.\n",
      "    keep_date_col : boolean, default False\n",
      "        If True and parse_dates specifies combining multiple columns then\n",
      "        keep the original columns.\n",
      "    date_parser : function, default None\n",
      "        Function to use for converting a sequence of string columns to an array of\n",
      "        datetime instances. The default uses ``dateutil.parser.parser`` to do the\n",
      "        conversion. Pandas will try to call date_parser in three different ways,\n",
      "        advancing to the next if an exception occurs: 1) Pass one or more arrays\n",
      "        (as defined by parse_dates) as arguments; 2) concatenate (row-wise) the\n",
      "        string values from the columns defined by parse_dates into a single array\n",
      "        and pass that; and 3) call date_parser once for each row using one or more\n",
      "        strings (corresponding to the columns defined by parse_dates) as arguments.\n",
      "    dayfirst : boolean, default False\n",
      "        DD/MM format dates, international and European format\n",
      "    iterator : boolean, default False\n",
      "        Return TextFileReader object for iteration or getting chunks with\n",
      "        ``get_chunk()``.\n",
      "    chunksize : int, default None\n",
      "        Return TextFileReader object for iteration. `See IO Tools docs for more\n",
      "        information\n",
      "        <http://pandas.pydata.org/pandas-docs/stable/io.html#io-chunking>`_ on\n",
      "        ``iterator`` and ``chunksize``.\n",
      "    compression : {'infer', 'gzip', 'bz2', 'zip', 'xz', None}, default 'infer'\n",
      "        For on-the-fly decompression of on-disk data. If 'infer', then use gzip,\n",
      "        bz2, zip or xz if filepath_or_buffer is a string ending in '.gz', '.bz2',\n",
      "        '.zip', or 'xz', respectively, and no decompression otherwise. If using\n",
      "        'zip', the ZIP file must contain only one data file to be read in.\n",
      "        Set to None for no decompression.\n",
      "    \n",
      "        .. versionadded:: 0.18.1 support for 'zip' and 'xz' compression.\n",
      "    \n",
      "    thousands : str, default None\n",
      "        Thousands separator\n",
      "    decimal : str, default '.'\n",
      "        Character to recognize as decimal point (e.g. use ',' for European data).\n",
      "    float_precision : string, default None\n",
      "        Specifies which converter the C engine should use for floating-point\n",
      "        values. The options are `None` for the ordinary converter,\n",
      "        `high` for the high-precision converter, and `round_trip` for the\n",
      "        round-trip converter.\n",
      "    lineterminator : str (length 1), default None\n",
      "        Character to break file into lines. Only valid with C parser.\n",
      "    quotechar : str (length 1), optional\n",
      "        The character used to denote the start and end of a quoted item. Quoted\n",
      "        items can include the delimiter and it will be ignored.\n",
      "    quoting : int or csv.QUOTE_* instance, default 0\n",
      "        Control field quoting behavior per ``csv.QUOTE_*`` constants. Use one of\n",
      "        QUOTE_MINIMAL (0), QUOTE_ALL (1), QUOTE_NONNUMERIC (2) or QUOTE_NONE (3).\n",
      "    doublequote : boolean, default ``True``\n",
      "       When quotechar is specified and quoting is not ``QUOTE_NONE``, indicate\n",
      "       whether or not to interpret two consecutive quotechar elements INSIDE a\n",
      "       field as a single ``quotechar`` element.\n",
      "    escapechar : str (length 1), default None\n",
      "        One-character string used to escape delimiter when quoting is QUOTE_NONE.\n",
      "    comment : str, default None\n",
      "        Indicates remainder of line should not be parsed. If found at the beginning\n",
      "        of a line, the line will be ignored altogether. This parameter must be a\n",
      "        single character. Like empty lines (as long as ``skip_blank_lines=True``),\n",
      "        fully commented lines are ignored by the parameter `header` but not by\n",
      "        `skiprows`. For example, if comment='#', parsing '#empty\\na,b,c\\n1,2,3'\n",
      "        with `header=0` will result in 'a,b,c' being\n",
      "        treated as the header.\n",
      "    encoding : str, default None\n",
      "        Encoding to use for UTF when reading/writing (ex. 'utf-8'). `List of Python\n",
      "        standard encodings\n",
      "        <https://docs.python.org/3/library/codecs.html#standard-encodings>`_\n",
      "    dialect : str or csv.Dialect instance, default None\n",
      "        If None defaults to Excel dialect. Ignored if sep longer than 1 char\n",
      "        See csv.Dialect documentation for more details\n",
      "    tupleize_cols : boolean, default False\n",
      "        Leave a list of tuples on columns as is (default is to convert to\n",
      "        a Multi Index on the columns)\n",
      "    error_bad_lines : boolean, default True\n",
      "        Lines with too many fields (e.g. a csv line with too many commas) will by\n",
      "        default cause an exception to be raised, and no DataFrame will be returned.\n",
      "        If False, then these \"bad lines\" will dropped from the DataFrame that is\n",
      "        returned. (Only valid with C parser)\n",
      "    warn_bad_lines : boolean, default True\n",
      "        If error_bad_lines is False, and warn_bad_lines is True, a warning for each\n",
      "        \"bad line\" will be output. (Only valid with C parser).\n",
      "    low_memory : boolean, default True\n",
      "        Internally process the file in chunks, resulting in lower memory use\n",
      "        while parsing, but possibly mixed type inference.  To ensure no mixed\n",
      "        types either set False, or specify the type with the `dtype` parameter.\n",
      "        Note that the entire file is read into a single DataFrame regardless,\n",
      "        use the `chunksize` or `iterator` parameter to return the data in chunks.\n",
      "        (Only valid with C parser)\n",
      "    buffer_lines : int, default None\n",
      "        DEPRECATED: this argument will be removed in a future version because its\n",
      "        value is not respected by the parser\n",
      "    compact_ints : boolean, default False\n",
      "        DEPRECATED: this argument will be removed in a future version\n",
      "    \n",
      "        If compact_ints is True, then for any column that is of integer dtype,\n",
      "        the parser will attempt to cast it as the smallest integer dtype possible,\n",
      "        either signed or unsigned depending on the specification from the\n",
      "        `use_unsigned` parameter.\n",
      "    use_unsigned : boolean, default False\n",
      "        DEPRECATED: this argument will be removed in a future version\n",
      "    \n",
      "        If integer columns are being compacted (i.e. `compact_ints=True`), specify\n",
      "        whether the column should be compacted to the smallest signed or unsigned\n",
      "        integer dtype.\n",
      "    memory_map : boolean, default False\n",
      "        If a filepath is provided for `filepath_or_buffer`, map the file object\n",
      "        directly onto memory and access the data directly from there. Using this\n",
      "        option can improve performance because there is no longer any I/O overhead.\n",
      "    \n",
      "    Returns\n",
      "    -------\n",
      "    result : DataFrame or TextParser\n",
      "\n"
     ]
    }
   ],
   "source": [
    "help(pd.read_csv)"
   ]
  },
  {
   "cell_type": "code",
   "execution_count": null,
   "metadata": {
    "collapsed": true
   },
   "outputs": [],
   "source": []
  }
 ],
 "metadata": {
  "kernelspec": {
   "display_name": "Python 3",
   "language": "python",
   "name": "python3"
  },
  "language_info": {
   "codemirror_mode": {
    "name": "ipython",
    "version": 3
   },
   "file_extension": ".py",
   "mimetype": "text/x-python",
   "name": "python",
   "nbconvert_exporter": "python",
   "pygments_lexer": "ipython3",
   "version": "3.5.2"
  }
 },
 "nbformat": 4,
 "nbformat_minor": 2
}
