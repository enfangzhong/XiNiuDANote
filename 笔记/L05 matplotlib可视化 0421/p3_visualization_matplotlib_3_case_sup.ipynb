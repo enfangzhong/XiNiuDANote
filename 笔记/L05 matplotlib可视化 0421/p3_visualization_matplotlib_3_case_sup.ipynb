{
 "cells": [
  {
   "cell_type": "markdown",
   "metadata": {},
   "source": [
    "## 股票相关K线图"
   ]
  },
  {
   "cell_type": "code",
   "execution_count": 38,
   "metadata": {},
   "outputs": [
    {
     "name": "stderr",
     "output_type": "stream",
     "text": [
      "/opt/conda/lib/python3.5/site-packages/matplotlib/axes/_axes.py:545: UserWarning: No labelled objects found. Use label='...' kwarg on individual plots.\n",
      "  warnings.warn(\"No labelled objects found. \"\n"
     ]
    },
    {
     "data": {
      "text/plain": [
       "<matplotlib.text.Text at 0x7f812f5519b0>"
      ]
     },
     "execution_count": 38,
     "metadata": {},
     "output_type": "execute_result"
    },
    {
     "data": {
      "image/png": "[encoded data removed]",
      "text/plain": [
       "<matplotlib.figure.Figure at 0x7f812bad0a58>"
      ]
     },
     "metadata": {},
     "output_type": "display_data"
    }
   ],
   "source": [
    "# import tushare as ts # 财经数据接口包\n",
    "import numpy as np\n",
    "import tushare as ts\n",
    "import matplotlib.pyplot as plt\n",
    "import matplotlib.finance as mpf\n",
    "\n",
    "%matplotlib inline\n",
    "\n",
    "data = ts.get_k_data('600028',start='2017-10-01', end='2018-04-20') # http://tushare.org/index.html，index=TRUE\n",
    "fig = plt.figure(figsize=(24, 8)) # 设置图片大小\n",
    "ax = fig.add_subplot(1, 1, 1) \n",
    "ax.set_xticks(range(0, len(data['date']), 10)) # 10个开盘日，2周？ \n",
    "ax.set_xticklabels(data['date'][::10]) \n",
    "ax.legend(loc='upper left') \n",
    "mpf.candlestick2_ochl(ax, data['open'], data['close'], data['high'], data['low'], \n",
    "width=0.5, colorup='r', colordown='green', \n",
    "alpha=0.6) \n",
    "plt.grid()\n",
    "plt.title(\"K line\")\n",
    "plt.xlabel(\"time\")\n",
    "plt.ylabel(\"evaluation\")"
   ]
  },
  {
   "cell_type": "code",
   "execution_count": 20,
   "metadata": {},
   "outputs": [
    {
     "data": {
      "text/html": [
       "<div>\n",
       "<table border=\"1\" class=\"dataframe\">\n",
       "  <thead>\n",
       "    <tr style=\"text-align: right;\">\n",
       "      <th></th>\n",
       "      <th>date</th>\n",
       "      <th>open</th>\n",
       "      <th>close</th>\n",
       "      <th>high</th>\n",
       "      <th>low</th>\n",
       "      <th>volume</th>\n",
       "      <th>code</th>\n",
       "    </tr>\n",
       "  </thead>\n",
       "  <tbody>\n",
       "    <tr>\n",
       "      <th>0</th>\n",
       "      <td>2017-01-03</td>\n",
       "      <td>3313.95</td>\n",
       "      <td>3342.23</td>\n",
       "      <td>3345.26</td>\n",
       "      <td>3313.95</td>\n",
       "      <td>86567896.0</td>\n",
       "      <td>sz399300</td>\n",
       "    </tr>\n",
       "    <tr>\n",
       "      <th>1</th>\n",
       "      <td>2017-01-04</td>\n",
       "      <td>3340.56</td>\n",
       "      <td>3368.31</td>\n",
       "      <td>3369.57</td>\n",
       "      <td>3338.15</td>\n",
       "      <td>90050827.0</td>\n",
       "      <td>sz399300</td>\n",
       "    </tr>\n",
       "    <tr>\n",
       "      <th>2</th>\n",
       "      <td>2017-01-05</td>\n",
       "      <td>3368.34</td>\n",
       "      <td>3367.79</td>\n",
       "      <td>3373.41</td>\n",
       "      <td>3361.46</td>\n",
       "      <td>88336357.0</td>\n",
       "      <td>sz399300</td>\n",
       "    </tr>\n",
       "    <tr>\n",
       "      <th>3</th>\n",
       "      <td>2017-01-06</td>\n",
       "      <td>3366.85</td>\n",
       "      <td>3347.67</td>\n",
       "      <td>3368.87</td>\n",
       "      <td>3346.89</td>\n",
       "      <td>87459114.0</td>\n",
       "      <td>sz399300</td>\n",
       "    </tr>\n",
       "    <tr>\n",
       "      <th>4</th>\n",
       "      <td>2017-01-09</td>\n",
       "      <td>3345.75</td>\n",
       "      <td>3363.90</td>\n",
       "      <td>3366.22</td>\n",
       "      <td>3344.35</td>\n",
       "      <td>83707942.0</td>\n",
       "      <td>sz399300</td>\n",
       "    </tr>\n",
       "  </tbody>\n",
       "</table>\n",
       "</div>"
      ],
      "text/plain": [
       "         date     open    close     high      low      volume      code\n",
       "0  2017-01-03  3313.95  3342.23  3345.26  3313.95  86567896.0  sz399300\n",
       "1  2017-01-04  3340.56  3368.31  3369.57  3338.15  90050827.0  sz399300\n",
       "2  2017-01-05  3368.34  3367.79  3373.41  3361.46  88336357.0  sz399300\n",
       "3  2017-01-06  3366.85  3347.67  3368.87  3346.89  87459114.0  sz399300\n",
       "4  2017-01-09  3345.75  3363.90  3366.22  3344.35  83707942.0  sz399300"
      ]
     },
     "execution_count": 20,
     "metadata": {},
     "output_type": "execute_result"
    }
   ],
   "source": [
    "data.head()"
   ]
  },
  {
   "cell_type": "code",
   "execution_count": null,
   "metadata": {
    "collapsed": true
   },
   "outputs": [],
   "source": []
  }
 ],
 "metadata": {
  "kernelspec": {
   "display_name": "Python 3",
   "language": "python",
   "name": "python3"
  },
  "language_info": {
   "codemirror_mode": {
    "name": "ipython",
    "version": 3
   },
   "file_extension": ".py",
   "mimetype": "text/x-python",
   "name": "python",
   "nbconvert_exporter": "python",
   "pygments_lexer": "ipython3",
   "version": "3.5.2"
  }
 },
 "nbformat": 4,
 "nbformat_minor": 2
}
